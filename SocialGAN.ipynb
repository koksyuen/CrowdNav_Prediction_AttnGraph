{
 "cells": [
  {
   "cell_type": "markdown",
   "id": "19fdf581-fb91-4d44-886a-abad2ca10c48",
   "metadata": {
    "tags": []
   },
   "source": [
    "# Frame Transformation"
   ]
  },
  {
   "cell_type": "code",
   "execution_count": 177,
   "id": "4b6bc598-d8b2-4784-b42c-4b31f32be0be",
   "metadata": {
    "tags": []
   },
   "outputs": [],
   "source": [
    "import numpy as np"
   ]
  },
  {
   "cell_type": "code",
   "execution_count": 160,
   "id": "0a9f3eb6-663e-462b-89d9-38188924162b",
   "metadata": {
    "tags": []
   },
   "outputs": [],
   "source": [
    "def global_to_local(traj_global, dx, dy, theta):\n",
    "    \"\"\"\n",
    "    convert coordinates from global frame to robot (local) frame\n",
    "    traj_global: array of humans' trajectories (traj_len, num_of_human, 2) in the global frame\n",
    "    dx: x-coordinate of robot in global frame\n",
    "    dy: y-coordinate of robot in global frame\n",
    "    theta: theta of robot in global frame\n",
    "    :return: array of humans' trajectories (traj_len, num_of_human, 2) in the local (robot) frame\n",
    "    \"\"\"\n",
    "\n",
    "    T_w_r = np.array([[np.cos(theta), - np.sin(theta), dx],\n",
    "                      [np.sin(theta), np.cos(theta), dy],\n",
    "                      [0, 0, 1]])  # 2D transformation matrix\n",
    "\n",
    "    # T ^ r _ w\n",
    "    T_r_w = np.linalg.inv(T_w_r)\n",
    "    # add the homogeneous coordinate\n",
    "    traj_global_hom = np.concatenate([traj_global, np.ones((traj_global.shape[0], traj_global.shape[1], 1))], axis=2)\n",
    "    traj_local_hom = np.tensordot(traj_global_hom, T_r_w, axes=([2], [1]))\n",
    "    traj_local = traj_local_hom[:,:,:-1]   # remove the homogeneous coordinate\n",
    "    return traj_local"
   ]
  },
  {
   "cell_type": "code",
   "execution_count": 167,
   "id": "1d25968a-0da0-4835-b13a-ff0864e0519f",
   "metadata": {
    "tags": []
   },
   "outputs": [],
   "source": [
    "def A_to_B(A_p, A_x_B, A_y_B, A_theta_B):\n",
    "    \"\"\"\n",
    "    convert coordinate from frame A to frame B\n",
    "    A_p: coordinate in frame A (x, y)\n",
    "    A_x_B: x-coordinate of frame B in frame A\n",
    "    A_y_B: y-coordinate of frame B in frame A\n",
    "    A_theta_B: theta of frame B in frame A\n",
    "    :return: coordinate in frame B (x, y)\n",
    "    \"\"\"\n",
    "\n",
    "    theta = A_theta_B\n",
    "    A_T_B = np.array([[np.cos(theta), -np.sin(theta), A_x_B],\n",
    "                         [np.sin(theta), np.cos(theta), A_y_B],\n",
    "                         [0, 0, 1]])  # 2D transformation matrix\n",
    "\n",
    "    B_T_A = np.linalg.inv(A_T_B)\n",
    "\n",
    "    # Transform the point into the new coordinate frame\n",
    "    # B_p = B_T_A * A_p\n",
    "    B_p = np.dot(B_T_A, np.hstack((A_p, 1)))\n",
    "\n",
    "    return B_p[:-1]   # remove the homogeneous coordinate"
   ]
  },
  {
   "cell_type": "code",
   "execution_count": 168,
   "id": "d73174e7-4c56-4a95-bd41-e989e063eb5f",
   "metadata": {
    "tags": []
   },
   "outputs": [],
   "source": [
    "# Define the original coordinates in the old coordinate frame\n",
    "traj = np.array([[[2, 3], [4, 5]],\n",
    "                 [[2, 3], [5, 6]],\n",
    "                 [[10, 11], [12, 13]],\n",
    "                 [[3, 4], [6, 8]]])"
   ]
  },
  {
   "cell_type": "code",
   "execution_count": 173,
   "id": "394dc255-80b0-43b3-9d61-dd111d7774af",
   "metadata": {
    "tags": []
   },
   "outputs": [
    {
     "data": {
      "text/plain": [
       "array([[[  0.,   0.],\n",
       "        [  2.,  -2.]],\n",
       "\n",
       "       [[  0.,   0.],\n",
       "        [  3.,  -3.]],\n",
       "\n",
       "       [[  8.,  -8.],\n",
       "        [ 10., -10.]],\n",
       "\n",
       "       [[  1.,  -1.],\n",
       "        [  5.,  -4.]]])"
      ]
     },
     "execution_count": 173,
     "metadata": {},
     "output_type": "execute_result"
    }
   ],
   "source": [
    "global_to_local(traj, dx=2, dy=3, theta=np.pi/2)"
   ]
  },
  {
   "cell_type": "code",
   "execution_count": 171,
   "id": "adb279fe-c1de-4295-81e8-3dc8e713772c",
   "metadata": {
    "tags": []
   },
   "outputs": [
    {
     "data": {
      "text/plain": [
       "array([ 5., -4.])"
      ]
     },
     "execution_count": 171,
     "metadata": {},
     "output_type": "execute_result"
    }
   ],
   "source": [
    "A_to_B(traj[3,1], A_x_B=2, A_y_B=3, A_theta_B=np.pi/2)"
   ]
  },
  {
   "cell_type": "markdown",
   "id": "3bd7ffa4-5aea-47e9-80dc-ef1e6619bac9",
   "metadata": {
    "tags": []
   },
   "source": [
    "# Absolute coordinate system to Relative coordinate system"
   ]
  },
  {
   "cell_type": "code",
   "execution_count": 174,
   "id": "78a05480",
   "metadata": {
    "tags": []
   },
   "outputs": [],
   "source": [
    "import numpy as np\n",
    "\n",
    "def abs_to_relative(abs_traj):\n",
    "    \"\"\"\n",
    "    Inputs:\n",
    "    - abs_traj: numpy of shape (seq_len, batch, 2)\n",
    "    Outputs:\n",
    "    - rel_traj: numpy of shape (seq_len, batch, 2)\n",
    "    \"\"\"\n",
    "    rel_traj = np.zeros(abs_traj.shape)\n",
    "    rel_traj[1:, :, :] = abs_traj[1:, :, :] - abs_traj[:-1, :, :]\n",
    "    return rel_traj"
   ]
  },
  {
   "cell_type": "code",
   "execution_count": 175,
   "id": "4e5667db",
   "metadata": {
    "tags": []
   },
   "outputs": [],
   "source": [
    "# seq_len, batch, 2\n",
    "abs_traj = np.array([[[1, 2], [4, 5]],\n",
    "                     [[2, 3], [5, 6]],\n",
    "                     [[3, 4], [6, 8]]])"
   ]
  },
  {
   "cell_type": "code",
   "execution_count": 176,
   "id": "f036a0e3",
   "metadata": {
    "tags": []
   },
   "outputs": [
    {
     "data": {
      "text/plain": [
       "array([[[0., 0.],\n",
       "        [0., 0.]],\n",
       "\n",
       "       [[1., 1.],\n",
       "        [1., 1.]],\n",
       "\n",
       "       [[1., 1.],\n",
       "        [1., 2.]]])"
      ]
     },
     "execution_count": 176,
     "metadata": {},
     "output_type": "execute_result"
    }
   ],
   "source": [
    "abs_to_relative(abs_traj)"
   ]
  },
  {
   "cell_type": "markdown",
   "id": "f8e0803c-a171-48b8-b837-baf96adf4621",
   "metadata": {},
   "source": [
    "# Local Map Generation"
   ]
  },
  {
   "cell_type": "code",
   "execution_count": 178,
   "id": "391c742f-03d5-4c87-95ee-67ee36b0be94",
   "metadata": {
    "tags": []
   },
   "outputs": [
    {
     "data": {
      "text/plain": [
       "8.485281374238571"
      ]
     },
     "execution_count": 178,
     "metadata": {},
     "output_type": "execute_result"
    }
   ],
   "source": [
    "6 * np.sqrt(2)"
   ]
  },
  {
   "cell_type": "code",
   "execution_count": 179,
   "id": "bfead9bc-69ec-44c2-aec0-230b6a159578",
   "metadata": {
    "tags": []
   },
   "outputs": [
    {
     "data": {
      "text/plain": [
       "5.0"
      ]
     },
     "execution_count": 179,
     "metadata": {},
     "output_type": "execute_result"
    }
   ],
   "source": [
    "1/.2"
   ]
  },
  {
   "cell_type": "markdown",
   "id": "844d6eff-2ebe-4291-8977-b95095aa2756",
   "metadata": {
    "jp-MarkdownHeadingCollapsed": true,
    "tags": []
   },
   "source": [
    "# SocialGAN"
   ]
  },
  {
   "cell_type": "code",
   "execution_count": null,
   "id": "0cc57310",
   "metadata": {
    "tags": []
   },
   "outputs": [],
   "source": [
    "import sys\n",
    "# setting path\n",
    "sys.path.append('../sgan')\n",
    "\n",
    "from predictor import socialGAN"
   ]
  },
  {
   "cell_type": "code",
   "execution_count": null,
   "id": "847c760b",
   "metadata": {},
   "outputs": [],
   "source": [
    "traj_predictor = socialGAN(model_path='../sgan/models/sgan-p-models/eth_8_model.pt')"
   ]
  }
 ],
 "metadata": {
  "kernelspec": {
   "display_name": "Python 3 (ipykernel)",
   "language": "python",
   "name": "python3"
  },
  "language_info": {
   "codemirror_mode": {
    "name": "ipython",
    "version": 3
   },
   "file_extension": ".py",
   "mimetype": "text/x-python",
   "name": "python",
   "nbconvert_exporter": "python",
   "pygments_lexer": "ipython3",
   "version": "3.8.0"
  }
 },
 "nbformat": 4,
 "nbformat_minor": 5
}
