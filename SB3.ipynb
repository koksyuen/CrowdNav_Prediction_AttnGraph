{
 "cells": [
  {
   "cell_type": "code",
   "execution_count": 5,
   "id": "5871a3ed-fe8b-4af6-9003-dbcdaa2ab058",
   "metadata": {},
   "outputs": [
    {
     "data": {
      "text/plain": [
       "255"
      ]
     },
     "execution_count": 5,
     "metadata": {},
     "output_type": "execute_result"
    }
   ],
   "source": [
    "import numpy as np\n",
    "np.iinfo(np.uint8).max"
   ]
  },
  {
   "cell_type": "code",
   "execution_count": 28,
   "id": "8c056b7d-477c-4b6a-bd17-6ead03175bd4",
   "metadata": {},
   "outputs": [
    {
     "data": {
      "text/plain": [
       "(8, 4, 2)"
      ]
     },
     "execution_count": 28,
     "metadata": {},
     "output_type": "execute_result"
    }
   ],
   "source": [
    "pred_humans_traj = np.random.rand(8, 4, 2)\n",
    "pred_humans_traj.shape"
   ]
  },
  {
   "cell_type": "code",
   "execution_count": 30,
   "id": "e7d4da32-3bcf-449b-8cdf-e035d2e56cbd",
   "metadata": {},
   "outputs": [],
   "source": [
    "x = 5.0\n",
    "y = 6.0\n",
    "dq = np.hypot(x-pred_humans_traj[:,:,0], y-pred_humans_traj[:,:,1])"
   ]
  },
  {
   "cell_type": "code",
   "execution_count": 31,
   "id": "fd1bbbd7-70cb-4372-8894-7213e0cf1830",
   "metadata": {},
   "outputs": [
    {
     "data": {
      "text/plain": [
       "(8, 4)"
      ]
     },
     "execution_count": 31,
     "metadata": {},
     "output_type": "execute_result"
    }
   ],
   "source": [
    "dq.shape"
   ]
  },
  {
   "cell_type": "code",
   "execution_count": 37,
   "id": "6602a467-47b4-4a89-a926-8790918899d0",
   "metadata": {},
   "outputs": [],
   "source": [
    "emotions = np.array({'happy': 0.3312,'neutral': 0.2668,'angry': 0.2193})"
   ]
  },
  {
   "cell_type": "code",
   "execution_count": 38,
   "id": "7d9181f9-c5e3-4af4-9226-70fcdc031ee2",
   "metadata": {},
   "outputs": [],
   "source": [
    "human_emotion = np.array(['happy', 'happy', 'happy', 'angry'])"
   ]
  },
  {
   "cell_type": "code",
   "execution_count": 40,
   "id": "df4747c8-a727-46e6-a7b9-f4f3f66bbeb5",
   "metadata": {},
   "outputs": [
    {
     "ename": "IndexError",
     "evalue": "arrays used as indices must be of integer (or boolean) type",
     "output_type": "error",
     "traceback": [
      "\u001b[0;31m---------------------------------------------------------------------------\u001b[0m",
      "\u001b[0;31mIndexError\u001b[0m                                Traceback (most recent call last)",
      "Input \u001b[0;32mIn [40]\u001b[0m, in \u001b[0;36m<cell line: 1>\u001b[0;34m()\u001b[0m\n\u001b[0;32m----> 1\u001b[0m comfort_dist \u001b[38;5;241m=\u001b[39m \u001b[43memotions\u001b[49m\u001b[43m[\u001b[49m\u001b[43mhuman_emotion\u001b[49m\u001b[43m]\u001b[49m\n",
      "\u001b[0;31mIndexError\u001b[0m: arrays used as indices must be of integer (or boolean) type"
     ]
    }
   ],
   "source": [
    "comfort_dist = emotions[human_emotion]"
   ]
  },
  {
   "cell_type": "code",
   "execution_count": 50,
   "id": "1c7a3f94-7734-4f05-b679-c57d2885be4d",
   "metadata": {},
   "outputs": [
    {
     "data": {
      "text/plain": [
       "array([[10,  2],\n",
       "       [ 2,  3],\n",
       "       [ 3,  6]])"
      ]
     },
     "execution_count": 50,
     "metadata": {},
     "output_type": "execute_result"
    }
   ],
   "source": [
    "import numpy as np\n",
    "A = [[10, 2], [2,3], [3,6]]\n",
    "AA = np.array(A)\n",
    "AA"
   ]
  },
  {
   "cell_type": "code",
   "execution_count": 67,
   "id": "f1de26f9-0680-4d0e-be71-5f7363780e62",
   "metadata": {},
   "outputs": [],
   "source": [
    "map_size = 7*2\n",
    "reso = 0.1\n",
    "\n",
    "center = map_size / 2\n",
    "index = int(round((map_size / reso)))\n",
    "\n",
    "pmap_y, pmap_x = np.meshgrid(np.linspace(center, -center, index), np.linspace(center, -center, index))\n",
    "pmap = np.stack([pmap_x, pmap_y], axis=-1)"
   ]
  },
  {
   "cell_type": "code",
   "execution_count": 68,
   "id": "61d554ef-1178-4c5f-80fa-19ae76fb3aa8",
   "metadata": {},
   "outputs": [
    {
     "data": {
      "text/plain": [
       "(140, 140, 2)"
      ]
     },
     "execution_count": 68,
     "metadata": {},
     "output_type": "execute_result"
    }
   ],
   "source": [
    "pmap.shape"
   ]
  },
  {
   "cell_type": "code",
   "execution_count": 69,
   "id": "0fc4e048-9a03-4b51-97eb-99ff3d86be40",
   "metadata": {},
   "outputs": [
    {
     "data": {
      "text/plain": [
       "array([[[ 7.        ,  7.        ],\n",
       "        [ 7.        ,  6.89928058],\n",
       "        [ 7.        ,  6.79856115],\n",
       "        ...,\n",
       "        [ 7.        , -6.79856115],\n",
       "        [ 7.        , -6.89928058],\n",
       "        [ 7.        , -7.        ]],\n",
       "\n",
       "       [[ 6.89928058,  7.        ],\n",
       "        [ 6.89928058,  6.89928058],\n",
       "        [ 6.89928058,  6.79856115],\n",
       "        ...,\n",
       "        [ 6.89928058, -6.79856115],\n",
       "        [ 6.89928058, -6.89928058],\n",
       "        [ 6.89928058, -7.        ]],\n",
       "\n",
       "       [[ 6.79856115,  7.        ],\n",
       "        [ 6.79856115,  6.89928058],\n",
       "        [ 6.79856115,  6.79856115],\n",
       "        ...,\n",
       "        [ 6.79856115, -6.79856115],\n",
       "        [ 6.79856115, -6.89928058],\n",
       "        [ 6.79856115, -7.        ]],\n",
       "\n",
       "       ...,\n",
       "\n",
       "       [[-6.79856115,  7.        ],\n",
       "        [-6.79856115,  6.89928058],\n",
       "        [-6.79856115,  6.79856115],\n",
       "        ...,\n",
       "        [-6.79856115, -6.79856115],\n",
       "        [-6.79856115, -6.89928058],\n",
       "        [-6.79856115, -7.        ]],\n",
       "\n",
       "       [[-6.89928058,  7.        ],\n",
       "        [-6.89928058,  6.89928058],\n",
       "        [-6.89928058,  6.79856115],\n",
       "        ...,\n",
       "        [-6.89928058, -6.79856115],\n",
       "        [-6.89928058, -6.89928058],\n",
       "        [-6.89928058, -7.        ]],\n",
       "\n",
       "       [[-7.        ,  7.        ],\n",
       "        [-7.        ,  6.89928058],\n",
       "        [-7.        ,  6.79856115],\n",
       "        ...,\n",
       "        [-7.        , -6.79856115],\n",
       "        [-7.        , -6.89928058],\n",
       "        [-7.        , -7.        ]]])"
      ]
     },
     "execution_count": 69,
     "metadata": {},
     "output_type": "execute_result"
    }
   ],
   "source": [
    "pmap"
   ]
  },
  {
   "cell_type": "code",
   "execution_count": 55,
   "id": "8664b072-1b28-42be-b015-627b8eb12433",
   "metadata": {},
   "outputs": [
    {
     "name": "stdout",
     "output_type": "stream",
     "text": [
      "[[[0 0]\n",
      "  [1 0]\n",
      "  [2 0]\n",
      "  [3 0]\n",
      "  [4 0]\n",
      "  [5 0]]\n",
      "\n",
      " [[0 1]\n",
      "  [1 1]\n",
      "  [2 1]\n",
      "  [3 1]\n",
      "  [4 1]\n",
      "  [5 1]]\n",
      "\n",
      " [[0 2]\n",
      "  [1 2]\n",
      "  [2 2]\n",
      "  [3 2]\n",
      "  [4 2]\n",
      "  [5 2]]\n",
      "\n",
      " [[0 3]\n",
      "  [1 3]\n",
      "  [2 3]\n",
      "  [3 3]\n",
      "  [4 3]\n",
      "  [5 3]]]\n"
     ]
    }
   ],
   "source": [
    "x, y = np.meshgrid(np.arange(6), np.arange(4))\n",
    "array = np.stack([x, y], axis=-1)\n",
    "\n",
    "print(array)"
   ]
  },
  {
   "cell_type": "code",
   "execution_count": 51,
   "id": "ca5f3aff-8b10-4d98-aebb-317085934930",
   "metadata": {},
   "outputs": [
    {
     "data": {
      "text/plain": [
       "(3, 2)"
      ]
     },
     "execution_count": 51,
     "metadata": {},
     "output_type": "execute_result"
    }
   ],
   "source": [
    "AA.shape"
   ]
  },
  {
   "cell_type": "code",
   "execution_count": 52,
   "id": "c288a3a4-7b19-4662-92e6-99fa49bc26a3",
   "metadata": {},
   "outputs": [
    {
     "data": {
      "text/plain": [
       "(2,)"
      ]
     },
     "execution_count": 52,
     "metadata": {},
     "output_type": "execute_result"
    }
   ],
   "source": [
    "X = [3, 2]\n",
    "X = np.array(X)\n",
    "X.shape"
   ]
  },
  {
   "cell_type": "code",
   "execution_count": 53,
   "id": "1d7cdf99-2612-459c-a379-867b4f53024b",
   "metadata": {},
   "outputs": [],
   "source": [
    "AA[AA<X] = 0"
   ]
  },
  {
   "cell_type": "code",
   "execution_count": 54,
   "id": "fc978afd-9b1e-4790-9633-2a5c3ea39d85",
   "metadata": {},
   "outputs": [
    {
     "data": {
      "text/plain": [
       "array([[10,  2],\n",
       "       [ 0,  3],\n",
       "       [ 3,  6]])"
      ]
     },
     "execution_count": 54,
     "metadata": {},
     "output_type": "execute_result"
    }
   ],
   "source": [
    "AA"
   ]
  },
  {
   "cell_type": "code",
   "execution_count": 23,
   "id": "7801a962-7931-4c50-81d6-d96975e7f0f3",
   "metadata": {},
   "outputs": [
    {
     "data": {
      "text/plain": [
       "array([[ 5],\n",
       "       [10]])"
      ]
     },
     "execution_count": 23,
     "metadata": {},
     "output_type": "execute_result"
    }
   ],
   "source": [
    "B = np.array([5, 10])\n",
    "B = B.reshape(2, 1)\n",
    "B"
   ]
  },
  {
   "cell_type": "code",
   "execution_count": 24,
   "id": "866438e1-3ac2-47a3-b425-2787141b1549",
   "metadata": {},
   "outputs": [
    {
     "ename": "ValueError",
     "evalue": "operands could not be broadcast together with shapes (3,2) (2,1) ",
     "output_type": "error",
     "traceback": [
      "\u001b[0;31m---------------------------------------------------------------------------\u001b[0m",
      "\u001b[0;31mValueError\u001b[0m                                Traceback (most recent call last)",
      "Input \u001b[0;32mIn [24]\u001b[0m, in \u001b[0;36m<cell line: 1>\u001b[0;34m()\u001b[0m\n\u001b[0;32m----> 1\u001b[0m C \u001b[38;5;241m=\u001b[39m \u001b[43mAA\u001b[49m\u001b[43m \u001b[49m\u001b[38;5;241;43m*\u001b[39;49m\u001b[43m \u001b[49m\u001b[43mB\u001b[49m\n",
      "\u001b[0;31mValueError\u001b[0m: operands could not be broadcast together with shapes (3,2) (2,1) "
     ]
    }
   ],
   "source": [
    "C = AA * B"
   ]
  },
  {
   "cell_type": "code",
   "execution_count": 10,
   "id": "b455d65c-c7f2-40a7-be3f-82eb7014508a",
   "metadata": {},
   "outputs": [
    {
     "data": {
      "text/plain": [
       "(3, 2)"
      ]
     },
     "execution_count": 10,
     "metadata": {},
     "output_type": "execute_result"
    }
   ],
   "source": [
    "AA.shape"
   ]
  },
  {
   "cell_type": "code",
   "execution_count": 17,
   "id": "a239baf4-99bd-4329-acb3-a82e8480a956",
   "metadata": {},
   "outputs": [
    {
     "data": {
      "text/plain": [
       "(2, 1)"
      ]
     },
     "execution_count": 17,
     "metadata": {},
     "output_type": "execute_result"
    }
   ],
   "source": [
    "B.shape"
   ]
  },
  {
   "cell_type": "code",
   "execution_count": 9,
   "id": "8f28f848-6ea4-4a81-b2e3-5395336c3b42",
   "metadata": {},
   "outputs": [
    {
     "data": {
      "text/plain": [
       "(3, 2)"
      ]
     },
     "execution_count": 9,
     "metadata": {},
     "output_type": "execute_result"
    }
   ],
   "source": [
    "C.shape"
   ]
  },
  {
   "cell_type": "code",
   "execution_count": 7,
   "id": "8245df82-aabc-4c40-86fc-ca96da8f6fa1",
   "metadata": {},
   "outputs": [
    {
     "data": {
      "text/plain": [
       "array([[ 5, 20],\n",
       "       [10, 30],\n",
       "       [15, 60]])"
      ]
     },
     "execution_count": 7,
     "metadata": {},
     "output_type": "execute_result"
    }
   ],
   "source": [
    "C"
   ]
  },
  {
   "cell_type": "code",
   "execution_count": 3,
   "id": "81bba5b0-0a89-4b7b-95de-889ad59fb739",
   "metadata": {},
   "outputs": [
    {
     "data": {
      "text/plain": [
       "[1.0,\n",
       " 0.9,\n",
       " 0.81,\n",
       " 0.7290000000000001,\n",
       " 0.6561,\n",
       " 0.5904900000000001,\n",
       " 0.531441,\n",
       " 0.4782969000000001]"
      ]
     },
     "execution_count": 3,
     "metadata": {},
     "output_type": "execute_result"
    }
   ],
   "source": [
    "arr = []\n",
    "for i in range(8):\n",
    "    arr.append(0.9**i)\n",
    "arr"
   ]
  },
  {
   "cell_type": "code",
   "execution_count": 1,
   "id": "02be38e2-3a6e-40b3-98ba-1a8308805ccb",
   "metadata": {},
   "outputs": [
    {
     "name": "stdout",
     "output_type": "stream",
     "text": [
      "0\n",
      "1\n",
      "2\n",
      "3\n",
      "4\n",
      "5\n",
      "6\n",
      "7\n",
      "8\n",
      "9\n"
     ]
    }
   ],
   "source": [
    "for i in range(10):\n",
    "    print(i)"
   ]
  },
  {
   "cell_type": "code",
   "execution_count": 19,
   "id": "c92a169d-33d4-47a2-9a66-8f3ed1f92045",
   "metadata": {},
   "outputs": [],
   "source": [
    "import numpy as np\n",
    "map_size = 10\n",
    "pmap = np.zeros((map_size, map_size), dtype=np.uint8)"
   ]
  },
  {
   "cell_type": "code",
   "execution_count": 20,
   "id": "736acfb9-c048-42d7-ae8d-d091ab61f70f",
   "metadata": {},
   "outputs": [
    {
     "data": {
      "text/plain": [
       "array([[0, 0, 0, 0, 0, 0, 0, 0, 0, 0],\n",
       "       [0, 0, 0, 0, 0, 0, 0, 0, 0, 0],\n",
       "       [0, 0, 0, 0, 0, 0, 0, 0, 0, 0],\n",
       "       [0, 0, 0, 0, 0, 0, 0, 0, 0, 0],\n",
       "       [0, 0, 0, 0, 0, 0, 0, 0, 0, 0],\n",
       "       [0, 0, 0, 0, 0, 0, 0, 0, 0, 0],\n",
       "       [0, 0, 0, 0, 0, 0, 0, 0, 0, 0],\n",
       "       [0, 0, 0, 0, 0, 0, 0, 0, 0, 0],\n",
       "       [0, 0, 0, 0, 0, 0, 0, 0, 0, 0],\n",
       "       [0, 0, 0, 0, 0, 0, 0, 0, 0, 0]], dtype=uint8)"
      ]
     },
     "execution_count": 20,
     "metadata": {},
     "output_type": "execute_result"
    }
   ],
   "source": [
    "pmap"
   ]
  },
  {
   "cell_type": "code",
   "execution_count": 66,
   "id": "f3e9b231-8f04-43ec-ac14-d67912c48419",
   "metadata": {},
   "outputs": [
    {
     "data": {
      "text/plain": [
       "<matplotlib.image.AxesImage at 0x7efd39a0cf70>"
      ]
     },
     "execution_count": 66,
     "metadata": {},
     "output_type": "execute_result"
    },
    {
     "data": {
      "image/png": "[encoded data removed]",
      "text/plain": [
       "<Figure size 432x288 with 1 Axes>"
      ]
     },
     "metadata": {
      "needs_background": "light"
     },
     "output_type": "display_data"
    }
   ],
   "source": [
    "import matplotlib.pyplot as plt\n",
    "pmap = np.array([[0, 0],[0,100]])\n",
    "plt.imshow(pmap)"
   ]
  },
  {
   "cell_type": "code",
   "execution_count": 25,
   "id": "0b04c638-5ca6-425d-b271-1f7650fb910e",
   "metadata": {},
   "outputs": [
    {
     "data": {
      "text/plain": [
       "<matplotlib.image.AxesImage at 0x7f0100ce0220>"
      ]
     },
     "execution_count": 25,
     "metadata": {},
     "output_type": "execute_result"
    },
    {
     "data": {
      "image/png": "[encoded data removed]",
      "text/plain": [
       "<Figure size 432x288 with 1 Axes>"
      ]
     },
     "metadata": {
      "needs_background": "light"
     },
     "output_type": "display_data"
    }
   ],
   "source": [
    "for x in range(map_size):\n",
    "    for y in range(map_size):\n",
    "        pmap[x,y] = 200\n",
    "plt.imshow(pmap)"
   ]
  },
  {
   "cell_type": "code",
   "execution_count": 26,
   "id": "1cfc3374-c264-4a2b-9eda-c42e7730d68d",
   "metadata": {},
   "outputs": [
    {
     "data": {
      "text/plain": [
       "array([[200, 200, 200, 200, 200, 200, 200, 200, 200, 200],\n",
       "       [200, 200, 200, 200, 200, 200, 200, 200, 200, 200],\n",
       "       [200, 200, 200, 200, 200, 200, 200, 200, 200, 200],\n",
       "       [200, 200, 200, 200, 200, 200, 200, 200, 200, 200],\n",
       "       [200, 200, 200, 200, 200, 200, 200, 200, 200, 200],\n",
       "       [200, 200, 200, 200, 200, 200, 200, 200, 200, 200],\n",
       "       [200, 200, 200, 200, 200, 200, 200, 200, 200, 200],\n",
       "       [200, 200, 200, 200, 200, 200, 200, 200, 200, 200],\n",
       "       [200, 200, 200, 200, 200, 200, 200, 200, 200, 200],\n",
       "       [200, 200, 200, 200, 200, 200, 200, 200, 200, 200]], dtype=uint8)"
      ]
     },
     "execution_count": 26,
     "metadata": {},
     "output_type": "execute_result"
    }
   ],
   "source": [
    "pmap"
   ]
  },
  {
   "cell_type": "code",
   "execution_count": null,
   "id": "7642b41b-36a0-46b0-abb2-b54ec9c5cad3",
   "metadata": {},
   "outputs": [],
   "source": []
  },
  {
   "cell_type": "code",
   "execution_count": 1,
   "id": "e97b4997",
   "metadata": {},
   "outputs": [],
   "source": [
    "# from crowd_sim import *\n",
    "import gym\n",
    "import time"
   ]
  },
  {
   "cell_type": "code",
   "execution_count": 2,
   "id": "6f63cd2e-0473-4363-889f-8e0bfe941e5d",
   "metadata": {
    "tags": []
   },
   "outputs": [
    {
     "name": "stderr",
     "output_type": "stream",
     "text": [
      "/home/koksyuen/anaconda3/envs/rl/lib/python3.8/site-packages/tqdm/auto.py:21: TqdmWarning: IProgress not found. Please update jupyter and ipywidgets. See https://ipywidgets.readthedocs.io/en/stable/user_install.html\n",
      "  from .autonotebook import tqdm as notebook_tqdm\n"
     ]
    }
   ],
   "source": [
    "from crowd_sim.envs.crowd_sim_sgan import CrowdSimSgan"
   ]
  },
  {
   "cell_type": "code",
   "execution_count": 3,
   "id": "6e97e612",
   "metadata": {},
   "outputs": [],
   "source": [
    "import matplotlib.pyplot as plt\n",
    "%matplotlib tk"
   ]
  },
  {
   "cell_type": "code",
   "execution_count": null,
   "id": "bfafa5df",
   "metadata": {},
   "outputs": [],
   "source": [
    "from arguments import get_args\n",
    "from crowd_nav.configs.config import Config"
   ]
  },
  {
   "cell_type": "code",
   "execution_count": null,
   "id": "b0ac9221",
   "metadata": {},
   "outputs": [],
   "source": [
    "# env_id = 'CrowdSim-v0'\n",
    "# env_id = 'CrowdSimVarNum-v0'\n",
    "env_id = 'CrowdSimSgan-v0'\n",
    "\n",
    "env = gym.make(env_id)"
   ]
  },
  {
   "cell_type": "code",
   "execution_count": null,
   "id": "120f25ea-e911-4e87-95c0-60570abf990b",
   "metadata": {
    "tags": []
   },
   "outputs": [],
   "source": [
    "env = CrowdSimSgan()"
   ]
  },
  {
   "cell_type": "code",
   "execution_count": null,
   "id": "545b71de",
   "metadata": {},
   "outputs": [],
   "source": [
    "env_config = Config()\n",
    "env.configure(env_config)"
   ]
  },
  {
   "cell_type": "code",
   "execution_count": 4,
   "id": "43cc21be",
   "metadata": {},
   "outputs": [
    {
     "data": {
      "image/png": "[encoded data removed]",
      "text/plain": [
       "<Figure size 504x504 with 1 Axes>"
      ]
     },
     "metadata": {
      "needs_background": "light"
     },
     "output_type": "display_data"
    }
   ],
   "source": [
    "fig = plt.figure(figsize=(7, 7))\n",
    "ax1 = plt.subplot()\n",
    "ax1.set_xlim(-10, 10)\n",
    "ax1.set_ylim(-10, 10)\n",
    "ax1.set_xlabel('x(m)', fontsize=16)\n",
    "ax1.set_ylabel('y(m)', fontsize=16)\n",
    "\n",
    "# ax2 = plt.subplot(122)\n",
    "\n",
    "plt.ion()\n",
    "plt.show()"
   ]
  },
  {
   "cell_type": "code",
   "execution_count": null,
   "id": "a0fa5ec6",
   "metadata": {},
   "outputs": [],
   "source": [
    "env.setup(seed=10, num_of_env=1, ax=ax1)"
   ]
  },
  {
   "cell_type": "code",
   "execution_count": null,
   "id": "d1c5cf0c",
   "metadata": {},
   "outputs": [],
   "source": [
    "episodes = 5\n",
    "for episode in range(1, episodes+1):\n",
    "    state = env.reset()\n",
    "    # ax2.imshow(state['local_map'], cmap='gray')\n",
    "    done = False\n",
    "    score = 0 \n",
    "    avg_time = 0\n",
    "    step = 0\n",
    "    \n",
    "    while not done:\n",
    "        env.render()\n",
    "        action = (0.1, 0.01)\n",
    "        start_time = time.time()\n",
    "        n_state, reward, done, info = env.step(action)\n",
    "        end_time = time.time()\n",
    "        avg_time += (end_time - start_time)\n",
    "        step += 1\n",
    "        # ax2.imshow(n_state['local_map'], cmap='gray')\n",
    "        score+=reward\n",
    "    print('Episode:{} Score:{}'.format(episode, score))\n",
    "    print('average step time ({} steps): {}s'.format(step, avg_time/step))\n",
    "env.close()"
   ]
  },
  {
   "cell_type": "code",
   "execution_count": null,
   "id": "4449c696-f3a5-4730-b3a8-e4c28036f157",
   "metadata": {
    "tags": []
   },
   "outputs": [],
   "source": [
    "import seaborn as sns\n",
    "\n",
    "cmap = sns.color_palette(\"gray\", 256)\n",
    "\n",
    "sns.heatmap(n_state['local_map'], cmap=cmap)"
   ]
  },
  {
   "cell_type": "code",
   "execution_count": null,
   "id": "7e10b863-07b6-4fc8-a78d-68902ebccb82",
   "metadata": {
    "tags": []
   },
   "outputs": [],
   "source": [
    "n_state['local_map']"
   ]
  },
  {
   "cell_type": "code",
   "execution_count": null,
   "id": "7162ef27-1d6a-4e96-b63c-03f301c72c9f",
   "metadata": {
    "tags": []
   },
   "outputs": [],
   "source": [
    "n_state['local_map'].shape"
   ]
  },
  {
   "cell_type": "code",
   "execution_count": null,
   "id": "eaf6830b-7aff-4e78-ac21-1e160b25240d",
   "metadata": {
    "tags": []
   },
   "outputs": [],
   "source": [
    "env.close"
   ]
  },
  {
   "cell_type": "code",
   "execution_count": null,
   "id": "f0b77a4e-f8a9-4c6e-8ae6-cb606fe25e5e",
   "metadata": {
    "tags": []
   },
   "outputs": [],
   "source": [
    "n_state.shape[1]"
   ]
  },
  {
   "cell_type": "code",
   "execution_count": null,
   "id": "9f21453b-d01b-406c-993a-6b0e6de287cb",
   "metadata": {
    "tags": []
   },
   "outputs": [],
   "source": [
    "sgan_path = '/home/koksyuen/python_project/sgan'\n",
    "model_path = '/models/sgan-p-models/eth_8_model.pt'\n",
    "full_path = sgan_path + model_path"
   ]
  },
  {
   "cell_type": "code",
   "execution_count": null,
   "id": "accc43f2-d751-4717-a8d3-b99699090172",
   "metadata": {
    "tags": []
   },
   "outputs": [],
   "source": [
    "full_path"
   ]
  },
  {
   "cell_type": "code",
   "execution_count": null,
   "id": "9398df76-40c1-4116-8a76-589147cbc1a2",
   "metadata": {
    "tags": []
   },
   "outputs": [],
   "source": [
    "import sys\n",
    "# setting path\n",
    "sys.path.append('/home/koksyuen/python_project/sgan')\n",
    "\n",
    "from predictor import socialGAN"
   ]
  },
  {
   "cell_type": "code",
   "execution_count": null,
   "id": "35cb81aa-d49c-4629-837d-db1cb68135b9",
   "metadata": {
    "tags": []
   },
   "outputs": [],
   "source": [
    "traj_predictor = socialGAN(model_path='/home/koksyuen/python_project/sgan/models/sgan-p-models/eth_8_model.pt')"
   ]
  },
  {
   "cell_type": "code",
   "execution_count": null,
   "id": "78b4bfcd-4222-4b4a-8764-e28c08194c06",
   "metadata": {
    "tags": []
   },
   "outputs": [],
   "source": [
    "pred = traj_predictor(n_state)"
   ]
  },
  {
   "cell_type": "code",
   "execution_count": null,
   "id": "6e4e136c-5db0-4724-86c4-3f467f1ce1fd",
   "metadata": {
    "tags": []
   },
   "outputs": [],
   "source": [
    "pred.shape"
   ]
  },
  {
   "cell_type": "code",
   "execution_count": null,
   "id": "72700ed8-30cb-4c85-b827-b5fd83e0207d",
   "metadata": {
    "tags": []
   },
   "outputs": [],
   "source": [
    "pred"
   ]
  },
  {
   "cell_type": "code",
   "execution_count": null,
   "id": "7550529c",
   "metadata": {
    "tags": []
   },
   "outputs": [],
   "source": [
    "from stable_baselines3.common.env_checker import check_env"
   ]
  },
  {
   "cell_type": "code",
   "execution_count": null,
   "id": "5134e260",
   "metadata": {},
   "outputs": [],
   "source": [
    "check_env(env, warn=True)"
   ]
  },
  {
   "cell_type": "code",
   "execution_count": null,
   "id": "966d45ac-1020-48ad-bc9b-85598be4c35c",
   "metadata": {
    "tags": []
   },
   "outputs": [],
   "source": [
    "import numpy as np"
   ]
  },
  {
   "cell_type": "code",
   "execution_count": null,
   "id": "20db3f7d-d961-4948-affc-e77c447a39ce",
   "metadata": {
    "tags": []
   },
   "outputs": [],
   "source": [
    "a = np.zeros((6, 2))"
   ]
  },
  {
   "cell_type": "code",
   "execution_count": null,
   "id": "078bfc38-1bb5-4c66-b965-24f7d70ef65c",
   "metadata": {
    "tags": []
   },
   "outputs": [],
   "source": [
    "b = np.array((1., 2., 5.))"
   ]
  },
  {
   "cell_type": "code",
   "execution_count": null,
   "id": "25baa23a-a5c2-490c-9f9e-38d925828f88",
   "metadata": {
    "tags": []
   },
   "outputs": [],
   "source": [
    "b"
   ]
  },
  {
   "cell_type": "code",
   "execution_count": null,
   "id": "d374476f-e0a9-411d-a246-bd19acef347d",
   "metadata": {
    "tags": []
   },
   "outputs": [],
   "source": [
    "a[:-1,:] = b[:2]"
   ]
  },
  {
   "cell_type": "code",
   "execution_count": null,
   "id": "7caed148-5ae6-44f1-9ed0-c89c2b8b01e6",
   "metadata": {
    "tags": []
   },
   "outputs": [],
   "source": [
    "import numpy as np"
   ]
  },
  {
   "cell_type": "code",
   "execution_count": null,
   "id": "a1c3900a-f2c7-4de7-940f-4d5ec8156719",
   "metadata": {},
   "outputs": [],
   "source": [
    "a = [True, True, False]\n",
    "aa = np.array(a)"
   ]
  },
  {
   "cell_type": "code",
   "execution_count": null,
   "id": "ecf9138c-3648-4c14-a11b-1f8b28111e31",
   "metadata": {
    "tags": []
   },
   "outputs": [],
   "source": [
    "b = np.array([5, 6, 7])"
   ]
  },
  {
   "cell_type": "code",
   "execution_count": null,
   "id": "16a2d191-3b42-46f4-bece-726786d2ca60",
   "metadata": {
    "tags": []
   },
   "outputs": [],
   "source": [
    "aa.shape"
   ]
  },
  {
   "cell_type": "code",
   "execution_count": null,
   "id": "d529f077-30c9-45a9-956d-637b27097ee4",
   "metadata": {
    "tags": []
   },
   "outputs": [],
   "source": [
    "aa[True].shape"
   ]
  },
  {
   "cell_type": "code",
   "execution_count": null,
   "id": "fa29da73-0a35-4e86-9b8e-0b639cd1cfae",
   "metadata": {
    "tags": []
   },
   "outputs": [],
   "source": [
    "aa[0]"
   ]
  },
  {
   "cell_type": "code",
   "execution_count": null,
   "id": "e1713c4c-187f-483f-a36d-5b2a4f1f5490",
   "metadata": {
    "tags": []
   },
   "outputs": [],
   "source": [
    "b[aa].shape"
   ]
  },
  {
   "cell_type": "code",
   "execution_count": null,
   "id": "46b2da11-228b-429c-b34f-47912193d0d1",
   "metadata": {
    "tags": []
   },
   "outputs": [],
   "source": [
    "for i in range(10):\n",
    "    print(i)"
   ]
  },
  {
   "cell_type": "code",
   "execution_count": null,
   "id": "823e77ee-5583-42f6-8403-a4166ac0ce05",
   "metadata": {
    "tags": []
   },
   "outputs": [],
   "source": [
    "import numpy as np"
   ]
  },
  {
   "cell_type": "code",
   "execution_count": null,
   "id": "fc08a090-1459-4efe-b774-5427ed47ba76",
   "metadata": {},
   "outputs": [],
   "source": [
    "np.ceil(2.5)"
   ]
  },
  {
   "cell_type": "code",
   "execution_count": null,
   "id": "779b11f7-6fbf-4c99-b23a-e2832c8c4238",
   "metadata": {
    "tags": []
   },
   "outputs": [],
   "source": [
    "a = np.array(['happy', 'normal', 'angry'])\n",
    "b = np.array([True, False, True])\n",
    "a[b]"
   ]
  },
  {
   "cell_type": "code",
   "execution_count": null,
   "id": "7a7736c5-449b-492c-ae78-17f13018ed2d",
   "metadata": {
    "tags": []
   },
   "outputs": [],
   "source": [
    "traj = np.array([[[2, 3], [4, 5]],\n",
    "                 [[2, 3], [5, 6]],\n",
    "                 [[10, 11], [12, 13]],\n",
    "                 [[3, 4], [6, 8]]])\n",
    "\n",
    "map = np.zeros((10, 10), dtype=np.uint8)"
   ]
  },
  {
   "cell_type": "code",
   "execution_count": null,
   "id": "32e0507d-2684-4a6a-9283-ef311dba411a",
   "metadata": {
    "tags": []
   },
   "outputs": [],
   "source": [
    "map[traj[0,0,0], traj[0,0,1]] = 255"
   ]
  },
  {
   "cell_type": "code",
   "execution_count": null,
   "id": "14e86d9d-80ef-45e4-a067-6e45e848bc9a",
   "metadata": {
    "tags": []
   },
   "outputs": [],
   "source": [
    "map"
   ]
  },
  {
   "cell_type": "code",
   "execution_count": null,
   "id": "a697f05d-8e03-418b-aab6-9241d34479d1",
   "metadata": {
    "tags": []
   },
   "outputs": [],
   "source": [
    "traj[0,0]"
   ]
  },
  {
   "cell_type": "code",
   "execution_count": null,
   "id": "2b978db7-be19-4177-a08f-c66b98eeec74",
   "metadata": {},
   "outputs": [],
   "source": []
  }
 ],
 "metadata": {
  "kernelspec": {
   "display_name": "Python 3",
   "language": "python",
   "name": "python3"
  },
  "language_info": {
   "codemirror_mode": {
    "name": "ipython",
    "version": 3
   },
   "file_extension": ".py",
   "mimetype": "text/x-python",
   "name": "python",
   "nbconvert_exporter": "python",
   "pygments_lexer": "ipython3",
   "version": "3.8.16"
  }
 },
 "nbformat": 4,
 "nbformat_minor": 5
}
