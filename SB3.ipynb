{
 "cells": [
  {
   "cell_type": "code",
   "execution_count": null,
   "id": "e97b4997",
   "metadata": {},
   "outputs": [],
   "source": [
    "# from crowd_sim import *\n",
    "import gym\n",
    "import time"
   ]
  },
  {
   "cell_type": "code",
   "execution_count": null,
   "id": "6f63cd2e-0473-4363-889f-8e0bfe941e5d",
   "metadata": {
    "tags": []
   },
   "outputs": [],
   "source": [
    "from crowd_sim.envs.crowd_sim_sgan import CrowdSimSgan"
   ]
  },
  {
   "cell_type": "code",
   "execution_count": null,
   "id": "6e97e612",
   "metadata": {},
   "outputs": [],
   "source": [
    "import matplotlib.pyplot as plt\n",
    "%matplotlib qt"
   ]
  },
  {
   "cell_type": "code",
   "execution_count": null,
   "id": "bfafa5df",
   "metadata": {},
   "outputs": [],
   "source": [
    "from arguments import get_args\n",
    "from crowd_nav.configs.config import Config"
   ]
  },
  {
   "cell_type": "code",
   "execution_count": null,
   "id": "b0ac9221",
   "metadata": {},
   "outputs": [],
   "source": [
    "# env_id = 'CrowdSim-v0'\n",
    "# env_id = 'CrowdSimVarNum-v0'\n",
    "env_id = 'CrowdSimSgan-v0'\n",
    "\n",
    "env = gym.make(env_id)"
   ]
  },
  {
   "cell_type": "code",
   "execution_count": null,
   "id": "120f25ea-e911-4e87-95c0-60570abf990b",
   "metadata": {
    "tags": []
   },
   "outputs": [],
   "source": [
    "env = CrowdSimSgan()"
   ]
  },
  {
   "cell_type": "code",
   "execution_count": null,
   "id": "545b71de",
   "metadata": {},
   "outputs": [],
   "source": [
    "env_config = Config()\n",
    "env.configure(env_config)"
   ]
  },
  {
   "cell_type": "code",
   "execution_count": null,
   "id": "43cc21be",
   "metadata": {},
   "outputs": [],
   "source": [
    "fig = plt.figure(figsize=(7, 7))\n",
    "ax1 = plt.subplot()\n",
    "ax1.set_xlim(-10, 10)\n",
    "ax1.set_ylim(-10, 10)\n",
    "ax1.set_xlabel('x(m)', fontsize=16)\n",
    "ax1.set_ylabel('y(m)', fontsize=16)\n",
    "\n",
    "# ax2 = plt.subplot(122)\n",
    "\n",
    "plt.ion()\n",
    "plt.show()"
   ]
  },
  {
   "cell_type": "code",
   "execution_count": null,
   "id": "a0fa5ec6",
   "metadata": {},
   "outputs": [],
   "source": [
    "env.setup(seed=10, num_of_env=1, ax=ax1)"
   ]
  },
  {
   "cell_type": "code",
   "execution_count": null,
   "id": "d1c5cf0c",
   "metadata": {},
   "outputs": [],
   "source": [
    "episodes = 5\n",
    "for episode in range(1, episodes+1):\n",
    "    state = env.reset()\n",
    "    # ax2.imshow(state['local_map'], cmap='gray')\n",
    "    done = False\n",
    "    score = 0 \n",
    "    avg_time = 0\n",
    "    step = 0\n",
    "    \n",
    "    while not done:\n",
    "        env.render()\n",
    "        action = (0.1, 0.01)\n",
    "        start_time = time.time()\n",
    "        n_state, reward, done, info = env.step(action)\n",
    "        end_time = time.time()\n",
    "        avg_time += (end_time - start_time)\n",
    "        step += 1\n",
    "        # ax2.imshow(n_state['local_map'], cmap='gray')\n",
    "        score+=reward\n",
    "    print('Episode:{} Score:{}'.format(episode, score))\n",
    "    print('average step time ({} steps): {}s'.format(step, avg_time/step))\n",
    "env.close()"
   ]
  },
  {
   "cell_type": "code",
   "execution_count": null,
   "id": "4449c696-f3a5-4730-b3a8-e4c28036f157",
   "metadata": {
    "tags": []
   },
   "outputs": [],
   "source": [
    "import seaborn as sns\n",
    "\n",
    "cmap = sns.color_palette(\"gray\", 256)\n",
    "\n",
    "sns.heatmap(n_state['local_map'], cmap=cmap)"
   ]
  },
  {
   "cell_type": "code",
   "execution_count": null,
   "id": "7e10b863-07b6-4fc8-a78d-68902ebccb82",
   "metadata": {
    "tags": []
   },
   "outputs": [],
   "source": [
    "n_state['local_map']"
   ]
  },
  {
   "cell_type": "code",
   "execution_count": null,
   "id": "7162ef27-1d6a-4e96-b63c-03f301c72c9f",
   "metadata": {
    "tags": []
   },
   "outputs": [],
   "source": [
    "n_state['local_map'].shape"
   ]
  },
  {
   "cell_type": "code",
   "execution_count": null,
   "id": "eaf6830b-7aff-4e78-ac21-1e160b25240d",
   "metadata": {
    "tags": []
   },
   "outputs": [],
   "source": [
    "env.close"
   ]
  },
  {
   "cell_type": "code",
   "execution_count": null,
   "id": "f0b77a4e-f8a9-4c6e-8ae6-cb606fe25e5e",
   "metadata": {
    "tags": []
   },
   "outputs": [],
   "source": [
    "n_state.shape[1]"
   ]
  },
  {
   "cell_type": "code",
   "execution_count": null,
   "id": "9f21453b-d01b-406c-993a-6b0e6de287cb",
   "metadata": {
    "tags": []
   },
   "outputs": [],
   "source": [
    "sgan_path = '/home/koksyuen/python_project/sgan'\n",
    "model_path = '/models/sgan-p-models/eth_8_model.pt'\n",
    "full_path = sgan_path + model_path"
   ]
  },
  {
   "cell_type": "code",
   "execution_count": null,
   "id": "accc43f2-d751-4717-a8d3-b99699090172",
   "metadata": {
    "tags": []
   },
   "outputs": [],
   "source": [
    "full_path"
   ]
  },
  {
   "cell_type": "code",
   "execution_count": null,
   "id": "9398df76-40c1-4116-8a76-589147cbc1a2",
   "metadata": {
    "tags": []
   },
   "outputs": [],
   "source": [
    "import sys\n",
    "# setting path\n",
    "sys.path.append('/home/koksyuen/python_project/sgan')\n",
    "\n",
    "from predictor import socialGAN"
   ]
  },
  {
   "cell_type": "code",
   "execution_count": null,
   "id": "35cb81aa-d49c-4629-837d-db1cb68135b9",
   "metadata": {
    "tags": []
   },
   "outputs": [],
   "source": [
    "traj_predictor = socialGAN(model_path='/home/koksyuen/python_project/sgan/models/sgan-p-models/eth_8_model.pt')"
   ]
  },
  {
   "cell_type": "code",
   "execution_count": null,
   "id": "78b4bfcd-4222-4b4a-8764-e28c08194c06",
   "metadata": {
    "tags": []
   },
   "outputs": [],
   "source": [
    "pred = traj_predictor(n_state)"
   ]
  },
  {
   "cell_type": "code",
   "execution_count": null,
   "id": "6e4e136c-5db0-4724-86c4-3f467f1ce1fd",
   "metadata": {
    "tags": []
   },
   "outputs": [],
   "source": [
    "pred.shape"
   ]
  },
  {
   "cell_type": "code",
   "execution_count": null,
   "id": "72700ed8-30cb-4c85-b827-b5fd83e0207d",
   "metadata": {
    "tags": []
   },
   "outputs": [],
   "source": [
    "pred"
   ]
  },
  {
   "cell_type": "code",
   "execution_count": null,
   "id": "7550529c",
   "metadata": {
    "tags": []
   },
   "outputs": [],
   "source": [
    "from stable_baselines3.common.env_checker import check_env"
   ]
  },
  {
   "cell_type": "code",
   "execution_count": null,
   "id": "5134e260",
   "metadata": {},
   "outputs": [],
   "source": [
    "check_env(env, warn=True)"
   ]
  },
  {
   "cell_type": "code",
   "execution_count": null,
   "id": "966d45ac-1020-48ad-bc9b-85598be4c35c",
   "metadata": {
    "tags": []
   },
   "outputs": [],
   "source": [
    "import numpy as np"
   ]
  },
  {
   "cell_type": "code",
   "execution_count": null,
   "id": "20db3f7d-d961-4948-affc-e77c447a39ce",
   "metadata": {
    "tags": []
   },
   "outputs": [],
   "source": [
    "a = np.zeros((6, 2))"
   ]
  },
  {
   "cell_type": "code",
   "execution_count": null,
   "id": "078bfc38-1bb5-4c66-b965-24f7d70ef65c",
   "metadata": {
    "tags": []
   },
   "outputs": [],
   "source": [
    "b = np.array((1., 2., 5.))"
   ]
  },
  {
   "cell_type": "code",
   "execution_count": null,
   "id": "25baa23a-a5c2-490c-9f9e-38d925828f88",
   "metadata": {
    "tags": []
   },
   "outputs": [],
   "source": [
    "b"
   ]
  },
  {
   "cell_type": "code",
   "execution_count": null,
   "id": "d374476f-e0a9-411d-a246-bd19acef347d",
   "metadata": {
    "tags": []
   },
   "outputs": [],
   "source": [
    "a[:-1,:] = b[:2]"
   ]
  },
  {
   "cell_type": "code",
   "execution_count": null,
   "id": "7caed148-5ae6-44f1-9ed0-c89c2b8b01e6",
   "metadata": {
    "tags": []
   },
   "outputs": [],
   "source": [
    "import numpy as np"
   ]
  },
  {
   "cell_type": "code",
   "execution_count": null,
   "id": "a1c3900a-f2c7-4de7-940f-4d5ec8156719",
   "metadata": {},
   "outputs": [],
   "source": [
    "a = [True, True, False]\n",
    "aa = np.array(a)"
   ]
  },
  {
   "cell_type": "code",
   "execution_count": null,
   "id": "ecf9138c-3648-4c14-a11b-1f8b28111e31",
   "metadata": {
    "tags": []
   },
   "outputs": [],
   "source": [
    "b = np.array([5, 6, 7])"
   ]
  },
  {
   "cell_type": "code",
   "execution_count": null,
   "id": "16a2d191-3b42-46f4-bece-726786d2ca60",
   "metadata": {
    "tags": []
   },
   "outputs": [],
   "source": [
    "aa.shape"
   ]
  },
  {
   "cell_type": "code",
   "execution_count": null,
   "id": "d529f077-30c9-45a9-956d-637b27097ee4",
   "metadata": {
    "tags": []
   },
   "outputs": [],
   "source": [
    "aa[True].shape"
   ]
  },
  {
   "cell_type": "code",
   "execution_count": null,
   "id": "fa29da73-0a35-4e86-9b8e-0b639cd1cfae",
   "metadata": {
    "tags": []
   },
   "outputs": [],
   "source": [
    "aa[0]"
   ]
  },
  {
   "cell_type": "code",
   "execution_count": null,
   "id": "e1713c4c-187f-483f-a36d-5b2a4f1f5490",
   "metadata": {
    "tags": []
   },
   "outputs": [],
   "source": [
    "b[aa].shape"
   ]
  },
  {
   "cell_type": "code",
   "execution_count": null,
   "id": "46b2da11-228b-429c-b34f-47912193d0d1",
   "metadata": {
    "tags": []
   },
   "outputs": [],
   "source": [
    "for i in range(10):\n",
    "    print(i)"
   ]
  },
  {
   "cell_type": "code",
   "execution_count": null,
   "id": "823e77ee-5583-42f6-8403-a4166ac0ce05",
   "metadata": {
    "tags": []
   },
   "outputs": [],
   "source": [
    "import numpy as np"
   ]
  },
  {
   "cell_type": "code",
   "execution_count": null,
   "id": "fc08a090-1459-4efe-b774-5427ed47ba76",
   "metadata": {},
   "outputs": [],
   "source": [
    "np.ceil(2.5)"
   ]
  },
  {
   "cell_type": "code",
   "execution_count": null,
   "id": "779b11f7-6fbf-4c99-b23a-e2832c8c4238",
   "metadata": {
    "tags": []
   },
   "outputs": [],
   "source": [
    "a = np.array(['happy', 'normal', 'angry'])\n",
    "b = np.array([True, False, True])\n",
    "a[b]"
   ]
  },
  {
   "cell_type": "code",
   "execution_count": null,
   "id": "7a7736c5-449b-492c-ae78-17f13018ed2d",
   "metadata": {
    "tags": []
   },
   "outputs": [],
   "source": [
    "traj = np.array([[[2, 3], [4, 5]],\n",
    "                 [[2, 3], [5, 6]],\n",
    "                 [[10, 11], [12, 13]],\n",
    "                 [[3, 4], [6, 8]]])\n",
    "\n",
    "map = np.zeros((10, 10), dtype=np.uint8)"
   ]
  },
  {
   "cell_type": "code",
   "execution_count": null,
   "id": "32e0507d-2684-4a6a-9283-ef311dba411a",
   "metadata": {
    "tags": []
   },
   "outputs": [],
   "source": [
    "map[traj[0,0,0], traj[0,0,1]] = 255"
   ]
  },
  {
   "cell_type": "code",
   "execution_count": null,
   "id": "14e86d9d-80ef-45e4-a067-6e45e848bc9a",
   "metadata": {
    "tags": []
   },
   "outputs": [],
   "source": [
    "map"
   ]
  },
  {
   "cell_type": "code",
   "execution_count": null,
   "id": "a697f05d-8e03-418b-aab6-9241d34479d1",
   "metadata": {
    "tags": []
   },
   "outputs": [],
   "source": [
    "traj[0,0]"
   ]
  },
  {
   "cell_type": "code",
   "execution_count": null,
   "id": "2b978db7-be19-4177-a08f-c66b98eeec74",
   "metadata": {},
   "outputs": [],
   "source": []
  }
 ],
 "metadata": {
  "kernelspec": {
   "display_name": "Python 3 (ipykernel)",
   "language": "python",
   "name": "python3"
  },
  "language_info": {
   "codemirror_mode": {
    "name": "ipython",
    "version": 3
   },
   "file_extension": ".py",
   "mimetype": "text/x-python",
   "name": "python",
   "nbconvert_exporter": "python",
   "pygments_lexer": "ipython3",
   "version": "3.8.0"
  }
 },
 "nbformat": 4,
 "nbformat_minor": 5
}
