{
 "cells": [
  {
   "cell_type": "code",
   "execution_count": 1,
   "id": "e97b4997",
   "metadata": {},
   "outputs": [],
   "source": [
    "from crowd_sim import *\n",
    "import gym"
   ]
  },
  {
   "cell_type": "code",
   "execution_count": 2,
   "id": "bfafa5df",
   "metadata": {},
   "outputs": [],
   "source": [
    "from arguments import get_args\n",
    "from crowd_nav.configs.config import Config"
   ]
  },
  {
   "cell_type": "code",
   "execution_count": 3,
   "id": "b0ac9221",
   "metadata": {},
   "outputs": [],
   "source": [
    "# env_id = 'CrowdSim-v0'\n",
    "# env_id = 'CrowdSimVarNum-v0'\n",
    "env_id = 'CrowdSimSgan-v0'\n",
    "\n",
    "env = gym.make(env_id)"
   ]
  },
  {
   "cell_type": "code",
   "execution_count": 4,
   "id": "7550529c",
   "metadata": {},
   "outputs": [],
   "source": [
    "from stable_baselines3.common.env_checker import check_env"
   ]
  },
  {
   "cell_type": "code",
   "execution_count": 5,
   "id": "545b71de",
   "metadata": {},
   "outputs": [
    {
     "name": "stderr",
     "output_type": "stream",
     "text": [
      "/home/koksyuen/anaconda3/envs/sb3/lib/python3.8/site-packages/gym/spaces/box.py:73: UserWarning: \u001b[33mWARN: Box bound precision lowered by casting to float32\u001b[0m\n",
      "  logger.warn(\n"
     ]
    }
   ],
   "source": [
    "env_config = Config()\n",
    "env.configure(env_config)"
   ]
  },
  {
   "cell_type": "code",
   "execution_count": 6,
   "id": "5134e260",
   "metadata": {},
   "outputs": [
    {
     "name": "stderr",
     "output_type": "stream",
     "text": [
      "/home/koksyuen/anaconda3/envs/sb3/lib/python3.8/site-packages/stable_baselines3/common/env_checker.py:213: UserWarning: Your observation robot_node has an unconventional shape (neither an image, nor a 1D vector). We recommend you to flatten the observation to have only a 1D vector or use a custom policy to properly process the data.\n",
      "  warnings.warn(\n",
      "/home/koksyuen/anaconda3/envs/sb3/lib/python3.8/site-packages/stable_baselines3/common/env_checker.py:213: UserWarning: Your observation spatial_edges has an unconventional shape (neither an image, nor a 1D vector). We recommend you to flatten the observation to have only a 1D vector or use a custom policy to properly process the data.\n",
      "  warnings.warn(\n",
      "/home/koksyuen/anaconda3/envs/sb3/lib/python3.8/site-packages/stable_baselines3/common/env_checker.py:213: UserWarning: Your observation temporal_edges has an unconventional shape (neither an image, nor a 1D vector). We recommend you to flatten the observation to have only a 1D vector or use a custom policy to properly process the data.\n",
      "  warnings.warn(\n",
      "/home/koksyuen/anaconda3/envs/sb3/lib/python3.8/site-packages/stable_baselines3/common/env_checker.py:384: UserWarning: We recommend you to use a symmetric and normalized Box action space (range=[-1, 1]) cf https://stable-baselines3.readthedocs.io/en/master/guide/rl_tips.html\n",
      "  warnings.warn(\n"
     ]
    },
    {
     "ename": "TypeError",
     "evalue": "unsupported operand type(s) for +: 'int' and 'NoneType'",
     "output_type": "error",
     "traceback": [
      "\u001b[0;31m---------------------------------------------------------------------------\u001b[0m",
      "\u001b[0;31mTypeError\u001b[0m                                 Traceback (most recent call last)",
      "Cell \u001b[0;32mIn[6], line 1\u001b[0m\n\u001b[0;32m----> 1\u001b[0m \u001b[43mcheck_env\u001b[49m\u001b[43m(\u001b[49m\u001b[43menv\u001b[49m\u001b[43m,\u001b[49m\u001b[43m \u001b[49m\u001b[43mwarn\u001b[49m\u001b[38;5;241;43m=\u001b[39;49m\u001b[38;5;28;43;01mTrue\u001b[39;49;00m\u001b[43m)\u001b[49m\n",
      "File \u001b[0;32m~/anaconda3/envs/sb3/lib/python3.8/site-packages/stable_baselines3/common/env_checker.py:400\u001b[0m, in \u001b[0;36mcheck_env\u001b[0;34m(env, warn, skip_render_check)\u001b[0m\n\u001b[1;32m    395\u001b[0m         warnings\u001b[38;5;241m.\u001b[39mwarn(\n\u001b[1;32m    396\u001b[0m             \u001b[38;5;124mf\u001b[39m\u001b[38;5;124m\"\u001b[39m\u001b[38;5;124mYour action space has dtype \u001b[39m\u001b[38;5;132;01m{\u001b[39;00maction_space\u001b[38;5;241m.\u001b[39mdtype\u001b[38;5;132;01m}\u001b[39;00m\u001b[38;5;124m, we recommend using np.float32 to avoid cast errors.\u001b[39m\u001b[38;5;124m\"\u001b[39m\n\u001b[1;32m    397\u001b[0m         )\n\u001b[1;32m    399\u001b[0m \u001b[38;5;66;03m# ============ Check the returned values ===============\u001b[39;00m\n\u001b[0;32m--> 400\u001b[0m \u001b[43m_check_returned_values\u001b[49m\u001b[43m(\u001b[49m\u001b[43menv\u001b[49m\u001b[43m,\u001b[49m\u001b[43m \u001b[49m\u001b[43mobservation_space\u001b[49m\u001b[43m,\u001b[49m\u001b[43m \u001b[49m\u001b[43maction_space\u001b[49m\u001b[43m)\u001b[49m\n\u001b[1;32m    402\u001b[0m \u001b[38;5;66;03m# ==== Check the render method and the declared render modes ====\u001b[39;00m\n\u001b[1;32m    403\u001b[0m \u001b[38;5;28;01mif\u001b[39;00m \u001b[38;5;129;01mnot\u001b[39;00m skip_render_check:\n",
      "File \u001b[0;32m~/anaconda3/envs/sb3/lib/python3.8/site-packages/stable_baselines3/common/env_checker.py:225\u001b[0m, in \u001b[0;36m_check_returned_values\u001b[0;34m(env, observation_space, action_space)\u001b[0m\n\u001b[1;32m    221\u001b[0m \u001b[38;5;250m\u001b[39m\u001b[38;5;124;03m\"\"\"\u001b[39;00m\n\u001b[1;32m    222\u001b[0m \u001b[38;5;124;03mCheck the returned values by the env when calling `.reset()` or `.step()` methods.\u001b[39;00m\n\u001b[1;32m    223\u001b[0m \u001b[38;5;124;03m\"\"\"\u001b[39;00m\n\u001b[1;32m    224\u001b[0m \u001b[38;5;66;03m# because env inherits from gym.Env, we assume that `reset()` and `step()` methods exists\u001b[39;00m\n\u001b[0;32m--> 225\u001b[0m obs \u001b[38;5;241m=\u001b[39m \u001b[43menv\u001b[49m\u001b[38;5;241;43m.\u001b[39;49m\u001b[43mreset\u001b[49m\u001b[43m(\u001b[49m\u001b[43m)\u001b[49m\n\u001b[1;32m    227\u001b[0m \u001b[38;5;28;01mif\u001b[39;00m _is_goal_env(env):\n\u001b[1;32m    228\u001b[0m     \u001b[38;5;66;03m# Make mypy happy, already checked\u001b[39;00m\n\u001b[1;32m    229\u001b[0m     \u001b[38;5;28;01massert\u001b[39;00m \u001b[38;5;28misinstance\u001b[39m(observation_space, spaces\u001b[38;5;241m.\u001b[39mDict)\n",
      "File \u001b[0;32m~/anaconda3/envs/sb3/lib/python3.8/site-packages/gym/wrappers/order_enforcing.py:16\u001b[0m, in \u001b[0;36mOrderEnforcing.reset\u001b[0;34m(self, **kwargs)\u001b[0m\n\u001b[1;32m     14\u001b[0m \u001b[38;5;28;01mdef\u001b[39;00m \u001b[38;5;21mreset\u001b[39m(\u001b[38;5;28mself\u001b[39m, \u001b[38;5;241m*\u001b[39m\u001b[38;5;241m*\u001b[39mkwargs):\n\u001b[1;32m     15\u001b[0m     \u001b[38;5;28mself\u001b[39m\u001b[38;5;241m.\u001b[39m_has_reset \u001b[38;5;241m=\u001b[39m \u001b[38;5;28;01mTrue\u001b[39;00m\n\u001b[0;32m---> 16\u001b[0m     \u001b[38;5;28;01mreturn\u001b[39;00m \u001b[38;5;28;43mself\u001b[39;49m\u001b[38;5;241;43m.\u001b[39;49m\u001b[43menv\u001b[49m\u001b[38;5;241;43m.\u001b[39;49m\u001b[43mreset\u001b[49m\u001b[43m(\u001b[49m\u001b[38;5;241;43m*\u001b[39;49m\u001b[38;5;241;43m*\u001b[39;49m\u001b[43mkwargs\u001b[49m\u001b[43m)\u001b[49m\n",
      "File \u001b[0;32m~/python_project/CrowdNav_Prediction_AttnGraph/crowd_sim/envs/crowd_sim_sgan.py:339\u001b[0m, in \u001b[0;36mCrowdSimSgan.reset\u001b[0;34m(self, phase, test_case)\u001b[0m\n\u001b[1;32m    335\u001b[0m counter_offset \u001b[38;5;241m=\u001b[39m {\u001b[38;5;124m'\u001b[39m\u001b[38;5;124mtrain\u001b[39m\u001b[38;5;124m'\u001b[39m: \u001b[38;5;28mself\u001b[39m\u001b[38;5;241m.\u001b[39mcase_capacity[\u001b[38;5;124m'\u001b[39m\u001b[38;5;124mval\u001b[39m\u001b[38;5;124m'\u001b[39m] \u001b[38;5;241m+\u001b[39m \u001b[38;5;28mself\u001b[39m\u001b[38;5;241m.\u001b[39mcase_capacity[\u001b[38;5;124m'\u001b[39m\u001b[38;5;124mtest\u001b[39m\u001b[38;5;124m'\u001b[39m],\n\u001b[1;32m    336\u001b[0m                   \u001b[38;5;124m'\u001b[39m\u001b[38;5;124mval\u001b[39m\u001b[38;5;124m'\u001b[39m: \u001b[38;5;241m0\u001b[39m, \u001b[38;5;124m'\u001b[39m\u001b[38;5;124mtest\u001b[39m\u001b[38;5;124m'\u001b[39m: \u001b[38;5;28mself\u001b[39m\u001b[38;5;241m.\u001b[39mcase_capacity[\u001b[38;5;124m'\u001b[39m\u001b[38;5;124mval\u001b[39m\u001b[38;5;124m'\u001b[39m]}\n\u001b[1;32m    338\u001b[0m \u001b[38;5;66;03m# here we use a counter to calculate seed. The seed=counter_offset + case_counter\u001b[39;00m\n\u001b[0;32m--> 339\u001b[0m \u001b[38;5;28mself\u001b[39m\u001b[38;5;241m.\u001b[39mrand_seed \u001b[38;5;241m=\u001b[39m \u001b[43mcounter_offset\u001b[49m\u001b[43m[\u001b[49m\u001b[43mphase\u001b[49m\u001b[43m]\u001b[49m\u001b[43m \u001b[49m\u001b[38;5;241;43m+\u001b[39;49m\u001b[43m \u001b[49m\u001b[38;5;28;43mself\u001b[39;49m\u001b[38;5;241;43m.\u001b[39;49m\u001b[43mcase_counter\u001b[49m\u001b[43m[\u001b[49m\u001b[43mphase\u001b[49m\u001b[43m]\u001b[49m\u001b[43m \u001b[49m\u001b[38;5;241;43m+\u001b[39;49m\u001b[43m \u001b[49m\u001b[38;5;28;43mself\u001b[39;49m\u001b[38;5;241;43m.\u001b[39;49m\u001b[43mthisSeed\u001b[49m\n\u001b[1;32m    340\u001b[0m np\u001b[38;5;241m.\u001b[39mrandom\u001b[38;5;241m.\u001b[39mseed(\u001b[38;5;28mself\u001b[39m\u001b[38;5;241m.\u001b[39mrand_seed)\n\u001b[1;32m    342\u001b[0m \u001b[38;5;28mself\u001b[39m\u001b[38;5;241m.\u001b[39mgenerate_robot_humans(phase)\n",
      "\u001b[0;31mTypeError\u001b[0m: unsupported operand type(s) for +: 'int' and 'NoneType'"
     ]
    }
   ],
   "source": [
    "check_env(env, warn=True)"
   ]
  },
  {
   "cell_type": "code",
   "execution_count": 9,
   "id": "163c22e3",
   "metadata": {},
   "outputs": [
    {
     "data": {
      "text/plain": [
       "Dict(detected_human_num:Box([-inf], [inf], (1,), float32), robot_node:Box([[-inf -inf -inf -inf -inf -inf -inf]], [[inf inf inf inf inf inf inf]], (1, 7), float32), spatial_edges:Box([[-inf -inf]\n",
       " [-inf -inf]\n",
       " [-inf -inf]\n",
       " [-inf -inf]\n",
       " [-inf -inf]\n",
       " [-inf -inf]\n",
       " [-inf -inf]\n",
       " [-inf -inf]\n",
       " [-inf -inf]\n",
       " [-inf -inf]\n",
       " [-inf -inf]\n",
       " [-inf -inf]\n",
       " [-inf -inf]\n",
       " [-inf -inf]\n",
       " [-inf -inf]\n",
       " [-inf -inf]\n",
       " [-inf -inf]\n",
       " [-inf -inf]\n",
       " [-inf -inf]\n",
       " [-inf -inf]], [[inf inf]\n",
       " [inf inf]\n",
       " [inf inf]\n",
       " [inf inf]\n",
       " [inf inf]\n",
       " [inf inf]\n",
       " [inf inf]\n",
       " [inf inf]\n",
       " [inf inf]\n",
       " [inf inf]\n",
       " [inf inf]\n",
       " [inf inf]\n",
       " [inf inf]\n",
       " [inf inf]\n",
       " [inf inf]\n",
       " [inf inf]\n",
       " [inf inf]\n",
       " [inf inf]\n",
       " [inf inf]\n",
       " [inf inf]], (20, 2), float32), temporal_edges:Box([[-inf -inf]], [[inf inf]], (1, 2), float32), visible_masks:Box([ True  True  True  True  True  True  True  True  True  True  True  True\n",
       "  True  True  True  True  True  True  True  True], [ True  True  True  True  True  True  True  True  True  True  True  True\n",
       "  True  True  True  True  True  True  True  True], (20,), bool))"
      ]
     },
     "execution_count": 9,
     "metadata": {},
     "output_type": "execute_result"
    }
   ],
   "source": [
    "env.observation_space"
   ]
  },
  {
   "cell_type": "code",
   "execution_count": 10,
   "id": "bfea5ba2",
   "metadata": {},
   "outputs": [
    {
     "data": {
      "text/plain": [
       "<bound method Dict.sample of Dict(detected_human_num:Box([-inf], [inf], (1,), float32), robot_node:Box([[-inf -inf -inf -inf -inf -inf -inf]], [[inf inf inf inf inf inf inf]], (1, 7), float32), spatial_edges:Box([[-inf -inf]\n",
       " [-inf -inf]\n",
       " [-inf -inf]\n",
       " [-inf -inf]\n",
       " [-inf -inf]\n",
       " [-inf -inf]\n",
       " [-inf -inf]\n",
       " [-inf -inf]\n",
       " [-inf -inf]\n",
       " [-inf -inf]\n",
       " [-inf -inf]\n",
       " [-inf -inf]\n",
       " [-inf -inf]\n",
       " [-inf -inf]\n",
       " [-inf -inf]\n",
       " [-inf -inf]\n",
       " [-inf -inf]\n",
       " [-inf -inf]\n",
       " [-inf -inf]\n",
       " [-inf -inf]], [[inf inf]\n",
       " [inf inf]\n",
       " [inf inf]\n",
       " [inf inf]\n",
       " [inf inf]\n",
       " [inf inf]\n",
       " [inf inf]\n",
       " [inf inf]\n",
       " [inf inf]\n",
       " [inf inf]\n",
       " [inf inf]\n",
       " [inf inf]\n",
       " [inf inf]\n",
       " [inf inf]\n",
       " [inf inf]\n",
       " [inf inf]\n",
       " [inf inf]\n",
       " [inf inf]\n",
       " [inf inf]\n",
       " [inf inf]], (20, 2), float32), temporal_edges:Box([[-inf -inf]], [[inf inf]], (1, 2), float32), visible_masks:Box([ True  True  True  True  True  True  True  True  True  True  True  True\n",
       "  True  True  True  True  True  True  True  True], [ True  True  True  True  True  True  True  True  True  True  True  True\n",
       "  True  True  True  True  True  True  True  True], (20,), bool))>"
      ]
     },
     "execution_count": 10,
     "metadata": {},
     "output_type": "execute_result"
    }
   ],
   "source": [
    "env.observation_space.sample"
   ]
  },
  {
   "cell_type": "code",
   "execution_count": 8,
   "id": "14074edd",
   "metadata": {},
   "outputs": [
    {
     "data": {
      "text/plain": [
       "Box([-1. -2.], [2. 4.], (2,), float32)"
      ]
     },
     "execution_count": 8,
     "metadata": {},
     "output_type": "execute_result"
    }
   ],
   "source": [
    "env.action_space"
   ]
  },
  {
   "cell_type": "code",
   "execution_count": 7,
   "id": "d57fb0c4",
   "metadata": {},
   "outputs": [
    {
     "data": {
      "text/plain": [
       "<bound method Box.sample of Box([-1. -2.], [2. 4.], (2,), float32)>"
      ]
     },
     "execution_count": 7,
     "metadata": {},
     "output_type": "execute_result"
    }
   ],
   "source": [
    "env.action_space.sample"
   ]
  },
  {
   "cell_type": "code",
   "execution_count": null,
   "id": "ff0a0e65",
   "metadata": {},
   "outputs": [],
   "source": []
  },
  {
   "cell_type": "code",
   "execution_count": null,
   "id": "59d350b0",
   "metadata": {},
   "outputs": [],
   "source": []
  }
 ],
 "metadata": {
  "kernelspec": {
   "display_name": "Python 3 (ipykernel)",
   "language": "python",
   "name": "python3"
  },
  "language_info": {
   "codemirror_mode": {
    "name": "ipython",
    "version": 3
   },
   "file_extension": ".py",
   "mimetype": "text/x-python",
   "name": "python",
   "nbconvert_exporter": "python",
   "pygments_lexer": "ipython3",
   "version": "3.8.0"
  }
 },
 "nbformat": 4,
 "nbformat_minor": 5
}
