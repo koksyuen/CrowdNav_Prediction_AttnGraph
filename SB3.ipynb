{
 "cells": [
  {
   "cell_type": "code",
   "execution_count": 1,
   "id": "e97b4997",
   "metadata": {},
   "outputs": [],
   "source": [
    "from crowd_sim import *\n",
    "import gym"
   ]
  },
  {
   "cell_type": "code",
   "execution_count": 2,
   "id": "bfafa5df",
   "metadata": {},
   "outputs": [],
   "source": [
    "from arguments import get_args\n",
    "from crowd_nav.configs.config import Config"
   ]
  },
  {
   "cell_type": "code",
   "execution_count": null,
   "id": "33d718ab",
   "metadata": {},
   "outputs": [],
   "source": [
    "def make_env(env_id, seed, rank, log_dir, allow_early_resets, config=None, envNum=1, ax=None, test_case=-1):\n",
    "    def _init():\n",
    "        env = gym.make(env_id) # simulator for crowd navigation\n",
    "\n",
    "        # custom function - pass args into environment\n",
    "        env.configure(config)\n",
    "\n",
    "        # environment.render_axis = ax\n",
    "\n",
    "        # For multiprocessing, every process (thread) must have different seed for efficient exploration\n",
    "        envSeed = seed + rank if seed is not None else None\n",
    "        env.thisSeed = envSeed # seed for numpy\n",
    "        env.seed(seed + rank) # seed for openAI gym environment\n",
    "\n",
    "        # the number of env will be set when the env is created.\n",
    "        # because the human crossing cases are controlled by random seed, we will calculate unique random seed for each parallel env.\n",
    "        env.nenv = envNum\n",
    "\n",
    "        if envNum > 1:\n",
    "            env.phase = 'train'\n",
    "        else:\n",
    "            env.phase = 'test'\n",
    "\n",
    "        # For rendering\n",
    "        if ax:\n",
    "            env.render_axis = ax\n",
    "            # the test case ID, which will be used to calculate a seed to generate a human crossing case\n",
    "            if test_case >= 0:\n",
    "                env.test_case = test_case\n",
    "\n",
    "\n",
    "\n",
    "        if str(env.__class__.__name__).find('TimeLimit') >= 0:\n",
    "            env = TimeLimitMask(env)\n",
    "\n",
    "        # if log_dir is not None:\n",
    "        env = bench.Monitor(\n",
    "            env,\n",
    "            None,\n",
    "            allow_early_resets=allow_early_resets)\n",
    "        print(env)\n",
    "\n",
    "        if isinstance(env.observation_space, Box):\n",
    "            if is_atari:\n",
    "                if len(env.observation_space.shape) == 3:\n",
    "                    env = wrap_deepmind(env)\n",
    "            elif len(env.observation_space.shape) == 3:\n",
    "                raise NotImplementedError(\n",
    "                    \"CNN models work only for atari,\\n\"\n",
    "                    \"please use a custom wrapper for a custom pixel input env.\\n\"\n",
    "                    \"See wrap_deepmind for an example.\")\n",
    "\n",
    "            # If the input has shape (W,H,3), wrap for PyTorch convolutions\n",
    "\n",
    "            obs_shape = env.observation_space.shape\n",
    "            if len(obs_shape) == 3 and obs_shape[2] in [1, 3]:\n",
    "                env = TransposeImage(env, op=[2, 0, 1])\n",
    "\n",
    "        return env\n",
    "\n",
    "    return _init"
   ]
  },
  {
   "cell_type": "code",
   "execution_count": 3,
   "id": "b0ac9221",
   "metadata": {},
   "outputs": [],
   "source": [
    "env_id = 'CrowdSimVarNum-v0'\n",
    "env = gym.make(env_id)"
   ]
  },
  {
   "cell_type": "code",
   "execution_count": 4,
   "id": "7550529c",
   "metadata": {},
   "outputs": [],
   "source": [
    "from stable_baselines3.common.env_checker import check_env"
   ]
  },
  {
   "cell_type": "code",
   "execution_count": 5,
   "id": "545b71de",
   "metadata": {},
   "outputs": [
    {
     "name": "stderr",
     "output_type": "stream",
     "text": [
      "/home/koksyuen/anaconda3/envs/sb3/lib/python3.8/site-packages/gym/spaces/box.py:73: UserWarning: \u001b[33mWARN: Box bound precision lowered by casting to float32\u001b[0m\n",
      "  logger.warn(\n"
     ]
    }
   ],
   "source": [
    "env_config = Config()\n",
    "env.configure(env_config)"
   ]
  },
  {
   "cell_type": "code",
   "execution_count": 6,
   "id": "5134e260",
   "metadata": {},
   "outputs": [
    {
     "name": "stderr",
     "output_type": "stream",
     "text": [
      "/home/koksyuen/anaconda3/envs/sb3/lib/python3.8/site-packages/stable_baselines3/common/env_checker.py:213: UserWarning: Your observation robot_node has an unconventional shape (neither an image, nor a 1D vector). We recommend you to flatten the observation to have only a 1D vector or use a custom policy to properly process the data.\n",
      "  warnings.warn(\n",
      "/home/koksyuen/anaconda3/envs/sb3/lib/python3.8/site-packages/stable_baselines3/common/env_checker.py:213: UserWarning: Your observation spatial_edges has an unconventional shape (neither an image, nor a 1D vector). We recommend you to flatten the observation to have only a 1D vector or use a custom policy to properly process the data.\n",
      "  warnings.warn(\n",
      "/home/koksyuen/anaconda3/envs/sb3/lib/python3.8/site-packages/stable_baselines3/common/env_checker.py:213: UserWarning: Your observation temporal_edges has an unconventional shape (neither an image, nor a 1D vector). We recommend you to flatten the observation to have only a 1D vector or use a custom policy to properly process the data.\n",
      "  warnings.warn(\n",
      "/home/koksyuen/anaconda3/envs/sb3/lib/python3.8/site-packages/stable_baselines3/common/env_checker.py:384: UserWarning: We recommend you to use a symmetric and normalized Box action space (range=[-1, 1]) cf https://stable-baselines3.readthedocs.io/en/master/guide/rl_tips.html\n",
      "  warnings.warn(\n"
     ]
    },
    {
     "ename": "AssertionError",
     "evalue": "Continuous action space must have a finite lower and upper bound",
     "output_type": "error",
     "traceback": [
      "\u001b[0;31m---------------------------------------------------------------------------\u001b[0m",
      "\u001b[0;31mAssertionError\u001b[0m                            Traceback (most recent call last)",
      "Cell \u001b[0;32mIn[6], line 1\u001b[0m\n\u001b[0;32m----> 1\u001b[0m \u001b[43mcheck_env\u001b[49m\u001b[43m(\u001b[49m\u001b[43menv\u001b[49m\u001b[43m,\u001b[49m\u001b[43m \u001b[49m\u001b[43mwarn\u001b[49m\u001b[38;5;241;43m=\u001b[39;49m\u001b[38;5;28;43;01mTrue\u001b[39;49;00m\u001b[43m)\u001b[49m\n",
      "File \u001b[0;32m~/anaconda3/envs/sb3/lib/python3.8/site-packages/stable_baselines3/common/env_checker.py:390\u001b[0m, in \u001b[0;36mcheck_env\u001b[0;34m(env, warn, skip_render_check)\u001b[0m\n\u001b[1;32m    384\u001b[0m     warnings\u001b[38;5;241m.\u001b[39mwarn(\n\u001b[1;32m    385\u001b[0m         \u001b[38;5;124m\"\u001b[39m\u001b[38;5;124mWe recommend you to use a symmetric and normalized Box action space (range=[-1, 1]) \u001b[39m\u001b[38;5;124m\"\u001b[39m\n\u001b[1;32m    386\u001b[0m         \u001b[38;5;124m\"\u001b[39m\u001b[38;5;124mcf https://stable-baselines3.readthedocs.io/en/master/guide/rl_tips.html\u001b[39m\u001b[38;5;124m\"\u001b[39m\n\u001b[1;32m    387\u001b[0m     )\n\u001b[1;32m    389\u001b[0m \u001b[38;5;28;01mif\u001b[39;00m \u001b[38;5;28misinstance\u001b[39m(action_space, spaces\u001b[38;5;241m.\u001b[39mBox):\n\u001b[0;32m--> 390\u001b[0m     \u001b[38;5;28;01massert\u001b[39;00m np\u001b[38;5;241m.\u001b[39mall(\n\u001b[1;32m    391\u001b[0m         np\u001b[38;5;241m.\u001b[39misfinite(np\u001b[38;5;241m.\u001b[39marray([action_space\u001b[38;5;241m.\u001b[39mlow, action_space\u001b[38;5;241m.\u001b[39mhigh]))\n\u001b[1;32m    392\u001b[0m     ), \u001b[38;5;124m\"\u001b[39m\u001b[38;5;124mContinuous action space must have a finite lower and upper bound\u001b[39m\u001b[38;5;124m\"\u001b[39m\n\u001b[1;32m    394\u001b[0m \u001b[38;5;28;01mif\u001b[39;00m \u001b[38;5;28misinstance\u001b[39m(action_space, spaces\u001b[38;5;241m.\u001b[39mBox) \u001b[38;5;129;01mand\u001b[39;00m action_space\u001b[38;5;241m.\u001b[39mdtype \u001b[38;5;241m!=\u001b[39m np\u001b[38;5;241m.\u001b[39mdtype(np\u001b[38;5;241m.\u001b[39mfloat32):\n\u001b[1;32m    395\u001b[0m     warnings\u001b[38;5;241m.\u001b[39mwarn(\n\u001b[1;32m    396\u001b[0m         \u001b[38;5;124mf\u001b[39m\u001b[38;5;124m\"\u001b[39m\u001b[38;5;124mYour action space has dtype \u001b[39m\u001b[38;5;132;01m{\u001b[39;00maction_space\u001b[38;5;241m.\u001b[39mdtype\u001b[38;5;132;01m}\u001b[39;00m\u001b[38;5;124m, we recommend using np.float32 to avoid cast errors.\u001b[39m\u001b[38;5;124m\"\u001b[39m\n\u001b[1;32m    397\u001b[0m     )\n",
      "\u001b[0;31mAssertionError\u001b[0m: Continuous action space must have a finite lower and upper bound"
     ]
    }
   ],
   "source": [
    "check_env(env, warn=True)"
   ]
  },
  {
   "cell_type": "code",
   "execution_count": 4,
   "id": "1db6ef86",
   "metadata": {},
   "outputs": [],
   "source": [
    "algo_args = get_args()"
   ]
  },
  {
   "cell_type": "code",
   "execution_count": 5,
   "id": "13ed1a32",
   "metadata": {},
   "outputs": [
    {
     "data": {
      "text/plain": [
       "True"
      ]
     },
     "execution_count": 5,
     "metadata": {},
     "output_type": "execute_result"
    }
   ],
   "source": [
    "algo_args.cuda"
   ]
  },
  {
   "cell_type": "code",
   "execution_count": null,
   "id": "163c22e3",
   "metadata": {},
   "outputs": [],
   "source": []
  }
 ],
 "metadata": {
  "kernelspec": {
   "display_name": "Python 3 (ipykernel)",
   "language": "python",
   "name": "python3"
  },
  "language_info": {
   "codemirror_mode": {
    "name": "ipython",
    "version": 3
   },
   "file_extension": ".py",
   "mimetype": "text/x-python",
   "name": "python",
   "nbconvert_exporter": "python",
   "pygments_lexer": "ipython3",
   "version": "3.8.0"
  }
 },
 "nbformat": 4,
 "nbformat_minor": 5
}
