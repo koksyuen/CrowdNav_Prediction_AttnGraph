{
 "cells": [
  {
   "cell_type": "markdown",
   "id": "f0823912-0c64-4ab0-97cc-fc7249ed1d29",
   "metadata": {},
   "source": [
    "# Testing"
   ]
  },
  {
   "cell_type": "code",
   "execution_count": null,
   "id": "354ce166-72f6-4ce4-a2c8-0b1ed6529f6c",
   "metadata": {},
   "outputs": [],
   "source": [
    "import gym\n",
    "import torch as th\n",
    "\n",
    "from stable_baselines3 import PPO\n",
    "\n",
    "# Custom actor (pi) and value function (vf) networks\n",
    "# of two layers of size 32 each with Relu activation function\n",
    "# Note: an extra linear layer will be added on top of the pi and the vf nets, respectively\n",
    "policy_kwargs = dict(activation_fn=th.nn.ReLU,\n",
    "                     net_arch=dict(pi=[32, 32], vf=[32, 32]))\n",
    "# Create the agent\n",
    "model = PPO(\"MlpPolicy\", \"CartPole-v1\", policy_kwargs=policy_kwargs, verbose=1)\n"
   ]
  },
  {
   "cell_type": "code",
   "execution_count": null,
   "id": "585d61d0-3870-403e-9d00-7dc93555563a",
   "metadata": {},
   "outputs": [],
   "source": [
    "model.policy"
   ]
  },
  {
   "cell_type": "code",
   "execution_count": null,
   "id": "b3f5b960-f512-446e-b931-df20e92cc21f",
   "metadata": {},
   "outputs": [],
   "source": [
    "# Retrieve the environment\n",
    "env = model.get_env()\n",
    "# Train the agent\n",
    "model.learn(total_timesteps=20_000)\n",
    "# Save the agent\n",
    "model.save(\"ppo_cartpole\")\n",
    "\n",
    "del model\n",
    "# the policy_kwargs are automatically loaded\n",
    "model = PPO.load(\"ppo_cartpole\", env=env)"
   ]
  },
  {
   "cell_type": "code",
   "execution_count": null,
   "id": "a584fe65-c1ae-4ac5-914e-a9369251d46e",
   "metadata": {},
   "outputs": [],
   "source": []
  },
  {
   "cell_type": "markdown",
   "id": "a24e95c3-5d6b-4f5e-99cb-09a6a1388d54",
   "metadata": {},
   "source": [
    "# Action Wrapper"
   ]
  },
  {
   "cell_type": "code",
   "execution_count": null,
   "id": "2e7e7ae1-a8fb-4e0f-8957-ded3031374c4",
   "metadata": {},
   "outputs": [],
   "source": [
    "import gym\n",
    "from gym.spaces import Discrete\n",
    "import numpy as np"
   ]
  },
  {
   "cell_type": "code",
   "execution_count": null,
   "id": "ca5da3bb-1d7d-4d60-b911-a3740cc7ad1f",
   "metadata": {},
   "outputs": [],
   "source": [
    "class DiscreteActions(gym.ActionWrapper):\n",
    "    def __init__(self, env, disc_to_cont):\n",
    "        super().__init__(env)\n",
    "        self.disc_to_cont = disc_to_cont\n",
    "        self.action_space = Discrete(len(disc_to_cont))\n",
    "    \n",
    "    def action(self, act):\n",
    "        return self.disc_to_cont[act]"
   ]
  },
  {
   "cell_type": "code",
   "execution_count": null,
   "id": "016f8972-4ee9-438e-9920-c339063bd90b",
   "metadata": {},
   "outputs": [],
   "source": [
    "'''\n",
    "0: Vx=0, Vy=0\n",
    "1: Vx=1, Vy=0\n",
    "2: Vx=0, Vy=1\n",
    "3: Vx=-1, Vy=0\n",
    "4: Vx=0, Vy=-1\n",
    "5: Vx=1, Vy=1\n",
    "6: Vx=-1, Vy=-1\n",
    "7: Vx=1, Vy=-1\n",
    "8: Vx=-1, Vy=1\n",
    "'''\n",
    "discrete_actions = [np.array([0,0]), np.array([1,0]),\n",
    "                    np.array([0,1]), np.array([-1,0]),\n",
    "                    np.array([0,-1]), np.array([1,1]),\n",
    "                    np.array([-1,-1]), np.array([1,-1]),\n",
    "                    np.array([-1,1])]"
   ]
  },
  {
   "cell_type": "markdown",
   "id": "760d97f6-abbe-49d1-848d-f1e4527f26d1",
   "metadata": {},
   "source": [
    "# SGAN"
   ]
  },
  {
   "cell_type": "code",
   "execution_count": null,
   "id": "033d41a2-7eef-44d5-af19-10dbd0402330",
   "metadata": {},
   "outputs": [],
   "source": [
    "import sys\n",
    "sys.path.append('/home/koksyuen/python_project/sgan')"
   ]
  },
  {
   "cell_type": "code",
   "execution_count": null,
   "id": "118716c3-9520-4a81-915c-add70d005e47",
   "metadata": {},
   "outputs": [],
   "source": [
    "# from predictor import get_generator\n",
    "import torch\n",
    "from attrdict import AttrDict\n",
    "from sgan.models import TrajectoryGenerator\n",
    "from sgan.utils import relative_to_abs, abs_to_relative"
   ]
  },
  {
   "cell_type": "code",
   "execution_count": null,
   "id": "09194b0a-d3c7-4d9c-ab45-6ad10e9f5eaa",
   "metadata": {},
   "outputs": [],
   "source": [
    "model_path='/home/koksyuen/python_project/sgan/models/sgan-p-models/eth_8_model.pt'\n",
    "checkpoint = torch.load(model_path)"
   ]
  },
  {
   "cell_type": "code",
   "execution_count": null,
   "id": "7f646605-ef89-4543-8882-ead4c715920a",
   "metadata": {},
   "outputs": [],
   "source": [
    "args = AttrDict(checkpoint['args'])\n",
    "Sgan = TrajectoryGenerator(\n",
    "    obs_len=args.obs_len,\n",
    "    pred_len=args.pred_len,\n",
    "    embedding_dim=args.embedding_dim,\n",
    "    encoder_h_dim=args.encoder_h_dim_g,\n",
    "    decoder_h_dim=args.decoder_h_dim_g,\n",
    "    mlp_dim=args.mlp_dim,\n",
    "    num_layers=args.num_layers,\n",
    "    noise_dim=args.noise_dim,\n",
    "    noise_type=args.noise_type,\n",
    "    noise_mix_type=args.noise_mix_type,\n",
    "    pooling_type=args.pooling_type,\n",
    "    pool_every_timestep=args.pool_every_timestep,\n",
    "    dropout=args.dropout,\n",
    "    bottleneck_dim=args.bottleneck_dim,\n",
    "    neighborhood_size=args.neighborhood_size,\n",
    "    grid_size=args.grid_size,\n",
    "    batch_norm=args.batch_norm)\n",
    "Sgan.load_state_dict(checkpoint['g_state'])\n",
    "Sgan.cuda()\n",
    "# generator.train()\n",
    "# generator.eval()"
   ]
  },
  {
   "cell_type": "code",
   "execution_count": null,
   "id": "7fb9bedc-a27d-4c57-95d5-0ee8787691ae",
   "metadata": {},
   "outputs": [],
   "source": [
    "for param in Sgan.parameters():\n",
    "    param.requires_grad = False"
   ]
  },
  {
   "cell_type": "code",
   "execution_count": null,
   "id": "af85bac6-ee02-4774-9ddb-8813d40e78be",
   "metadata": {},
   "outputs": [],
   "source": [
    "for name,param in Sgan.named_parameters():\n",
    "    print(name)\n",
    "    if param.requires_grad:\n",
    "        print(param)"
   ]
  },
  {
   "cell_type": "markdown",
   "id": "aa2e1463-b6f8-4ac9-a0c0-802d35edc961",
   "metadata": {},
   "source": [
    "# APF"
   ]
  },
  {
   "cell_type": "code",
   "execution_count": 1,
   "id": "38cd2d42-d745-4a15-a92d-ba53186a599e",
   "metadata": {},
   "outputs": [],
   "source": [
    "from crowd_sim.envs.crowd_sim_raw import CrowdSimRaw\n",
    "from sb3.feature_extractor import Preprocessor\n",
    "import gym\n",
    "import time\n",
    "import torch\n",
    "import matplotlib.pyplot as plt\n",
    "\n",
    "from arguments import get_args\n",
    "from crowd_nav.configs.config import Config\n",
    "config = Config()"
   ]
  },
  {
   "cell_type": "code",
   "execution_count": 2,
   "id": "3afd47e6-936a-414f-9626-9190380d624c",
   "metadata": {},
   "outputs": [],
   "source": [
    "env = CrowdSimRaw()\n",
    "env.configure(config)\n",
    "env.setup(seed=0, num_of_env=1, ax=None)"
   ]
  },
  {
   "cell_type": "code",
   "execution_count": 3,
   "id": "77276a0c-545a-428b-8713-60162eb35073",
   "metadata": {},
   "outputs": [],
   "source": [
    "obs_np = env.reset()"
   ]
  },
  {
   "cell_type": "code",
   "execution_count": 4,
   "id": "39897f38-f1af-497f-ab6b-80b0a88fbf84",
   "metadata": {},
   "outputs": [],
   "source": [
    "obs = torch.from_numpy(obs_np).cuda().float()"
   ]
  },
  {
   "cell_type": "code",
   "execution_count": 5,
   "id": "6846a1f2-e8a9-4f98-8894-245137889f4c",
   "metadata": {},
   "outputs": [],
   "source": [
    "preprocessor = Preprocessor(map_size=12, map_resolution=0.1)"
   ]
  },
  {
   "cell_type": "code",
   "execution_count": 6,
   "id": "5b55ebb2-b050-4778-a9dd-1cd959fa42f5",
   "metadata": {},
   "outputs": [
    {
     "name": "stderr",
     "output_type": "stream",
     "text": [
      "/home/koksyuen/anaconda3/envs/rl/lib/python3.8/site-packages/torch/functional.py:478: UserWarning: torch.meshgrid: in an upcoming release, it will be required to pass the indexing argument. (Triggered internally at  /opt/conda/conda-bld/pytorch_1659484810403/work/aten/src/ATen/native/TensorShape.cpp:2894.)\n",
      "  return _VF.meshgrid(tensors, **kwargs)  # type: ignore[attr-defined]\n"
     ]
    }
   ],
   "source": [
    "pmap = preprocessor(obs)"
   ]
  },
  {
   "cell_type": "code",
   "execution_count": 7,
   "id": "e168d7a6-56bd-4596-95d4-bcd39a9afb5a",
   "metadata": {},
   "outputs": [
    {
     "data": {
      "text/plain": [
       "(torch.Size([1, 120, 120]), torch.float32, device(type='cuda', index=0))"
      ]
     },
     "execution_count": 7,
     "metadata": {},
     "output_type": "execute_result"
    }
   ],
   "source": [
    "pmap.shape, pmap.dtype, pmap.device"
   ]
  },
  {
   "cell_type": "code",
   "execution_count": 8,
   "id": "8499bafd-3857-4b05-bfc6-96b99faab010",
   "metadata": {},
   "outputs": [],
   "source": [
    "from torch.nn import Conv2d, ReLU, Flatten\n",
    "\n",
    "conv1 = Conv2d(1, 32, kernel_size=4, stride=2, padding=0).cuda()\n",
    "relu1 = ReLU().cuda()\n",
    "conv2 = Conv2d(32, 64, kernel_size=4, stride=2, padding=0).cuda()\n",
    "relu2 = ReLU().cuda()\n",
    "conv3 = Conv2d(64, 64, kernel_size=3, stride=1, padding=0).cuda()\n",
    "relu3 = ReLU().cuda()\n",
    "flat1 = Flatten().cuda()"
   ]
  },
  {
   "cell_type": "code",
   "execution_count": 9,
   "id": "684f8522-adde-47d7-9bbd-cd373cb4f95d",
   "metadata": {},
   "outputs": [
    {
     "data": {
      "text/plain": [
       "torch.Size([32, 59, 59])"
      ]
     },
     "execution_count": 9,
     "metadata": {},
     "output_type": "execute_result"
    }
   ],
   "source": [
    "x1 = relu1(conv1(pmap))\n",
    "x1.shape"
   ]
  },
  {
   "cell_type": "code",
   "execution_count": 10,
   "id": "410d7324-c69a-44d5-889c-5253378d2cf5",
   "metadata": {},
   "outputs": [
    {
     "data": {
      "text/plain": [
       "torch.Size([64, 28, 28])"
      ]
     },
     "execution_count": 10,
     "metadata": {},
     "output_type": "execute_result"
    }
   ],
   "source": [
    "x2 = relu2(conv2(x1))\n",
    "x2.shape"
   ]
  },
  {
   "cell_type": "code",
   "execution_count": 11,
   "id": "f36f6a5a-1192-4d99-b847-fc529dec05af",
   "metadata": {},
   "outputs": [
    {
     "data": {
      "text/plain": [
       "torch.Size([64, 26, 26])"
      ]
     },
     "execution_count": 11,
     "metadata": {},
     "output_type": "execute_result"
    }
   ],
   "source": [
    "x3 = relu3(conv3(x2))\n",
    "x3.shape"
   ]
  },
  {
   "cell_type": "code",
   "execution_count": 17,
   "id": "03b01e1b-3a85-48b8-a0c6-f1211a4e3393",
   "metadata": {},
   "outputs": [
    {
     "data": {
      "text/plain": [
       "torch.Size([43264])"
      ]
     },
     "execution_count": 17,
     "metadata": {},
     "output_type": "execute_result"
    }
   ],
   "source": [
    "x5 = x3.flatten()\n",
    "x5.shape"
   ]
  },
  {
   "cell_type": "code",
   "execution_count": 15,
   "id": "ad7eed76-2c4b-49f2-957b-2e5b73aa6c10",
   "metadata": {},
   "outputs": [
    {
     "ename": "TypeError",
     "evalue": "forward() got an unexpected keyword argument 'start_dim'",
     "output_type": "error",
     "traceback": [
      "\u001b[0;31m---------------------------------------------------------------------------\u001b[0m",
      "\u001b[0;31mTypeError\u001b[0m                                 Traceback (most recent call last)",
      "Input \u001b[0;32mIn [15]\u001b[0m, in \u001b[0;36m<cell line: 1>\u001b[0;34m()\u001b[0m\n\u001b[0;32m----> 1\u001b[0m x4 \u001b[38;5;241m=\u001b[39m \u001b[43mflat1\u001b[49m\u001b[43m(\u001b[49m\u001b[43mx3\u001b[49m\u001b[43m,\u001b[49m\u001b[43m \u001b[49m\u001b[43mstart_dim\u001b[49m\u001b[38;5;241;43m=\u001b[39;49m\u001b[38;5;241;43m0\u001b[39;49m\u001b[43m,\u001b[49m\u001b[43m \u001b[49m\u001b[43mend_dim\u001b[49m\u001b[38;5;241;43m=\u001b[39;49m\u001b[38;5;241;43m-\u001b[39;49m\u001b[38;5;241;43m1\u001b[39;49m\u001b[43m)\u001b[49m\n\u001b[1;32m      2\u001b[0m x1\u001b[38;5;241m.\u001b[39mshape\n",
      "File \u001b[0;32m~/anaconda3/envs/rl/lib/python3.8/site-packages/torch/nn/modules/module.py:1130\u001b[0m, in \u001b[0;36mModule._call_impl\u001b[0;34m(self, *input, **kwargs)\u001b[0m\n\u001b[1;32m   1126\u001b[0m \u001b[38;5;66;03m# If we don't have any hooks, we want to skip the rest of the logic in\u001b[39;00m\n\u001b[1;32m   1127\u001b[0m \u001b[38;5;66;03m# this function, and just call forward.\u001b[39;00m\n\u001b[1;32m   1128\u001b[0m \u001b[38;5;28;01mif\u001b[39;00m \u001b[38;5;129;01mnot\u001b[39;00m (\u001b[38;5;28mself\u001b[39m\u001b[38;5;241m.\u001b[39m_backward_hooks \u001b[38;5;129;01mor\u001b[39;00m \u001b[38;5;28mself\u001b[39m\u001b[38;5;241m.\u001b[39m_forward_hooks \u001b[38;5;129;01mor\u001b[39;00m \u001b[38;5;28mself\u001b[39m\u001b[38;5;241m.\u001b[39m_forward_pre_hooks \u001b[38;5;129;01mor\u001b[39;00m _global_backward_hooks\n\u001b[1;32m   1129\u001b[0m         \u001b[38;5;129;01mor\u001b[39;00m _global_forward_hooks \u001b[38;5;129;01mor\u001b[39;00m _global_forward_pre_hooks):\n\u001b[0;32m-> 1130\u001b[0m     \u001b[38;5;28;01mreturn\u001b[39;00m \u001b[43mforward_call\u001b[49m\u001b[43m(\u001b[49m\u001b[38;5;241;43m*\u001b[39;49m\u001b[38;5;28;43minput\u001b[39;49m\u001b[43m,\u001b[49m\u001b[43m \u001b[49m\u001b[38;5;241;43m*\u001b[39;49m\u001b[38;5;241;43m*\u001b[39;49m\u001b[43mkwargs\u001b[49m\u001b[43m)\u001b[49m\n\u001b[1;32m   1131\u001b[0m \u001b[38;5;66;03m# Do not call functions when jit is used\u001b[39;00m\n\u001b[1;32m   1132\u001b[0m full_backward_hooks, non_full_backward_hooks \u001b[38;5;241m=\u001b[39m [], []\n",
      "\u001b[0;31mTypeError\u001b[0m: forward() got an unexpected keyword argument 'start_dim'"
     ]
    }
   ],
   "source": [
    "x4 = flat1(x3, start_dim=0, end_dim=-1)\n",
    "x1.shape"
   ]
  },
  {
   "cell_type": "code",
   "execution_count": null,
   "id": "b4208687-4dde-49f5-8074-63da24fe69a1",
   "metadata": {},
   "outputs": [],
   "source": [
    "plt.imshow(pmap.reshape(pmap.shape[1], pmap.shape[2]).cpu(), cmap='gray')"
   ]
  },
  {
   "cell_type": "markdown",
   "id": "f20440d5-80ec-4d8c-bb44-135c9bcb54e7",
   "metadata": {},
   "source": [
    "## Testing APF"
   ]
  },
  {
   "cell_type": "code",
   "execution_count": null,
   "id": "41371fdd-8414-42db-9815-96abc4c5d493",
   "metadata": {},
   "outputs": [],
   "source": [
    "map_resolution = 0.1\n",
    "map_size = 12\n",
    "\n",
    "KP = 9.0  # attractive potential gain\n",
    "ETA = 1.0  # repulsive potential gain\n",
    "# decay rate with respect to time    0.9^(t-t0)\n",
    "DECAY = [1.0, 0.9, 0.81, 0.73, 0.66, 0.59, 0.53, 0.48]"
   ]
  },
  {
   "cell_type": "code",
   "execution_count": null,
   "id": "600254d2-e566-4434-95c3-04a3c33196c6",
   "metadata": {},
   "outputs": [],
   "source": [
    "pred_traj.shape, pred_traj.device"
   ]
  },
  {
   "cell_type": "code",
   "execution_count": null,
   "id": "e34d9ba7-7dda-438e-a735-c1cd19eb112c",
   "metadata": {},
   "outputs": [],
   "source": [
    "gx.shape, gx.device, gy.shape, gy.device"
   ]
  },
  {
   "cell_type": "code",
   "execution_count": null,
   "id": "1025fa9d-ea42-46d9-8727-c9eeede57cb6",
   "metadata": {},
   "outputs": [],
   "source": [
    "radius.device, radius.shape"
   ]
  },
  {
   "cell_type": "code",
   "execution_count": null,
   "id": "7dc03793-f183-451b-8251-83eed57c6a86",
   "metadata": {},
   "outputs": [],
   "source": [
    "# center of map\n",
    "center = map_size / 2\n",
    "# number of grid\n",
    "width = int(round((map_size / map_resolution)))"
   ]
  },
  {
   "cell_type": "code",
   "execution_count": null,
   "id": "8241cb8e-ff8f-47e7-abcc-ff79aa269e6d",
   "metadata": {},
   "outputs": [],
   "source": [
    "# Create an empty map\n",
    "# 0: x-axis    1: y-axis\n",
    "pmap_y, pmap_x = torch.meshgrid(torch.linspace(center, -center, width, device='cuda'), torch.linspace(center, -center, width, device='cuda'))"
   ]
  },
  {
   "cell_type": "code",
   "execution_count": null,
   "id": "b075db7b-437e-4e32-b490-384855633c6c",
   "metadata": {},
   "outputs": [],
   "source": [
    "pmap_x.device, pmap_x.shape"
   ]
  },
  {
   "cell_type": "code",
   "execution_count": null,
   "id": "27738001-a97a-49cc-beed-f61b7bfd3583",
   "metadata": {},
   "outputs": [],
   "source": [
    "ug = 0.5 * KP * torch.hypot(pmap_x - gx, pmap_y - gy)"
   ]
  },
  {
   "cell_type": "code",
   "execution_count": null,
   "id": "c0f5028a-b21a-40a4-931c-080ba53f3dff",
   "metadata": {},
   "outputs": [],
   "source": [
    "ug.shape, ug.device"
   ]
  },
  {
   "cell_type": "code",
   "execution_count": null,
   "id": "31c84392-d04b-432d-87d7-1ff8033b5a19",
   "metadata": {},
   "outputs": [],
   "source": [
    "# reshape to (pmap.shape[0], pmap.shape[1], 1, 1)\n",
    "# pmap_x = pmap_x.reshape(pmap_x.shape[0], pmap_x.shape[1], 1, 1)\n",
    "# pmap_y = pmap_y.reshape(pmap_y.shape[0], pmap_y.shape[1], 1, 1)"
   ]
  },
  {
   "cell_type": "code",
   "execution_count": null,
   "id": "f28484fa-473d-4df5-b128-449f2162dc45",
   "metadata": {},
   "outputs": [],
   "source": [
    "dq = torch.hypot(pmap_x.reshape(pmap_x.shape[0], pmap_x.shape[1], 1, 1) - pred_traj[:, :, 0], pmap_y.reshape(pmap_y.shape[0], pmap_y.shape[1], 1, 1) - pred_traj[:, :, 1])"
   ]
  },
  {
   "cell_type": "code",
   "execution_count": null,
   "id": "9884cde6-2964-4f82-ba14-6acd9202ac0a",
   "metadata": {},
   "outputs": [],
   "source": [
    "dq.shape, dq.device"
   ]
  },
  {
   "cell_type": "code",
   "execution_count": null,
   "id": "40cb5611-7b17-4860-973c-47bae3fdf086",
   "metadata": {},
   "outputs": [],
   "source": [
    "dq[dq <= 0.1] = 0.1"
   ]
  },
  {
   "cell_type": "code",
   "execution_count": null,
   "id": "bb0f1819-5b20-4bb2-bf59-3f540d6db62d",
   "metadata": {},
   "outputs": [],
   "source": [
    "dq.shape, dq.device"
   ]
  },
  {
   "cell_type": "code",
   "execution_count": null,
   "id": "eb10ed3f-f0d6-4003-b23f-50966b66d78d",
   "metadata": {},
   "outputs": [],
   "source": [
    "uo = 0.5 * ETA * (1.0 / dq - 1.0 / radius) ** 2"
   ]
  },
  {
   "cell_type": "code",
   "execution_count": null,
   "id": "de963648-8b6f-445e-bec6-cec5394b5503",
   "metadata": {},
   "outputs": [],
   "source": [
    "uo.shape, uo.device"
   ]
  },
  {
   "cell_type": "code",
   "execution_count": null,
   "id": "4e31a4c5-ab2a-42b1-812e-41f885dde697",
   "metadata": {},
   "outputs": [],
   "source": [
    "uo = uo.permute(0, 1, 3, 2)"
   ]
  },
  {
   "cell_type": "code",
   "execution_count": null,
   "id": "0855fce5-bb6a-41d5-81bd-8bf21ab8e0ef",
   "metadata": {},
   "outputs": [],
   "source": [
    "uo.shape, uo.device"
   ]
  },
  {
   "cell_type": "code",
   "execution_count": null,
   "id": "39e97376-2c42-47f7-99a2-7407479bcb47",
   "metadata": {},
   "outputs": [],
   "source": [
    "DECAY = [1.0, 0.9, 0.81, 0.73, 0.66, 0.59, 0.53, 0.48]\n",
    "decay = torch.tensor(DECAY, device='cuda')"
   ]
  },
  {
   "cell_type": "code",
   "execution_count": null,
   "id": "15e9ded7-92ab-4b27-ac39-cb0dcacc5b7b",
   "metadata": {},
   "outputs": [],
   "source": [
    "uo = decay * uo"
   ]
  },
  {
   "cell_type": "code",
   "execution_count": null,
   "id": "74ed4030-d026-450d-8fb8-f34c9c93a05d",
   "metadata": {},
   "outputs": [],
   "source": [
    "uo.shape, uo.device"
   ]
  },
  {
   "cell_type": "code",
   "execution_count": null,
   "id": "5bd6629f-1531-4632-b32c-0a607baeaaad",
   "metadata": {},
   "outputs": [],
   "source": [
    "uo = torch.amax(uo, dim=(-2, -1))"
   ]
  },
  {
   "cell_type": "code",
   "execution_count": null,
   "id": "b64b6b2e-b3a8-49b7-9e6c-e20588d5444e",
   "metadata": {},
   "outputs": [],
   "source": [
    "uo.shape, uo.device, uo.dtype"
   ]
  },
  {
   "cell_type": "code",
   "execution_count": null,
   "id": "5807cc4b-e2ce-4f84-9ca3-6e4ce800573d",
   "metadata": {},
   "outputs": [],
   "source": [
    "u_total = torch.add(ug, uo)"
   ]
  },
  {
   "cell_type": "code",
   "execution_count": null,
   "id": "d9142833-8298-4e5a-8d34-228e6be635fe",
   "metadata": {},
   "outputs": [],
   "source": [
    "u_total.shape, u_total.device"
   ]
  },
  {
   "cell_type": "code",
   "execution_count": null,
   "id": "9543cb03-8d17-4850-8eb9-01ee8a4980f4",
   "metadata": {},
   "outputs": [],
   "source": [
    "pmap_norm = (u_total-torch.min(u_total))/(torch.max(u_total)-torch.min(u_total)) * 255\n",
    "pmap_norm = torch.round(pmap_norm).type(torch.uint8)\n",
    "pmap_norm.reshape(pmap_norm.shape[0], pmap_norm.shape[1], 1)\n",
    "pmap_norm.shape, pmap_norm.device"
   ]
  },
  {
   "cell_type": "code",
   "execution_count": null,
   "id": "7bb93d5e-ce0b-4b18-8d90-f033fb4eb607",
   "metadata": {},
   "outputs": [],
   "source": [
    "import matplotlib.pyplot as plt"
   ]
  },
  {
   "cell_type": "code",
   "execution_count": null,
   "id": "d5759170-930f-4b4b-ae13-eca15b21d0f0",
   "metadata": {},
   "outputs": [],
   "source": [
    "plt.imshow(pmap_norm.cpu(), cmap='gray')"
   ]
  },
  {
   "cell_type": "markdown",
   "id": "e259acd0-4ee9-4f8b-a9ff-8845f1a0a932",
   "metadata": {},
   "source": [
    "# Custom feature extractor"
   ]
  },
  {
   "cell_type": "code",
   "execution_count": 1,
   "id": "aedf068f-abba-4ab8-86e8-9dc8aee9614d",
   "metadata": {},
   "outputs": [],
   "source": [
    "from crowd_sim.envs.crowd_sim_raw import CrowdSimRaw\n",
    "from sb3.feature_extractor import Preprocessor, ApfFeaturesExtractor\n",
    "from stable_baselines3 import PPO, A2C, DQN\n",
    "import gym\n",
    "import time\n",
    "import torch\n",
    "import matplotlib.pyplot as plt\n",
    "from stable_baselines3.common.vec_env import DummyVecEnv, SubprocVecEnv\n",
    "\n",
    "from arguments import get_args\n",
    "from crowd_nav.configs.config import Config\n",
    "config = Config()"
   ]
  },
  {
   "cell_type": "code",
   "execution_count": 2,
   "id": "4624999e-5322-4759-8330-80dde2143ce4",
   "metadata": {},
   "outputs": [],
   "source": [
    "env = CrowdSimRaw()\n",
    "env.configure(config)\n",
    "env.setup(seed=0, num_of_env=1, ax=None)"
   ]
  },
  {
   "cell_type": "code",
   "execution_count": 3,
   "id": "e6bed85b-46ee-4ccb-a171-5cbb2c54baa0",
   "metadata": {},
   "outputs": [],
   "source": [
    "def make_env(seed, rank, env_config, envNum=1):\n",
    "    \"\"\"\n",
    "    Utility function for multiprocessed env.\n",
    "\n",
    "    :param env_id: (str) the environment ID\n",
    "    :param seed: (int) the inital seed for RNG\n",
    "    :param rank: (int) index of the subprocess\n",
    "    \"\"\"\n",
    "\n",
    "    def _init():\n",
    "        env = CrowdSimRaw()\n",
    "        # use a seed for reproducibility\n",
    "        # Important: use a different seed for each environment\n",
    "        # otherwise they would generate the same experiences\n",
    "        env.seed(seed + rank)\n",
    "        env.setup(seed=seed+rank, num_of_env=envNum)\n",
    "        env.configure(env_config)\n",
    "        # env = DiscreteActions(env, discrete_actions)\n",
    "        return env\n",
    "\n",
    "    return _init"
   ]
  },
  {
   "cell_type": "code",
   "execution_count": 4,
   "id": "14bb4c8f-08e9-4def-9e41-3a6da34cbd13",
   "metadata": {},
   "outputs": [],
   "source": [
    "# venv = DummyVecEnv([make_env(0, i, config, 2) for i in range(2)])\n",
    "venv = SubprocVecEnv([make_env(0, i, config, 2) for i in range(2)])"
   ]
  },
  {
   "cell_type": "code",
   "execution_count": 5,
   "id": "9ed35a65-db09-430c-ab8e-54f728563323",
   "metadata": {},
   "outputs": [
    {
     "data": {
      "text/plain": [
       "<stable_baselines3.common.vec_env.subproc_vec_env.SubprocVecEnv at 0x7eff921797c0>"
      ]
     },
     "execution_count": 5,
     "metadata": {},
     "output_type": "execute_result"
    }
   ],
   "source": [
    "venv"
   ]
  },
  {
   "cell_type": "code",
   "execution_count": 6,
   "id": "2f5cdd8d-a24b-4a3f-89e6-fdd9f8f5519b",
   "metadata": {},
   "outputs": [
    {
     "name": "stdout",
     "output_type": "stream",
     "text": [
      "Using cuda device\n"
     ]
    },
    {
     "name": "stderr",
     "output_type": "stream",
     "text": [
      "/home/koksyuen/anaconda3/envs/rl/lib/python3.8/site-packages/torch/functional.py:478: UserWarning: torch.meshgrid: in an upcoming release, it will be required to pass the indexing argument. (Triggered internally at  /opt/conda/conda-bld/pytorch_1659484810403/work/aten/src/ATen/native/TensorShape.cpp:2894.)\n",
      "  return _VF.meshgrid(tensors, **kwargs)  # type: ignore[attr-defined]\n"
     ]
    },
    {
     "name": "stdout",
     "output_type": "stream",
     "text": [
      "torch.Size([64, 121])\n"
     ]
    }
   ],
   "source": [
    "policy_kwargs = dict(\n",
    "    features_extractor_class=ApfFeaturesExtractor,\n",
    "    features_extractor_kwargs=dict(features_dim=512),\n",
    ")\n",
    "model = PPO(\"CnnPolicy\", venv, policy_kwargs=policy_kwargs, verbose=1, device='cuda')"
   ]
  },
  {
   "cell_type": "code",
   "execution_count": 8,
   "id": "89b8b926-16c3-4caa-964f-f31ebc6aba7f",
   "metadata": {},
   "outputs": [
    {
     "name": "stdout",
     "output_type": "stream",
     "text": [
      "log_std\n",
      "Parameter containing:\n",
      "tensor([0., 0.], device='cuda:0', requires_grad=True)\n",
      "features_extractor.apf_generator.traj_predictor.encoder.encoder.weight_ih_l0\n",
      "features_extractor.apf_generator.traj_predictor.encoder.encoder.weight_hh_l0\n",
      "features_extractor.apf_generator.traj_predictor.encoder.encoder.bias_ih_l0\n",
      "features_extractor.apf_generator.traj_predictor.encoder.encoder.bias_hh_l0\n",
      "features_extractor.apf_generator.traj_predictor.encoder.spatial_embedding.weight\n",
      "features_extractor.apf_generator.traj_predictor.encoder.spatial_embedding.bias\n",
      "features_extractor.apf_generator.traj_predictor.decoder.decoder.weight_ih_l0\n",
      "features_extractor.apf_generator.traj_predictor.decoder.decoder.weight_hh_l0\n",
      "features_extractor.apf_generator.traj_predictor.decoder.decoder.bias_ih_l0\n",
      "features_extractor.apf_generator.traj_predictor.decoder.decoder.bias_hh_l0\n",
      "features_extractor.apf_generator.traj_predictor.decoder.spatial_embedding.weight\n",
      "features_extractor.apf_generator.traj_predictor.decoder.spatial_embedding.bias\n",
      "features_extractor.apf_generator.traj_predictor.decoder.hidden2pos.weight\n",
      "features_extractor.apf_generator.traj_predictor.decoder.hidden2pos.bias\n",
      "features_extractor.apf_generator.traj_predictor.pool_net.spatial_embedding.weight\n",
      "features_extractor.apf_generator.traj_predictor.pool_net.spatial_embedding.bias\n",
      "features_extractor.apf_generator.traj_predictor.pool_net.mlp_pre_pool.0.weight\n",
      "features_extractor.apf_generator.traj_predictor.pool_net.mlp_pre_pool.0.bias\n",
      "features_extractor.apf_generator.traj_predictor.pool_net.mlp_pre_pool.2.weight\n",
      "features_extractor.apf_generator.traj_predictor.pool_net.mlp_pre_pool.2.bias\n",
      "features_extractor.apf_generator.traj_predictor.mlp_decoder_context.0.weight\n",
      "features_extractor.apf_generator.traj_predictor.mlp_decoder_context.0.bias\n",
      "features_extractor.apf_generator.traj_predictor.mlp_decoder_context.2.weight\n",
      "features_extractor.apf_generator.traj_predictor.mlp_decoder_context.2.bias\n",
      "features_extractor.cnn.0.weight\n",
      "Parameter containing:\n",
      "tensor([[[[ 8.8070e-04,  3.1718e-01, -1.9864e-01,  ..., -6.5515e-02,\n",
      "           -1.1717e-01,  2.3700e-01],\n",
      "          [-1.7492e-01, -2.4013e-02, -2.2552e-03,  ..., -4.0141e-01,\n",
      "           -2.0800e-01,  1.0610e-01],\n",
      "          [ 1.0253e-01, -2.6012e-02,  6.2136e-02,  ...,  9.6644e-02,\n",
      "           -8.4521e-02,  4.4833e-01],\n",
      "          ...,\n",
      "          [-1.9993e-01, -2.6412e-01,  1.9393e-01,  ...,  1.3044e-02,\n",
      "           -9.3759e-02, -3.0348e-02],\n",
      "          [-1.3023e-01,  1.2233e-01, -2.5868e-01,  ...,  1.4908e-01,\n",
      "            2.7597e-01, -3.5226e-02],\n",
      "          [ 2.9892e-01,  3.8094e-02, -8.2904e-03,  ..., -3.6295e-02,\n",
      "            3.8690e-02,  1.8647e-01]]],\n",
      "\n",
      "\n",
      "        [[[ 2.6164e-01,  8.1399e-02, -9.7476e-02,  ...,  1.0865e-01,\n",
      "           -1.0197e-01,  9.0230e-02],\n",
      "          [-8.0525e-02, -4.7470e-01,  5.7716e-01,  ...,  4.0005e-02,\n",
      "            6.3221e-02,  2.5098e-01],\n",
      "          [-1.9007e-01, -2.1792e-02, -2.0022e-01,  ...,  2.7563e-02,\n",
      "           -7.9313e-02, -1.1273e-02],\n",
      "          ...,\n",
      "          [-1.8526e-01,  2.2460e-01,  2.0576e-02,  ..., -3.4747e-03,\n",
      "            7.1271e-02, -2.7945e-01],\n",
      "          [ 7.3647e-02, -8.8073e-02,  2.1172e-01,  ...,  3.7564e-02,\n",
      "            7.7182e-02, -1.0202e-01],\n",
      "          [ 3.8241e-02, -1.9471e-02, -5.5294e-02,  ...,  1.6386e-02,\n",
      "            3.8795e-02,  9.3840e-02]]],\n",
      "\n",
      "\n",
      "        [[[-3.9060e-01, -6.9330e-02,  1.4878e-01,  ...,  1.2233e-01,\n",
      "           -1.4477e-01, -2.4756e-01],\n",
      "          [-2.2245e-01, -1.6746e-01,  8.5507e-02,  ...,  1.7696e-01,\n",
      "           -1.5409e-01, -3.6618e-01],\n",
      "          [ 6.3747e-02,  4.0301e-01, -8.0741e-02,  ...,  1.4586e-01,\n",
      "           -1.4511e-01, -2.1640e-01],\n",
      "          ...,\n",
      "          [-2.3501e-02, -4.4468e-01,  1.8868e-01,  ...,  1.9608e-01,\n",
      "            2.1353e-01, -7.2800e-02],\n",
      "          [ 7.0192e-02,  2.0864e-01, -1.7920e-02,  ...,  7.0438e-02,\n",
      "            1.0621e-01,  1.2851e-01],\n",
      "          [ 2.1780e-01,  4.6570e-02, -4.2674e-02,  ...,  2.8497e-02,\n",
      "            8.9727e-02, -1.0146e-01]]],\n",
      "\n",
      "\n",
      "        ...,\n",
      "\n",
      "\n",
      "        [[[ 1.1582e-02,  4.3020e-02, -4.8913e-04,  ...,  1.5558e-01,\n",
      "            6.6061e-02, -5.6972e-03],\n",
      "          [-7.3272e-02, -2.7534e-01, -2.3616e-01,  ..., -2.6827e-02,\n",
      "            7.2295e-02, -2.2028e-01],\n",
      "          [ 1.6004e-01, -8.1526e-02,  7.8578e-02,  ..., -2.3945e-01,\n",
      "            3.4322e-02,  2.8540e-01],\n",
      "          ...,\n",
      "          [ 2.8088e-01,  8.1320e-02, -8.7209e-02,  ...,  1.5504e-01,\n",
      "           -1.4006e-01,  2.0096e-01],\n",
      "          [-1.6147e-01,  9.9652e-03,  2.6164e-01,  ..., -1.9194e-01,\n",
      "           -1.2459e-01,  2.7165e-02],\n",
      "          [-1.4449e-01,  7.2650e-02, -3.0386e-01,  ...,  3.5218e-02,\n",
      "           -1.1368e-01,  1.1807e-01]]],\n",
      "\n",
      "\n",
      "        [[[-2.1219e-01,  2.4395e-01,  1.9624e-01,  ...,  4.0156e-02,\n",
      "            1.2515e-03,  5.6269e-02],\n",
      "          [ 3.3943e-01,  1.1711e-01, -2.6280e-01,  ...,  6.5345e-02,\n",
      "            6.5088e-03, -1.8064e-02],\n",
      "          [-1.6702e-01, -3.9411e-01, -3.0584e-01,  ...,  1.5902e-01,\n",
      "           -3.0900e-01, -3.8965e-01],\n",
      "          ...,\n",
      "          [ 1.6371e-02,  7.7292e-02,  2.1678e-01,  ..., -9.3017e-03,\n",
      "           -2.6798e-02,  7.4778e-02],\n",
      "          [-1.4949e-01,  6.3682e-03, -3.0299e-01,  ...,  1.9711e-01,\n",
      "           -1.3110e-01, -1.7439e-01],\n",
      "          [ 1.1331e-01,  9.5517e-02,  7.4518e-02,  ..., -1.3828e-01,\n",
      "            1.1460e-01, -8.9734e-02]]],\n",
      "\n",
      "\n",
      "        [[[-4.0597e-01, -6.1978e-02,  1.9073e-02,  ...,  7.5803e-02,\n",
      "            6.8914e-02,  6.8869e-02],\n",
      "          [-1.9612e-01,  1.4775e-01, -4.2823e-02,  ..., -2.0117e-01,\n",
      "           -2.8324e-01,  6.7060e-02],\n",
      "          [ 3.1552e-02, -2.0134e-01,  3.2338e-01,  ...,  5.7408e-02,\n",
      "            1.0589e-01, -1.0866e-01],\n",
      "          ...,\n",
      "          [ 2.8633e-01,  9.5049e-02, -2.7726e-01,  ...,  5.7969e-02,\n",
      "            2.2845e-01, -4.8944e-02],\n",
      "          [-1.4332e-01, -1.6199e-01,  1.0890e-01,  ...,  1.7060e-01,\n",
      "            1.5662e-01,  3.8901e-02],\n",
      "          [-1.4424e-01,  1.6153e-01, -2.8746e-02,  ..., -2.4624e-02,\n",
      "           -3.5114e-02,  2.0431e-01]]]], device='cuda:0', requires_grad=True)\n",
      "features_extractor.cnn.0.bias\n",
      "Parameter containing:\n",
      "tensor([0., 0., 0., 0., 0., 0., 0., 0., 0., 0., 0., 0., 0., 0., 0., 0., 0., 0., 0., 0., 0., 0., 0., 0.,\n",
      "        0., 0., 0., 0., 0., 0., 0., 0.], device='cuda:0', requires_grad=True)\n",
      "features_extractor.cnn.2.weight\n",
      "Parameter containing:\n",
      "tensor([[[[ 1.6471e-02,  3.1626e-02, -6.0963e-02, -3.6586e-02],\n",
      "          [ 1.2127e-02, -1.2345e-01,  6.7643e-02,  3.7828e-02],\n",
      "          [-5.0442e-02,  1.3360e-02, -4.1147e-02,  7.6732e-03],\n",
      "          [-1.5811e-01, -1.7287e-03,  6.8350e-02, -1.5934e-02]],\n",
      "\n",
      "         [[ 3.6648e-02, -1.5091e-02,  1.7452e-03, -4.5117e-02],\n",
      "          [-4.2319e-02,  2.3441e-02, -1.3841e-02,  3.9394e-02],\n",
      "          [-1.0134e-01, -6.6621e-02, -9.4643e-02, -1.1038e-02],\n",
      "          [-6.2724e-02, -7.3397e-02, -8.2752e-02,  1.0305e-01]],\n",
      "\n",
      "         [[ 3.4716e-02,  5.7128e-02,  2.4466e-02, -1.0904e-02],\n",
      "          [ 3.3042e-03,  7.7636e-02, -9.1955e-02,  1.3057e-01],\n",
      "          [-4.2693e-02,  4.1270e-02, -1.1029e-02,  2.4349e-02],\n",
      "          [ 9.6309e-03, -4.6628e-02,  4.3306e-03, -8.2514e-02]],\n",
      "\n",
      "         ...,\n",
      "\n",
      "         [[-3.6006e-02,  8.8361e-02,  8.2697e-02,  7.0876e-02],\n",
      "          [ 1.2802e-02,  3.3186e-02,  6.1650e-02,  1.3814e-01],\n",
      "          [-6.5248e-02,  2.5883e-03, -5.3095e-02,  3.2636e-02],\n",
      "          [ 6.5300e-03,  4.9069e-02,  1.8942e-02, -1.0360e-02]],\n",
      "\n",
      "         [[ 3.4627e-02,  1.3805e-04,  5.6075e-02,  7.3858e-02],\n",
      "          [ 6.6471e-02,  3.9697e-02, -4.3030e-02, -5.6879e-03],\n",
      "          [-1.8584e-03,  1.0374e-02,  9.3150e-03, -3.9979e-02],\n",
      "          [ 1.0135e-01, -4.5999e-02,  9.6822e-02, -8.1424e-02]],\n",
      "\n",
      "         [[-1.8761e-02, -7.1767e-02,  5.8471e-02, -7.7271e-02],\n",
      "          [ 4.4624e-02,  5.7336e-02, -2.8076e-04,  7.2635e-02],\n",
      "          [-1.0169e-02,  1.0560e-01,  6.3687e-02,  5.0945e-02],\n",
      "          [ 1.0999e-01,  3.9436e-03,  8.7542e-02,  9.2001e-02]]],\n",
      "\n",
      "\n",
      "        [[[ 1.2834e-01, -5.5373e-02, -7.7479e-02, -4.0166e-02],\n",
      "          [ 9.9097e-02, -2.5575e-02, -3.8363e-03,  6.8813e-02],\n",
      "          [ 2.5739e-02, -7.6365e-02,  3.6816e-02,  4.8523e-02],\n",
      "          [ 1.4124e-02,  2.3700e-02, -1.1304e-01,  1.1264e-02]],\n",
      "\n",
      "         [[-3.6371e-02, -3.6333e-02,  3.7966e-03, -1.5392e-01],\n",
      "          [-6.3471e-02, -4.7582e-02,  2.4267e-02, -1.7664e-01],\n",
      "          [-4.7845e-02, -7.2352e-02,  4.3743e-02,  1.1075e-01],\n",
      "          [-1.7659e-02, -4.7514e-02,  9.4952e-02, -4.7849e-02]],\n",
      "\n",
      "         [[ 2.6236e-02,  5.4947e-02,  3.9489e-02, -8.7742e-03],\n",
      "          [ 5.5023e-03, -1.4672e-02, -3.8246e-02,  1.9489e-01],\n",
      "          [ 9.0570e-02,  3.0529e-02,  2.9457e-02,  4.3176e-02],\n",
      "          [-1.1004e-01,  5.5819e-02,  5.4560e-02,  1.4499e-04]],\n",
      "\n",
      "         ...,\n",
      "\n",
      "         [[-6.6803e-02,  2.0788e-04, -1.7725e-02, -4.6330e-02],\n",
      "          [ 4.7110e-02,  7.9630e-03,  6.5562e-02, -4.9304e-02],\n",
      "          [ 1.5766e-02, -1.4206e-01,  4.9581e-02,  6.4416e-02],\n",
      "          [ 5.7118e-02, -1.7499e-02, -5.9097e-02,  1.7602e-02]],\n",
      "\n",
      "         [[-7.7583e-02, -9.0609e-03,  8.4057e-02, -2.8749e-02],\n",
      "          [-5.2896e-02,  3.6218e-02,  7.2557e-02, -5.0436e-02],\n",
      "          [-5.8549e-02,  8.3495e-02, -8.9725e-02, -1.0498e-01],\n",
      "          [ 1.7427e-02, -2.2176e-02,  2.2633e-02,  1.3220e-01]],\n",
      "\n",
      "         [[ 7.6673e-04, -2.0706e-04, -5.6147e-02, -9.1648e-02],\n",
      "          [-3.1484e-03, -8.9409e-02, -1.0259e-02, -4.0769e-02],\n",
      "          [-1.1329e-02, -1.3831e-01,  7.7552e-02,  3.3782e-02],\n",
      "          [ 6.0132e-02, -1.0814e-01, -2.2812e-02, -1.8969e-02]]],\n",
      "\n",
      "\n",
      "        [[[-2.9922e-02,  1.3959e-01,  1.1828e-01, -5.1558e-02],\n",
      "          [-5.8262e-02, -3.3920e-02,  1.1950e-01, -1.1332e-02],\n",
      "          [ 4.7930e-02,  7.1596e-02, -5.6044e-02,  5.8333e-02],\n",
      "          [ 2.7259e-02,  1.0534e-01, -1.2873e-02,  9.0618e-02]],\n",
      "\n",
      "         [[-4.5128e-03, -8.3829e-02,  2.8876e-02, -9.2964e-02],\n",
      "          [-1.2215e-01, -9.4692e-02, -2.4385e-02,  2.1983e-02],\n",
      "          [-4.5022e-02, -3.5243e-02,  6.3029e-02,  7.2044e-03],\n",
      "          [ 6.9225e-02,  1.0134e-01, -1.1595e-01, -9.3432e-02]],\n",
      "\n",
      "         [[-4.6818e-02, -1.6871e-02,  5.0680e-02,  2.8280e-02],\n",
      "          [ 2.4053e-02,  3.4991e-02, -6.6898e-02,  2.5562e-02],\n",
      "          [ 2.4257e-02,  4.2842e-02, -1.4890e-02,  3.2306e-02],\n",
      "          [ 4.5163e-02,  4.3163e-02,  7.8198e-02,  5.2412e-02]],\n",
      "\n",
      "         ...,\n",
      "\n",
      "         [[ 3.3615e-02,  6.5446e-02,  5.6726e-02, -2.0002e-02],\n",
      "          [ 5.6275e-02, -1.1037e-02, -3.3062e-02, -9.4071e-02],\n",
      "          [ 5.7269e-02, -8.2639e-02,  1.8804e-02, -8.0775e-02],\n",
      "          [-1.4908e-01,  4.5217e-02, -3.1971e-02, -1.1990e-02]],\n",
      "\n",
      "         [[ 4.2210e-02,  3.6458e-02,  6.6699e-02,  5.0740e-02],\n",
      "          [-1.0045e-02,  1.2705e-02, -6.7231e-04,  1.1536e-01],\n",
      "          [ 4.6081e-02,  7.2439e-02,  7.0481e-02, -4.1672e-02],\n",
      "          [ 1.1095e-01,  4.7295e-02,  8.8895e-02, -6.5248e-02]],\n",
      "\n",
      "         [[ 6.8389e-03,  5.8406e-02,  4.4409e-02,  1.2217e-01],\n",
      "          [ 3.1379e-02, -5.3099e-02,  4.2113e-02, -3.6632e-03],\n",
      "          [-5.3237e-02,  9.8018e-02, -5.9300e-02, -9.9295e-02],\n",
      "          [-9.5261e-02, -7.4647e-02, -5.0132e-02, -3.1370e-02]]],\n",
      "\n",
      "\n",
      "        ...,\n",
      "\n",
      "\n",
      "        [[[ 2.5897e-02,  6.8360e-02,  2.2477e-02,  4.7049e-02],\n",
      "          [-3.9391e-02, -9.2519e-02,  9.4842e-03,  4.9799e-02],\n",
      "          [-6.6808e-02, -4.8651e-02,  9.0018e-02,  4.2364e-02],\n",
      "          [-8.3417e-02, -4.4548e-02, -6.2310e-02,  5.9007e-02]],\n",
      "\n",
      "         [[-1.9677e-02, -1.5031e-02, -1.3670e-02, -2.4964e-02],\n",
      "          [-1.4720e-02,  3.7431e-02,  6.7105e-02,  1.0437e-01],\n",
      "          [ 2.3246e-02, -5.2392e-02, -8.4428e-02, -8.0074e-02],\n",
      "          [-1.1208e-01,  3.1130e-02, -1.2888e-02,  5.6551e-03]],\n",
      "\n",
      "         [[-3.3249e-02, -6.0906e-02,  1.1880e-01, -2.2745e-02],\n",
      "          [ 1.1799e-02,  1.2919e-01,  3.6706e-02, -2.2842e-02],\n",
      "          [ 4.4355e-02, -2.6570e-02, -3.0001e-02,  2.0840e-02],\n",
      "          [ 6.4969e-02,  5.7202e-02, -6.2173e-02,  2.7006e-02]],\n",
      "\n",
      "         ...,\n",
      "\n",
      "         [[ 8.0120e-03, -2.1761e-02, -6.2087e-02,  7.6473e-02],\n",
      "          [-5.6666e-02,  3.7091e-02,  3.2623e-02, -5.8779e-02],\n",
      "          [ 1.7751e-02, -1.8203e-02,  5.0418e-03,  1.2793e-02],\n",
      "          [ 7.0277e-02,  2.6542e-02,  1.3020e-02, -2.2077e-02]],\n",
      "\n",
      "         [[ 1.4307e-02, -3.5035e-02,  7.7494e-02,  3.7103e-02],\n",
      "          [ 5.9755e-02, -9.7652e-03,  2.6117e-02, -6.8354e-02],\n",
      "          [-3.8886e-02,  5.9061e-02, -6.4711e-02,  2.3177e-03],\n",
      "          [-3.2021e-02,  1.0477e-01, -4.6735e-02, -4.6448e-02]],\n",
      "\n",
      "         [[ 1.0499e-01,  3.6639e-02,  1.1737e-01,  2.5828e-02],\n",
      "          [-5.5841e-02, -8.4959e-02, -5.5111e-02, -4.5884e-03],\n",
      "          [ 6.0764e-02, -5.0196e-02, -5.7765e-02,  5.7628e-02],\n",
      "          [-4.4078e-02, -4.7781e-03, -1.2365e-02,  6.2656e-03]]],\n",
      "\n",
      "\n",
      "        [[[-7.7278e-02, -5.6653e-02, -3.8573e-02, -7.2608e-02],\n",
      "          [-4.7678e-02, -4.1799e-02,  8.2961e-02, -1.0146e-01],\n",
      "          [-4.4984e-03, -2.3414e-02, -1.8090e-02,  3.4079e-02],\n",
      "          [-5.4104e-02, -3.4124e-02,  5.2789e-02,  5.2478e-02]],\n",
      "\n",
      "         [[-8.1666e-02,  6.1670e-02,  2.7763e-02,  7.9807e-02],\n",
      "          [-3.6494e-02,  9.2675e-03, -2.2419e-02,  3.7655e-02],\n",
      "          [-1.4422e-02, -4.8635e-02,  9.6118e-02, -3.0372e-02],\n",
      "          [ 1.1378e-01,  2.1825e-02,  4.7696e-02, -1.0163e-01]],\n",
      "\n",
      "         [[ 5.8632e-02, -3.8393e-02, -4.4215e-02, -1.3665e-02],\n",
      "          [-2.2684e-02,  9.8995e-03, -3.3215e-02,  4.4491e-02],\n",
      "          [-3.0936e-02, -1.2475e-01, -7.6671e-03, -7.5320e-02],\n",
      "          [-1.7029e-02, -5.5463e-02, -1.3858e-02,  8.6187e-02]],\n",
      "\n",
      "         ...,\n",
      "\n",
      "         [[ 5.0506e-02,  3.4510e-03, -5.1572e-02, -9.3722e-02],\n",
      "          [ 1.4612e-02, -2.7546e-02,  2.5820e-02,  1.0266e-01],\n",
      "          [-1.5357e-02,  2.7177e-02,  1.1542e-01,  4.5682e-02],\n",
      "          [-1.0743e-01,  8.8197e-02, -5.4532e-02, -6.8894e-02]],\n",
      "\n",
      "         [[ 6.4986e-02, -7.0073e-03,  6.7008e-02, -2.9272e-02],\n",
      "          [-4.3353e-02,  5.2942e-02,  4.6089e-02, -9.1851e-02],\n",
      "          [ 7.7146e-02, -1.0527e-01,  9.9010e-02,  1.4814e-02],\n",
      "          [ 5.4374e-03,  4.2551e-02, -7.1509e-03,  8.9656e-03]],\n",
      "\n",
      "         [[-1.1370e-01,  5.8840e-02,  2.8082e-02, -1.3241e-02],\n",
      "          [ 1.3212e-01, -5.0932e-03, -2.1575e-03,  1.0628e-01],\n",
      "          [-6.0540e-02, -3.4194e-02, -1.5769e-02, -1.0141e-01],\n",
      "          [ 4.2409e-02, -3.7575e-02,  5.0846e-02,  7.6856e-02]]],\n",
      "\n",
      "\n",
      "        [[[ 4.1686e-02, -9.6182e-02, -5.1829e-02,  2.6997e-02],\n",
      "          [-1.1737e-01, -2.5309e-02, -7.5391e-02, -8.8757e-02],\n",
      "          [-4.4360e-02, -2.2061e-02, -5.9266e-02, -3.0360e-02],\n",
      "          [-9.8281e-02, -4.4775e-02, -2.4457e-02, -1.9374e-03]],\n",
      "\n",
      "         [[ 3.6614e-02, -2.4015e-02,  2.1449e-03, -3.9460e-02],\n",
      "          [ 3.4537e-04, -2.9314e-02, -1.2491e-01, -6.4854e-02],\n",
      "          [-1.5461e-01,  8.0632e-03,  6.1547e-02, -4.5002e-02],\n",
      "          [-3.6854e-02,  7.0307e-02, -1.2230e-02,  2.4505e-02]],\n",
      "\n",
      "         [[ 1.8279e-02, -6.0624e-03, -7.2610e-02, -8.6931e-02],\n",
      "          [ 1.0351e-02, -3.8938e-02, -6.2133e-03,  3.2511e-02],\n",
      "          [-3.6299e-04,  2.9349e-02, -4.3371e-02, -6.4793e-02],\n",
      "          [ 2.8716e-02, -8.3497e-03, -5.0666e-02, -1.1879e-02]],\n",
      "\n",
      "         ...,\n",
      "\n",
      "         [[ 1.6440e-04,  2.1245e-02, -4.6044e-02, -5.7215e-02],\n",
      "          [ 4.5096e-02,  1.9875e-03, -2.6357e-02, -1.2221e-02],\n",
      "          [-4.7115e-03,  3.7137e-02,  5.6123e-02,  8.5624e-02],\n",
      "          [-5.6586e-02,  2.9894e-02, -3.1876e-03,  2.6957e-02]],\n",
      "\n",
      "         [[-9.3402e-04,  5.8743e-02, -8.8946e-02,  4.3708e-02],\n",
      "          [-2.0984e-02, -3.8811e-02, -4.2280e-02,  9.3460e-02],\n",
      "          [ 3.8622e-02, -1.8615e-02, -1.9474e-03,  1.9946e-02],\n",
      "          [-3.6877e-02, -4.6990e-02,  1.9010e-02,  2.8899e-02]],\n",
      "\n",
      "         [[ 1.2976e-01,  8.3521e-02,  4.4711e-02, -1.6586e-03],\n",
      "          [ 2.8346e-02, -6.3208e-02, -5.8117e-02, -1.9453e-02],\n",
      "          [-7.4957e-02,  1.3251e-02,  1.5735e-03, -3.2781e-02],\n",
      "          [ 4.9091e-02, -6.0022e-02, -5.5256e-02, -3.2290e-02]]]],\n",
      "       device='cuda:0', requires_grad=True)\n",
      "features_extractor.cnn.2.bias\n",
      "Parameter containing:\n",
      "tensor([0., 0., 0., 0., 0., 0., 0., 0., 0., 0., 0., 0., 0., 0., 0., 0., 0., 0., 0., 0., 0., 0., 0., 0.,\n",
      "        0., 0., 0., 0., 0., 0., 0., 0., 0., 0., 0., 0., 0., 0., 0., 0., 0., 0., 0., 0., 0., 0., 0., 0.,\n",
      "        0., 0., 0., 0., 0., 0., 0., 0., 0., 0., 0., 0., 0., 0., 0., 0.],\n",
      "       device='cuda:0', requires_grad=True)\n",
      "features_extractor.cnn.4.weight\n",
      "Parameter containing:\n",
      "tensor([[[[ 0.0072, -0.0296, -0.0603],\n",
      "          [ 0.0744,  0.0692,  0.0052],\n",
      "          [-0.0667, -0.0381,  0.0346]],\n",
      "\n",
      "         [[-0.0966,  0.0689,  0.0458],\n",
      "          [ 0.0361, -0.1046,  0.0242],\n",
      "          [-0.0932, -0.0321,  0.0525]],\n",
      "\n",
      "         [[ 0.0003,  0.0498, -0.0027],\n",
      "          [-0.0689,  0.0833,  0.0769],\n",
      "          [ 0.0508,  0.0548,  0.0063]],\n",
      "\n",
      "         ...,\n",
      "\n",
      "         [[-0.0509, -0.0715,  0.0017],\n",
      "          [ 0.1042,  0.0015,  0.0191],\n",
      "          [-0.0355, -0.0349, -0.0653]],\n",
      "\n",
      "         [[ 0.0382,  0.0499, -0.0241],\n",
      "          [ 0.0801, -0.0632,  0.0010],\n",
      "          [ 0.0434, -0.0007, -0.0118]],\n",
      "\n",
      "         [[-0.0245,  0.0352, -0.0289],\n",
      "          [-0.1035, -0.0558,  0.0154],\n",
      "          [-0.0305,  0.0241,  0.0397]]],\n",
      "\n",
      "\n",
      "        [[[ 0.0608, -0.0699, -0.1103],\n",
      "          [ 0.0161,  0.0569, -0.0236],\n",
      "          [ 0.0062,  0.0692, -0.0735]],\n",
      "\n",
      "         [[ 0.0865, -0.0263,  0.0129],\n",
      "          [-0.0502, -0.0619, -0.0553],\n",
      "          [-0.0294, -0.0135,  0.0106]],\n",
      "\n",
      "         [[ 0.0138,  0.0912, -0.0218],\n",
      "          [ 0.1059, -0.0468, -0.0152],\n",
      "          [-0.0813,  0.0058, -0.0658]],\n",
      "\n",
      "         ...,\n",
      "\n",
      "         [[-0.0435,  0.0556,  0.0263],\n",
      "          [ 0.0125,  0.0067, -0.0437],\n",
      "          [-0.1076,  0.0124, -0.0421]],\n",
      "\n",
      "         [[ 0.0538,  0.0102,  0.0191],\n",
      "          [ 0.0241, -0.0514,  0.0474],\n",
      "          [-0.0251,  0.0496, -0.0581]],\n",
      "\n",
      "         [[-0.0427,  0.0181, -0.0160],\n",
      "          [-0.0498,  0.0255, -0.0010],\n",
      "          [ 0.0029, -0.0565, -0.0570]]],\n",
      "\n",
      "\n",
      "        [[[ 0.0356,  0.0079, -0.0793],\n",
      "          [-0.0138, -0.0186,  0.0094],\n",
      "          [ 0.0184,  0.0616,  0.0135]],\n",
      "\n",
      "         [[ 0.0824, -0.1153, -0.0351],\n",
      "          [-0.0639, -0.0702,  0.1570],\n",
      "          [ 0.0073, -0.0745,  0.0380]],\n",
      "\n",
      "         [[-0.0140,  0.0566, -0.0031],\n",
      "          [ 0.0455, -0.0978,  0.0099],\n",
      "          [-0.0094, -0.0072,  0.0036]],\n",
      "\n",
      "         ...,\n",
      "\n",
      "         [[-0.0557, -0.0245,  0.0035],\n",
      "          [-0.0227, -0.1260,  0.0549],\n",
      "          [ 0.0168, -0.0340, -0.0213]],\n",
      "\n",
      "         [[-0.1139, -0.0826,  0.0146],\n",
      "          [-0.0475,  0.0358,  0.0677],\n",
      "          [ 0.0425, -0.0771,  0.0835]],\n",
      "\n",
      "         [[-0.0591,  0.1540, -0.0814],\n",
      "          [ 0.1248, -0.0827,  0.0373],\n",
      "          [-0.0632, -0.0292, -0.0306]]],\n",
      "\n",
      "\n",
      "        ...,\n",
      "\n",
      "\n",
      "        [[[-0.0876,  0.0905,  0.0046],\n",
      "          [ 0.0055, -0.0593, -0.0101],\n",
      "          [ 0.0627, -0.0407,  0.0007]],\n",
      "\n",
      "         [[-0.0991, -0.0267,  0.0037],\n",
      "          [ 0.0762, -0.0301,  0.0994],\n",
      "          [ 0.0325, -0.0528,  0.0312]],\n",
      "\n",
      "         [[-0.0516,  0.0561, -0.0287],\n",
      "          [ 0.0197,  0.0268, -0.0935],\n",
      "          [ 0.0014, -0.0699,  0.0005]],\n",
      "\n",
      "         ...,\n",
      "\n",
      "         [[ 0.0547, -0.0497,  0.0438],\n",
      "          [-0.0264, -0.0235,  0.0731],\n",
      "          [ 0.0781,  0.0202,  0.0775]],\n",
      "\n",
      "         [[ 0.0890, -0.0441, -0.0376],\n",
      "          [ 0.0705,  0.0416,  0.0303],\n",
      "          [ 0.0666,  0.0455, -0.0156]],\n",
      "\n",
      "         [[ 0.0125,  0.0131,  0.0312],\n",
      "          [ 0.0752,  0.0096, -0.1181],\n",
      "          [-0.0865, -0.0181, -0.0279]]],\n",
      "\n",
      "\n",
      "        [[[ 0.0426,  0.0080, -0.0359],\n",
      "          [ 0.0633,  0.0174,  0.0804],\n",
      "          [-0.0009,  0.0051, -0.0107]],\n",
      "\n",
      "         [[-0.0072,  0.0644,  0.0769],\n",
      "          [-0.0227,  0.0249,  0.0555],\n",
      "          [ 0.1132, -0.0267, -0.0561]],\n",
      "\n",
      "         [[ 0.0046,  0.0374, -0.0682],\n",
      "          [ 0.0185,  0.1646,  0.1161],\n",
      "          [ 0.0459, -0.0306,  0.1098]],\n",
      "\n",
      "         ...,\n",
      "\n",
      "         [[-0.1328, -0.0206,  0.1022],\n",
      "          [ 0.0013,  0.0411,  0.0183],\n",
      "          [-0.0105,  0.0498,  0.0167]],\n",
      "\n",
      "         [[ 0.0170, -0.0377,  0.0179],\n",
      "          [ 0.0226,  0.0477,  0.0226],\n",
      "          [-0.1040,  0.0089, -0.0777]],\n",
      "\n",
      "         [[ 0.0128, -0.0976,  0.0706],\n",
      "          [ 0.0012, -0.0782, -0.0028],\n",
      "          [-0.0482,  0.1006,  0.0766]]],\n",
      "\n",
      "\n",
      "        [[[-0.0150, -0.1579, -0.0370],\n",
      "          [ 0.0297, -0.0069,  0.0804],\n",
      "          [ 0.0233,  0.0072,  0.0277]],\n",
      "\n",
      "         [[ 0.0133, -0.1068, -0.0274],\n",
      "          [ 0.0664, -0.0285,  0.0113],\n",
      "          [-0.0742,  0.0195, -0.0424]],\n",
      "\n",
      "         [[-0.0692, -0.0082, -0.0349],\n",
      "          [-0.1058,  0.0471,  0.0556],\n",
      "          [ 0.0421,  0.1710, -0.0519]],\n",
      "\n",
      "         ...,\n",
      "\n",
      "         [[-0.0880,  0.0174, -0.0223],\n",
      "          [ 0.0425,  0.0466,  0.1179],\n",
      "          [-0.0284,  0.1480,  0.0213]],\n",
      "\n",
      "         [[-0.0267, -0.0479,  0.0183],\n",
      "          [-0.1228, -0.0147, -0.0301],\n",
      "          [ 0.0213,  0.0491,  0.0205]],\n",
      "\n",
      "         [[ 0.0607,  0.0649, -0.0243],\n",
      "          [ 0.0053, -0.0211, -0.0185],\n",
      "          [ 0.0073,  0.0734, -0.1180]]]], device='cuda:0', requires_grad=True)\n",
      "features_extractor.cnn.4.bias\n",
      "Parameter containing:\n",
      "tensor([0., 0., 0., 0., 0., 0., 0., 0., 0., 0., 0., 0., 0., 0., 0., 0., 0., 0., 0., 0., 0., 0., 0., 0.,\n",
      "        0., 0., 0., 0., 0., 0., 0., 0., 0., 0., 0., 0., 0., 0., 0., 0., 0., 0., 0., 0., 0., 0., 0., 0.,\n",
      "        0., 0., 0., 0., 0., 0., 0., 0., 0., 0., 0., 0., 0., 0., 0., 0.],\n",
      "       device='cuda:0', requires_grad=True)\n",
      "features_extractor.linear.0.weight\n",
      "Parameter containing:\n",
      "tensor([[ 0.0202, -0.0722,  0.0309,  ...,  0.0649,  0.0563, -0.0565],\n",
      "        [ 0.0060, -0.0539, -0.0998,  ..., -0.0533, -0.0034,  0.0493],\n",
      "        [-0.0419,  0.0043,  0.1225,  ..., -0.0202,  0.0466,  0.0292],\n",
      "        ...,\n",
      "        [-0.0001,  0.1123, -0.0198,  ...,  0.0189, -0.0482, -0.0056],\n",
      "        [ 0.0393,  0.0774,  0.0986,  ..., -0.0532,  0.0404, -0.0196],\n",
      "        [ 0.0176, -0.1034, -0.0886,  ..., -0.0573,  0.0696, -0.0031]],\n",
      "       device='cuda:0', requires_grad=True)\n",
      "features_extractor.linear.0.bias\n",
      "Parameter containing:\n",
      "tensor([0., 0., 0., 0., 0., 0., 0., 0., 0., 0., 0., 0., 0., 0., 0., 0., 0., 0., 0., 0., 0., 0., 0., 0.,\n",
      "        0., 0., 0., 0., 0., 0., 0., 0., 0., 0., 0., 0., 0., 0., 0., 0., 0., 0., 0., 0., 0., 0., 0., 0.,\n",
      "        0., 0., 0., 0., 0., 0., 0., 0., 0., 0., 0., 0., 0., 0., 0., 0., 0., 0., 0., 0., 0., 0., 0., 0.,\n",
      "        0., 0., 0., 0., 0., 0., 0., 0., 0., 0., 0., 0., 0., 0., 0., 0., 0., 0., 0., 0., 0., 0., 0., 0.,\n",
      "        0., 0., 0., 0., 0., 0., 0., 0., 0., 0., 0., 0., 0., 0., 0., 0., 0., 0., 0., 0., 0., 0., 0., 0.,\n",
      "        0., 0., 0., 0., 0., 0., 0., 0., 0., 0., 0., 0., 0., 0., 0., 0., 0., 0., 0., 0., 0., 0., 0., 0.,\n",
      "        0., 0., 0., 0., 0., 0., 0., 0., 0., 0., 0., 0., 0., 0., 0., 0., 0., 0., 0., 0., 0., 0., 0., 0.,\n",
      "        0., 0., 0., 0., 0., 0., 0., 0., 0., 0., 0., 0., 0., 0., 0., 0., 0., 0., 0., 0., 0., 0., 0., 0.,\n",
      "        0., 0., 0., 0., 0., 0., 0., 0., 0., 0., 0., 0., 0., 0., 0., 0., 0., 0., 0., 0., 0., 0., 0., 0.,\n",
      "        0., 0., 0., 0., 0., 0., 0., 0., 0., 0., 0., 0., 0., 0., 0., 0., 0., 0., 0., 0., 0., 0., 0., 0.,\n",
      "        0., 0., 0., 0., 0., 0., 0., 0., 0., 0., 0., 0., 0., 0., 0., 0., 0., 0., 0., 0., 0., 0., 0., 0.,\n",
      "        0., 0., 0., 0., 0., 0., 0., 0., 0., 0., 0., 0., 0., 0., 0., 0., 0., 0., 0., 0., 0., 0., 0., 0.,\n",
      "        0., 0., 0., 0., 0., 0., 0., 0., 0., 0., 0., 0., 0., 0., 0., 0., 0., 0., 0., 0., 0., 0., 0., 0.,\n",
      "        0., 0., 0., 0., 0., 0., 0., 0., 0., 0., 0., 0., 0., 0., 0., 0., 0., 0., 0., 0., 0., 0., 0., 0.,\n",
      "        0., 0., 0., 0., 0., 0., 0., 0., 0., 0., 0., 0., 0., 0., 0., 0., 0., 0., 0., 0., 0., 0., 0., 0.,\n",
      "        0., 0., 0., 0., 0., 0., 0., 0., 0., 0., 0., 0., 0., 0., 0., 0., 0., 0., 0., 0., 0., 0., 0., 0.,\n",
      "        0., 0., 0., 0., 0., 0., 0., 0., 0., 0., 0., 0., 0., 0., 0., 0., 0., 0., 0., 0., 0., 0., 0., 0.,\n",
      "        0., 0., 0., 0., 0., 0., 0., 0., 0., 0., 0., 0., 0., 0., 0., 0., 0., 0., 0., 0., 0., 0., 0., 0.,\n",
      "        0., 0., 0., 0., 0., 0., 0., 0., 0., 0., 0., 0., 0., 0., 0., 0., 0., 0., 0., 0., 0., 0., 0., 0.,\n",
      "        0., 0., 0., 0., 0., 0., 0., 0., 0., 0., 0., 0., 0., 0., 0., 0., 0., 0., 0., 0., 0., 0., 0., 0.,\n",
      "        0., 0., 0., 0., 0., 0., 0., 0., 0., 0., 0., 0., 0., 0., 0., 0., 0., 0., 0., 0., 0., 0., 0., 0.,\n",
      "        0., 0., 0., 0., 0., 0., 0., 0.], device='cuda:0', requires_grad=True)\n",
      "mlp_extractor.policy_net.0.weight\n",
      "Parameter containing:\n",
      "tensor([[ 0.0052, -0.0190,  0.1040,  ...,  0.0670,  0.0175,  0.0446],\n",
      "        [-0.0449, -0.0269, -0.0263,  ...,  0.0669, -0.1124, -0.0143],\n",
      "        [ 0.0323,  0.0189, -0.1027,  ...,  0.0770,  0.0618,  0.0665],\n",
      "        ...,\n",
      "        [-0.0322, -0.0857, -0.0028,  ..., -0.0005, -0.0886,  0.0656],\n",
      "        [-0.0379,  0.0112,  0.0745,  ..., -0.0507,  0.0058, -0.0456],\n",
      "        [-0.0483,  0.0838, -0.0182,  ..., -0.0816, -0.0699, -0.0845]],\n",
      "       device='cuda:0', requires_grad=True)\n",
      "mlp_extractor.policy_net.0.bias\n",
      "Parameter containing:\n",
      "tensor([0., 0., 0., 0., 0., 0., 0., 0., 0., 0., 0., 0., 0., 0., 0., 0., 0., 0., 0., 0., 0., 0., 0., 0.,\n",
      "        0., 0., 0., 0., 0., 0., 0., 0., 0., 0., 0., 0., 0., 0., 0., 0., 0., 0., 0., 0., 0., 0., 0., 0.,\n",
      "        0., 0., 0., 0., 0., 0., 0., 0., 0., 0., 0., 0., 0., 0., 0., 0.],\n",
      "       device='cuda:0', requires_grad=True)\n",
      "mlp_extractor.policy_net.2.weight\n",
      "Parameter containing:\n",
      "tensor([[-0.1139, -0.1028,  0.0318,  ..., -0.1175, -0.2521, -0.1812],\n",
      "        [-0.0307,  0.0333, -0.0170,  ...,  0.2431,  0.2135, -0.2862],\n",
      "        [-0.1963,  0.3354,  0.1105,  ...,  0.0611, -0.0118, -0.3386],\n",
      "        ...,\n",
      "        [-0.1425,  0.0791,  0.2268,  ...,  0.0690,  0.1026,  0.3234],\n",
      "        [-0.0573,  0.0084,  0.2563,  ..., -0.1671, -0.4682,  0.3203],\n",
      "        [-0.0094,  0.0718, -0.3395,  ...,  0.1409, -0.1145,  0.0509]],\n",
      "       device='cuda:0', requires_grad=True)\n",
      "mlp_extractor.policy_net.2.bias\n",
      "Parameter containing:\n",
      "tensor([0., 0., 0., 0., 0., 0., 0., 0., 0., 0., 0., 0., 0., 0., 0., 0., 0., 0., 0., 0., 0., 0., 0., 0.,\n",
      "        0., 0., 0., 0., 0., 0., 0., 0., 0., 0., 0., 0., 0., 0., 0., 0., 0., 0., 0., 0., 0., 0., 0., 0.,\n",
      "        0., 0., 0., 0., 0., 0., 0., 0., 0., 0., 0., 0., 0., 0., 0., 0.],\n",
      "       device='cuda:0', requires_grad=True)\n",
      "mlp_extractor.value_net.0.weight\n",
      "Parameter containing:\n",
      "tensor([[ 0.0077, -0.0640, -0.0266,  ..., -0.0286, -0.0229, -0.0018],\n",
      "        [-0.0157, -0.0332,  0.0503,  ..., -0.0320,  0.0478, -0.0898],\n",
      "        [ 0.0543, -0.0623,  0.0370,  ..., -0.1445, -0.0930, -0.1301],\n",
      "        ...,\n",
      "        [-0.0984, -0.0439, -0.1520,  ...,  0.0387,  0.0307, -0.0090],\n",
      "        [ 0.1183,  0.0083, -0.0106,  ...,  0.0290,  0.0593,  0.0807],\n",
      "        [-0.0834, -0.0866,  0.1023,  ...,  0.0693, -0.0975,  0.0035]],\n",
      "       device='cuda:0', requires_grad=True)\n",
      "mlp_extractor.value_net.0.bias\n",
      "Parameter containing:\n",
      "tensor([0., 0., 0., 0., 0., 0., 0., 0., 0., 0., 0., 0., 0., 0., 0., 0., 0., 0., 0., 0., 0., 0., 0., 0.,\n",
      "        0., 0., 0., 0., 0., 0., 0., 0., 0., 0., 0., 0., 0., 0., 0., 0., 0., 0., 0., 0., 0., 0., 0., 0.,\n",
      "        0., 0., 0., 0., 0., 0., 0., 0., 0., 0., 0., 0., 0., 0., 0., 0.],\n",
      "       device='cuda:0', requires_grad=True)\n",
      "mlp_extractor.value_net.2.weight\n",
      "Parameter containing:\n",
      "tensor([[-0.1371,  0.0466, -0.4005,  ...,  0.1246,  0.0641,  0.0199],\n",
      "        [ 0.2280, -0.3124, -0.0593,  ...,  0.0857, -0.1634, -0.0343],\n",
      "        [ 0.1185,  0.0548,  0.2848,  ...,  0.1598, -0.3555, -0.1466],\n",
      "        ...,\n",
      "        [ 0.1371,  0.0576,  0.0446,  ...,  0.2697, -0.0482, -0.0222],\n",
      "        [ 0.0556,  0.2857, -0.0772,  ...,  0.1526, -0.3861,  0.0954],\n",
      "        [-0.0492, -0.1192,  0.1404,  ...,  0.0476, -0.0114,  0.3086]],\n",
      "       device='cuda:0', requires_grad=True)\n",
      "mlp_extractor.value_net.2.bias\n",
      "Parameter containing:\n",
      "tensor([0., 0., 0., 0., 0., 0., 0., 0., 0., 0., 0., 0., 0., 0., 0., 0., 0., 0., 0., 0., 0., 0., 0., 0.,\n",
      "        0., 0., 0., 0., 0., 0., 0., 0., 0., 0., 0., 0., 0., 0., 0., 0., 0., 0., 0., 0., 0., 0., 0., 0.,\n",
      "        0., 0., 0., 0., 0., 0., 0., 0., 0., 0., 0., 0., 0., 0., 0., 0.],\n",
      "       device='cuda:0', requires_grad=True)\n",
      "action_net.weight\n",
      "Parameter containing:\n",
      "tensor([[ 1.6431e-03,  1.5945e-03, -1.4038e-03,  1.5286e-03, -7.9355e-04,\n",
      "          8.8253e-04,  1.1341e-03, -7.0539e-04,  2.5976e-03, -8.9751e-04,\n",
      "          6.2811e-04, -9.6976e-04,  1.1319e-03, -5.1965e-04, -7.4483e-04,\n",
      "         -1.1517e-03, -7.6185e-04, -9.1374e-04,  1.2728e-03, -2.0735e-03,\n",
      "          5.7138e-04,  1.2535e-03, -8.4762e-04,  2.4608e-03, -4.3198e-04,\n",
      "          1.9664e-03,  4.0783e-04,  2.2036e-04,  5.5177e-04, -1.6075e-03,\n",
      "         -5.0873e-04,  9.2590e-04, -6.1206e-04, -1.1980e-03, -2.2129e-03,\n",
      "         -1.3019e-03,  1.7815e-03,  1.0514e-03,  2.7843e-04,  3.9854e-04,\n",
      "          1.9765e-03,  4.3674e-04, -5.5750e-04, -8.6996e-04, -1.6914e-03,\n",
      "         -6.1588e-04, -1.6246e-03, -3.0803e-06, -1.1198e-03,  1.1782e-03,\n",
      "          1.0347e-03,  1.1899e-03, -1.9317e-03,  4.9405e-04,  3.4001e-04,\n",
      "         -1.7751e-03, -6.2412e-05, -2.2197e-04,  6.0036e-05,  1.8562e-03,\n",
      "         -2.7371e-03, -1.3759e-05,  7.2720e-04,  1.6744e-03],\n",
      "        [-1.1993e-03,  6.4949e-04,  3.6144e-04, -1.5500e-03,  1.2491e-03,\n",
      "          1.0984e-03, -1.8155e-03, -2.8033e-03, -4.0203e-04, -1.3188e-03,\n",
      "          2.2107e-05, -5.7796e-04, -3.8785e-04,  5.0537e-04, -1.8683e-03,\n",
      "         -1.5023e-04, -3.6148e-03, -1.5975e-03, -5.9116e-04, -6.8832e-04,\n",
      "          1.5118e-03, -2.3135e-03,  1.6245e-03, -8.1492e-05,  4.6315e-04,\n",
      "          2.8338e-05,  1.8579e-03,  2.4763e-03, -4.4444e-04,  5.4170e-04,\n",
      "          6.9093e-04,  1.3818e-03, -1.0093e-03, -1.2118e-03, -3.5240e-04,\n",
      "         -1.2322e-03, -1.2311e-03, -1.8023e-03, -1.2311e-04, -2.3273e-04,\n",
      "          8.8898e-05,  7.5147e-04,  1.3787e-03,  4.5779e-04,  4.0286e-04,\n",
      "          3.1474e-04,  4.9480e-04, -1.0940e-04,  4.1886e-04,  1.7042e-03,\n",
      "          9.3404e-04, -5.2744e-04, -6.2816e-04,  1.2331e-03,  3.5916e-04,\n",
      "         -2.2082e-03,  7.4673e-04, -2.7422e-04,  9.5712e-04, -2.4088e-03,\n",
      "         -2.0511e-04, -2.0810e-03, -7.7314e-04, -7.0118e-04]], device='cuda:0',\n",
      "       requires_grad=True)\n",
      "action_net.bias\n",
      "Parameter containing:\n",
      "tensor([0., 0.], device='cuda:0', requires_grad=True)\n",
      "value_net.weight\n",
      "Parameter containing:\n",
      "tensor([[ 0.0133, -0.0027, -0.0418,  0.1488, -0.1169,  0.1770,  0.0004,  0.1749,\n",
      "          0.0954, -0.0893, -0.0421, -0.1566, -0.1743,  0.0361, -0.0938, -0.1744,\n",
      "          0.1394, -0.1699, -0.0521,  0.0203,  0.1610, -0.0448,  0.0501, -0.0113,\n",
      "         -0.0675, -0.2724, -0.0511,  0.1364, -0.2480,  0.0437, -0.0973, -0.2682,\n",
      "         -0.1771,  0.2990, -0.0612, -0.1353, -0.1041,  0.0393, -0.0278,  0.2281,\n",
      "          0.0563, -0.0788,  0.0932,  0.0873, -0.0330,  0.2199,  0.0619,  0.2003,\n",
      "          0.0527, -0.0255, -0.0435, -0.0151,  0.0009, -0.0760, -0.0054,  0.0062,\n",
      "          0.2539,  0.1312,  0.0120, -0.0192, -0.0009, -0.0671, -0.0760,  0.1683]],\n",
      "       device='cuda:0', requires_grad=True)\n",
      "value_net.bias\n",
      "Parameter containing:\n",
      "tensor([0.], device='cuda:0', requires_grad=True)\n"
     ]
    }
   ],
   "source": [
    "for name,param in model.policy.named_parameters():\n",
    "    print(name)\n",
    "    if param.requires_grad:\n",
    "        print(param)"
   ]
  },
  {
   "cell_type": "code",
   "execution_count": 7,
   "id": "1d8c4f93-e2c6-4741-8756-c5c6dc7b752e",
   "metadata": {},
   "outputs": [
    {
     "data": {
      "text/plain": [
       "ActorCriticCnnPolicy(\n",
       "  (features_extractor): ApfFeaturesExtractor(\n",
       "    (apf_generator): Preprocessor(\n",
       "      (traj_predictor): TrajectoryGenerator(\n",
       "        (encoder): Encoder(\n",
       "          (encoder): LSTM(16, 32)\n",
       "          (spatial_embedding): Linear(in_features=2, out_features=16, bias=True)\n",
       "        )\n",
       "        (decoder): Decoder(\n",
       "          (decoder): LSTM(16, 32)\n",
       "          (spatial_embedding): Linear(in_features=2, out_features=16, bias=True)\n",
       "          (hidden2pos): Linear(in_features=32, out_features=2, bias=True)\n",
       "        )\n",
       "        (pool_net): PoolHiddenNet(\n",
       "          (spatial_embedding): Linear(in_features=2, out_features=16, bias=True)\n",
       "          (mlp_pre_pool): Sequential(\n",
       "            (0): Linear(in_features=48, out_features=512, bias=True)\n",
       "            (1): ReLU()\n",
       "            (2): Linear(in_features=512, out_features=8, bias=True)\n",
       "            (3): ReLU()\n",
       "          )\n",
       "        )\n",
       "        (mlp_decoder_context): Sequential(\n",
       "          (0): Linear(in_features=40, out_features=64, bias=True)\n",
       "          (1): ReLU()\n",
       "          (2): Linear(in_features=64, out_features=24, bias=True)\n",
       "          (3): ReLU()\n",
       "        )\n",
       "      )\n",
       "    )\n",
       "    (cnn): Sequential(\n",
       "      (0): Conv2d(1, 32, kernel_size=(8, 8), stride=(4, 4))\n",
       "      (1): ReLU()\n",
       "      (2): Conv2d(32, 64, kernel_size=(4, 4), stride=(2, 2))\n",
       "      (3): ReLU()\n",
       "      (4): Conv2d(64, 64, kernel_size=(3, 3), stride=(1, 1))\n",
       "      (5): ReLU()\n",
       "      (6): Flatten(start_dim=1, end_dim=-1)\n",
       "    )\n",
       "    (linear): Sequential(\n",
       "      (0): Linear(in_features=121, out_features=512, bias=True)\n",
       "      (1): ReLU()\n",
       "    )\n",
       "  )\n",
       "  (pi_features_extractor): ApfFeaturesExtractor(\n",
       "    (apf_generator): Preprocessor(\n",
       "      (traj_predictor): TrajectoryGenerator(\n",
       "        (encoder): Encoder(\n",
       "          (encoder): LSTM(16, 32)\n",
       "          (spatial_embedding): Linear(in_features=2, out_features=16, bias=True)\n",
       "        )\n",
       "        (decoder): Decoder(\n",
       "          (decoder): LSTM(16, 32)\n",
       "          (spatial_embedding): Linear(in_features=2, out_features=16, bias=True)\n",
       "          (hidden2pos): Linear(in_features=32, out_features=2, bias=True)\n",
       "        )\n",
       "        (pool_net): PoolHiddenNet(\n",
       "          (spatial_embedding): Linear(in_features=2, out_features=16, bias=True)\n",
       "          (mlp_pre_pool): Sequential(\n",
       "            (0): Linear(in_features=48, out_features=512, bias=True)\n",
       "            (1): ReLU()\n",
       "            (2): Linear(in_features=512, out_features=8, bias=True)\n",
       "            (3): ReLU()\n",
       "          )\n",
       "        )\n",
       "        (mlp_decoder_context): Sequential(\n",
       "          (0): Linear(in_features=40, out_features=64, bias=True)\n",
       "          (1): ReLU()\n",
       "          (2): Linear(in_features=64, out_features=24, bias=True)\n",
       "          (3): ReLU()\n",
       "        )\n",
       "      )\n",
       "    )\n",
       "    (cnn): Sequential(\n",
       "      (0): Conv2d(1, 32, kernel_size=(8, 8), stride=(4, 4))\n",
       "      (1): ReLU()\n",
       "      (2): Conv2d(32, 64, kernel_size=(4, 4), stride=(2, 2))\n",
       "      (3): ReLU()\n",
       "      (4): Conv2d(64, 64, kernel_size=(3, 3), stride=(1, 1))\n",
       "      (5): ReLU()\n",
       "      (6): Flatten(start_dim=1, end_dim=-1)\n",
       "    )\n",
       "    (linear): Sequential(\n",
       "      (0): Linear(in_features=121, out_features=512, bias=True)\n",
       "      (1): ReLU()\n",
       "    )\n",
       "  )\n",
       "  (vf_features_extractor): ApfFeaturesExtractor(\n",
       "    (apf_generator): Preprocessor(\n",
       "      (traj_predictor): TrajectoryGenerator(\n",
       "        (encoder): Encoder(\n",
       "          (encoder): LSTM(16, 32)\n",
       "          (spatial_embedding): Linear(in_features=2, out_features=16, bias=True)\n",
       "        )\n",
       "        (decoder): Decoder(\n",
       "          (decoder): LSTM(16, 32)\n",
       "          (spatial_embedding): Linear(in_features=2, out_features=16, bias=True)\n",
       "          (hidden2pos): Linear(in_features=32, out_features=2, bias=True)\n",
       "        )\n",
       "        (pool_net): PoolHiddenNet(\n",
       "          (spatial_embedding): Linear(in_features=2, out_features=16, bias=True)\n",
       "          (mlp_pre_pool): Sequential(\n",
       "            (0): Linear(in_features=48, out_features=512, bias=True)\n",
       "            (1): ReLU()\n",
       "            (2): Linear(in_features=512, out_features=8, bias=True)\n",
       "            (3): ReLU()\n",
       "          )\n",
       "        )\n",
       "        (mlp_decoder_context): Sequential(\n",
       "          (0): Linear(in_features=40, out_features=64, bias=True)\n",
       "          (1): ReLU()\n",
       "          (2): Linear(in_features=64, out_features=24, bias=True)\n",
       "          (3): ReLU()\n",
       "        )\n",
       "      )\n",
       "    )\n",
       "    (cnn): Sequential(\n",
       "      (0): Conv2d(1, 32, kernel_size=(8, 8), stride=(4, 4))\n",
       "      (1): ReLU()\n",
       "      (2): Conv2d(32, 64, kernel_size=(4, 4), stride=(2, 2))\n",
       "      (3): ReLU()\n",
       "      (4): Conv2d(64, 64, kernel_size=(3, 3), stride=(1, 1))\n",
       "      (5): ReLU()\n",
       "      (6): Flatten(start_dim=1, end_dim=-1)\n",
       "    )\n",
       "    (linear): Sequential(\n",
       "      (0): Linear(in_features=121, out_features=512, bias=True)\n",
       "      (1): ReLU()\n",
       "    )\n",
       "  )\n",
       "  (mlp_extractor): MlpExtractor(\n",
       "    (policy_net): Sequential(\n",
       "      (0): Linear(in_features=512, out_features=64, bias=True)\n",
       "      (1): Tanh()\n",
       "      (2): Linear(in_features=64, out_features=64, bias=True)\n",
       "      (3): Tanh()\n",
       "    )\n",
       "    (value_net): Sequential(\n",
       "      (0): Linear(in_features=512, out_features=64, bias=True)\n",
       "      (1): Tanh()\n",
       "      (2): Linear(in_features=64, out_features=64, bias=True)\n",
       "      (3): Tanh()\n",
       "    )\n",
       "  )\n",
       "  (action_net): Linear(in_features=64, out_features=2, bias=True)\n",
       "  (value_net): Linear(in_features=64, out_features=1, bias=True)\n",
       ")"
      ]
     },
     "execution_count": 7,
     "metadata": {},
     "output_type": "execute_result"
    }
   ],
   "source": [
    "model.policy"
   ]
  },
  {
   "cell_type": "markdown",
   "id": "bb778786-7ce2-4dda-b2ec-7bda0b40c65c",
   "metadata": {
    "jp-MarkdownHeadingCollapsed": true
   },
   "source": [
    "# Simulator"
   ]
  },
  {
   "cell_type": "code",
   "execution_count": null,
   "id": "3e240709-0880-4f29-ad08-21394345cb1f",
   "metadata": {},
   "outputs": [],
   "source": [
    "episodes = 1\n",
    "for episode in range(1, episodes+1):\n",
    "    obs = env.reset()\n",
    "    done = False\n",
    "    score = 0 \n",
    "    avg_time = 0\n",
    "    step = 0\n",
    "    \n",
    "    while not done:\n",
    "        action = (0.0, 0.0)\n",
    "        start_time = time.time()\n",
    "        obs, reward, done, info = env.step(action)\n",
    "        end_time = time.time()\n",
    "        avg_time += (end_time - start_time)\n",
    "        step += 1\n",
    "        score+=reward\n",
    "        print(obs['local_goal'])\n",
    "        plt.imshow(obs['local_map'].reshape(obs['local_map'].shape[0],obs['local_map'].shape[1]), cmap='gray')\n",
    "        plt.colorbar()\n",
    "        plt.show()\n",
    "    print('Episode:{} Score:{}'.format(episode, score))\n",
    "    print('average step time ({} steps): {}s'.format(step, avg_time/step))\n",
    "env.close()"
   ]
  },
  {
   "cell_type": "markdown",
   "id": "d5478cb5-3d96-4f25-b32e-1ff7655b6cb0",
   "metadata": {
    "jp-MarkdownHeadingCollapsed": true
   },
   "source": [
    "# RL"
   ]
  },
  {
   "cell_type": "code",
   "execution_count": null,
   "id": "19cdb5c1-4f7c-44bc-b31e-7b2f16781d62",
   "metadata": {},
   "outputs": [],
   "source": []
  },
  {
   "cell_type": "code",
   "execution_count": null,
   "id": "bffe618a-17e6-4986-83a2-c14dfdbaf41a",
   "metadata": {},
   "outputs": [],
   "source": []
  },
  {
   "cell_type": "code",
   "execution_count": null,
   "id": "eb462ccb-16b0-4a66-9077-b82f0016f903",
   "metadata": {},
   "outputs": [],
   "source": []
  },
  {
   "cell_type": "code",
   "execution_count": null,
   "id": "84c0fc55-4b68-4f14-b5cc-3ecebd62585e",
   "metadata": {},
   "outputs": [],
   "source": [
    "import numpy as np\n",
    "  \n",
    "arr1 = np.array([0, 2, 3]).reshape(3,1)\n",
    "arr2 = np.array([5, 4, 9]).reshape(3,1)\n",
    "  \n",
    "gfg = np.concatenate((arr1, arr2), axis = 1)\n",
    "print(arr1.shape)\n",
    "print(arr2.shape)\n",
    "print(gfg.shape)"
   ]
  },
  {
   "cell_type": "code",
   "execution_count": null,
   "id": "25a14d82-6dc0-4978-804c-9318d45792a8",
   "metadata": {},
   "outputs": [],
   "source": [
    "import numpy as np\n",
    "  \n",
    "arr1 = np.array([[2, 4], [6, 8]])\n",
    "arr2 = np.array([[7], [7]])\n",
    "  \n",
    "gfg = np.concatenate((arr1, arr2), axis = 1)\n",
    "print(arr1.shape)\n",
    "print(arr2.shape)\n",
    "print(gfg.shape)"
   ]
  },
  {
   "cell_type": "code",
   "execution_count": null,
   "id": "49cc5d5e-af04-451a-83e6-e6e9bd1ec947",
   "metadata": {},
   "outputs": [],
   "source": [
    "emotion = np.random.rand(10)\n",
    "radius = np.random.rand(10)\n",
    "\n",
    "er = np.concatenate((emotion, radius), axis = 0)\n",
    "print(emotion.shape)\n",
    "print(radius.shape)\n",
    "print(er.shape)"
   ]
  },
  {
   "cell_type": "code",
   "execution_count": null,
   "id": "252fb86d-f568-4ee4-b5ad-55d6549c96b9",
   "metadata": {},
   "outputs": [],
   "source": []
  }
 ],
 "metadata": {
  "kernelspec": {
   "display_name": "Python 3 (ipykernel)",
   "language": "python",
   "name": "python3"
  },
  "language_info": {
   "codemirror_mode": {
    "name": "ipython",
    "version": 3
   },
   "file_extension": ".py",
   "mimetype": "text/x-python",
   "name": "python",
   "nbconvert_exporter": "python",
   "pygments_lexer": "ipython3",
   "version": "3.8.16"
  }
 },
 "nbformat": 4,
 "nbformat_minor": 5
}
