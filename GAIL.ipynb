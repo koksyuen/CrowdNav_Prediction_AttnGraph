{
 "cells": [
  {
   "cell_type": "markdown",
   "id": "47824be3-d305-455c-b205-df183a85a226",
   "metadata": {},
   "source": [
    "# Data Collection"
   ]
  },
  {
   "cell_type": "markdown",
   "id": "e932b916-e868-4cfb-895e-628245c13dba",
   "metadata": {},
   "source": [
    "## Vectorise Environment"
   ]
  },
  {
   "cell_type": "code",
   "execution_count": null,
   "id": "267b05ee-3dee-4a9b-ac09-2b70641955cd",
   "metadata": {},
   "outputs": [],
   "source": [
    "from crowd_sim.envs.crowd_sim_sgan import CrowdSimSgan\n",
    "from crowd_sim.envs.crowd_sim_sgan_apf import CrowdSimSganApf\n",
    "from crowd_sim.envs.crowd_sim_no_pred import CrowdSimNoPred\n",
    "import gym\n",
    "import time\n",
    "import numpy as np"
   ]
  },
  {
   "cell_type": "code",
   "execution_count": null,
   "id": "a073e126-853c-41a0-b393-acf9173d004f",
   "metadata": {},
   "outputs": [],
   "source": [
    "from stable_baselines3.common.vec_env import DummyVecEnv, SubprocVecEnv, VecTransposeImage\n",
    "from stable_baselines3.common.evaluation import evaluate_policy\n",
    "from stable_baselines3.common.env_util import make_vec_env\n",
    "from stable_baselines3.common.utils import set_random_seed\n",
    "from stable_baselines3 import PPO, A2C"
   ]
  },
  {
   "cell_type": "code",
   "execution_count": null,
   "id": "0a2e9ee9-77f4-4575-854b-7e12628736d6",
   "metadata": {},
   "outputs": [],
   "source": [
    "from arguments import get_args\n",
    "from crowd_nav.configs.config import Config\n",
    "\n",
    "config = Config()"
   ]
  },
  {
   "cell_type": "code",
   "execution_count": null,
   "id": "3bd68cb2-2955-40bd-af3a-a35f8adc54e1",
   "metadata": {},
   "outputs": [],
   "source": [
    "def make_env(seed, rank, env_config, envNum=1):\n",
    "    \"\"\"\n",
    "    Utility function for multiprocessed env.\n",
    "\n",
    "    :param env_id: (str) the environment ID\n",
    "    :param seed: (int) the inital seed for RNG\n",
    "    :param rank: (int) index of the subprocess\n",
    "    \"\"\"\n",
    "\n",
    "    def _init():\n",
    "        env = CrowdSimSganApf()\n",
    "        # use a seed for reproducibility\n",
    "        # Important: use a different seed for each environment\n",
    "        # otherwise they would generate the same experiences\n",
    "        env.configure(env_config)\n",
    "        env.seed(seed + rank)\n",
    "        env.setup(seed=seed+rank, num_of_env=envNum)\n",
    "        return env\n",
    "\n",
    "    return _init"
   ]
  },
  {
   "cell_type": "code",
   "execution_count": null,
   "id": "aa14424c-f593-4552-ae28-9bd8f9431050",
   "metadata": {},
   "outputs": [],
   "source": [
    "num_cpu = 1  # Number of processes to use\n",
    "seed = 0\n",
    "\n",
    "venv = SubprocVecEnv([make_env(seed, i, config, num_cpu) for i in range(num_cpu)])\n",
    "venv = VecTransposeImage(venv)"
   ]
  },
  {
   "cell_type": "code",
   "execution_count": null,
   "id": "74a07f2f-7534-4f09-b1a9-f9cd95b4e58b",
   "metadata": {},
   "outputs": [],
   "source": [
    "# obs = venv.reset()\n",
    "# obs.shape"
   ]
  },
  {
   "cell_type": "markdown",
   "id": "c795496a-a594-460e-abf8-a300cdcb0615",
   "metadata": {},
   "source": [
    "## Collecting dataset"
   ]
  },
  {
   "cell_type": "code",
   "execution_count": null,
   "id": "bf03c23d-3051-4c00-a329-96c73d7feda2",
   "metadata": {},
   "outputs": [],
   "source": [
    "from imitation_learning import rollout\n",
    "rng = np.random.default_rng()"
   ]
  },
  {
   "cell_type": "code",
   "execution_count": null,
   "id": "02507db0-e294-41bd-89a2-ed76f0df027a",
   "metadata": {},
   "outputs": [],
   "source": [
    "rollouts = rollout.rollout(\n",
    "    policy=None,\n",
    "    venv=venv,\n",
    "    sample_until=rollout.make_sample_until(min_timesteps=None, min_episodes=60),\n",
    "    rng=rng,\n",
    "    unwrap=False,\n",
    "    exclude_infos=True,\n",
    "    verbose=True\n",
    ")"
   ]
  },
  {
   "cell_type": "markdown",
   "id": "a4b73d19-0d10-4be0-9632-0149267c0a34",
   "metadata": {
    "jp-MarkdownHeadingCollapsed": true
   },
   "source": [
    "## Save and load dataset"
   ]
  },
  {
   "cell_type": "code",
   "execution_count": null,
   "id": "d39b49fc-caa1-49b7-ae2a-5ff09593813c",
   "metadata": {},
   "outputs": [],
   "source": [
    "from imitation.data import serialize\n",
    "dataset_path = './train/dataset/8ppl_240mapsize_100eps'"
   ]
  },
  {
   "cell_type": "code",
   "execution_count": null,
   "id": "576d63e3-cf29-40a7-8d9d-133ec8823e24",
   "metadata": {},
   "outputs": [],
   "source": [
    "# save dataset\n",
    "serialize.save(dataset_path, rollouts)"
   ]
  },
  {
   "cell_type": "code",
   "execution_count": null,
   "id": "78456def-951e-4c09-ac48-ef918d4f9d96",
   "metadata": {},
   "outputs": [],
   "source": [
    "# load dataset\n",
    "rollouts = serialize.load(dataset_path)"
   ]
  },
  {
   "cell_type": "markdown",
   "id": "bb0c8668-115e-4db3-b254-bffffbe411db",
   "metadata": {},
   "source": [
    "# GAIL"
   ]
  },
  {
   "cell_type": "code",
   "execution_count": null,
   "id": "724e3033-8f8e-4a79-8617-7846bfac78be",
   "metadata": {},
   "outputs": [],
   "source": [
    "from stable_baselines3 import PPO\n",
    "from imitation.algorithms.adversarial.gail import GAIL\n",
    "from imitation.rewards.reward_nets import BasicRewardNet\n",
    "from imitation.util.networks import RunningNorm"
   ]
  },
  {
   "cell_type": "code",
   "execution_count": null,
   "id": "d84fd5f9-09b4-42df-a6ba-4b97c9f241f2",
   "metadata": {},
   "outputs": [],
   "source": [
    "learner = PPO(\n",
    "    env=venv,\n",
    "    policy='CnnPolicy',\n",
    "    batch_size=64,\n",
    "    ent_coef=0.0,\n",
    "    learning_rate=0.0003,\n",
    "    n_epochs=10,\n",
    ")"
   ]
  },
  {
   "cell_type": "code",
   "execution_count": null,
   "id": "11207a11-e38e-422e-9921-4f700ae8302f",
   "metadata": {},
   "outputs": [],
   "source": [
    "reward_net = BasicRewardNet(\n",
    "    venv.observation_space, venv.action_space, normalize_input_layer=RunningNorm\n",
    ")"
   ]
  },
  {
   "cell_type": "code",
   "execution_count": null,
   "id": "76e1d01d-a92b-4586-aef0-e86ebcbbef52",
   "metadata": {},
   "outputs": [],
   "source": [
    "gail_trainer = GAIL(\n",
    "    demonstrations=rollouts,\n",
    "    demo_batch_size=64,\n",
    "    gen_replay_buffer_capacity=1024,\n",
    "    n_disc_updates_per_round=4,\n",
    "    venv=venv,\n",
    "    gen_algo=learner,\n",
    "    reward_net=reward_net,\n",
    "    allow_variable_horizon=True\n",
    ")"
   ]
  },
  {
   "cell_type": "code",
   "execution_count": null,
   "id": "e8332c46-c157-42ec-9ba9-f6528e6d3766",
   "metadata": {},
   "outputs": [],
   "source": [
    "gail_trainer.train(300000)"
   ]
  },
  {
   "cell_type": "code",
   "execution_count": null,
   "id": "bfd10195-efbd-4955-aebd-f21c7c15b437",
   "metadata": {},
   "outputs": [],
   "source": [
    "learner.save('./train/GAIL/model1')"
   ]
  },
  {
   "cell_type": "code",
   "execution_count": null,
   "id": "9808bffb-8c17-4c96-9c82-f975ffea0d88",
   "metadata": {},
   "outputs": [],
   "source": []
  }
 ],
 "metadata": {
  "kernelspec": {
   "display_name": "Python 3 (ipykernel)",
   "language": "python",
   "name": "python3"
  },
  "language_info": {
   "codemirror_mode": {
    "name": "ipython",
    "version": 3
   },
   "file_extension": ".py",
   "mimetype": "text/x-python",
   "name": "python",
   "nbconvert_exporter": "python",
   "pygments_lexer": "ipython3",
   "version": "3.8.16"
  }
 },
 "nbformat": 4,
 "nbformat_minor": 5
}
