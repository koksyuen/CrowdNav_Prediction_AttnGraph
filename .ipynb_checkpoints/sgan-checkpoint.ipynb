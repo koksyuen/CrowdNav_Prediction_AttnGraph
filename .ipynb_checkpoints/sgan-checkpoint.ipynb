{
 "cells": [
  {
   "cell_type": "markdown",
   "id": "f0823912-0c64-4ab0-97cc-fc7249ed1d29",
   "metadata": {},
   "source": [
    "# Testing"
   ]
  },
  {
   "cell_type": "code",
   "execution_count": null,
   "id": "354ce166-72f6-4ce4-a2c8-0b1ed6529f6c",
   "metadata": {},
   "outputs": [],
   "source": [
    "import gym\n",
    "import torch as th\n",
    "\n",
    "from stable_baselines3 import PPO\n",
    "\n",
    "# Custom actor (pi) and value function (vf) networks\n",
    "# of two layers of size 32 each with Relu activation function\n",
    "# Note: an extra linear layer will be added on top of the pi and the vf nets, respectively\n",
    "policy_kwargs = dict(activation_fn=th.nn.ReLU,\n",
    "                     net_arch=dict(pi=[32, 32], vf=[32, 32]))\n",
    "# Create the agent\n",
    "model = PPO(\"MlpPolicy\", \"CartPole-v1\", policy_kwargs=policy_kwargs, verbose=1)\n"
   ]
  },
  {
   "cell_type": "code",
   "execution_count": null,
   "id": "585d61d0-3870-403e-9d00-7dc93555563a",
   "metadata": {},
   "outputs": [],
   "source": [
    "model.policy"
   ]
  },
  {
   "cell_type": "code",
   "execution_count": null,
   "id": "b3f5b960-f512-446e-b931-df20e92cc21f",
   "metadata": {},
   "outputs": [],
   "source": [
    "# Retrieve the environment\n",
    "env = model.get_env()\n",
    "# Train the agent\n",
    "model.learn(total_timesteps=20_000)\n",
    "# Save the agent\n",
    "model.save(\"ppo_cartpole\")\n",
    "\n",
    "del model\n",
    "# the policy_kwargs are automatically loaded\n",
    "model = PPO.load(\"ppo_cartpole\", env=env)"
   ]
  },
  {
   "cell_type": "code",
   "execution_count": null,
   "id": "a584fe65-c1ae-4ac5-914e-a9369251d46e",
   "metadata": {},
   "outputs": [],
   "source": []
  },
  {
   "cell_type": "markdown",
   "id": "a24e95c3-5d6b-4f5e-99cb-09a6a1388d54",
   "metadata": {},
   "source": [
    "# Action Wrapper"
   ]
  },
  {
   "cell_type": "code",
   "execution_count": null,
   "id": "2e7e7ae1-a8fb-4e0f-8957-ded3031374c4",
   "metadata": {},
   "outputs": [],
   "source": [
    "import gym\n",
    "from gym.spaces import Discrete\n",
    "import numpy as np"
   ]
  },
  {
   "cell_type": "code",
   "execution_count": null,
   "id": "ca5da3bb-1d7d-4d60-b911-a3740cc7ad1f",
   "metadata": {},
   "outputs": [],
   "source": [
    "class DiscreteActions(gym.ActionWrapper):\n",
    "    def __init__(self, env, disc_to_cont):\n",
    "        super().__init__(env)\n",
    "        self.disc_to_cont = disc_to_cont\n",
    "        self.action_space = Discrete(len(disc_to_cont))\n",
    "    \n",
    "    def action(self, act):\n",
    "        return self.disc_to_cont[act]"
   ]
  },
  {
   "cell_type": "code",
   "execution_count": null,
   "id": "016f8972-4ee9-438e-9920-c339063bd90b",
   "metadata": {},
   "outputs": [],
   "source": [
    "'''\n",
    "0: Vx=0, Vy=0\n",
    "1: Vx=1, Vy=0\n",
    "2: Vx=0, Vy=1\n",
    "3: Vx=-1, Vy=0\n",
    "4: Vx=0, Vy=-1\n",
    "5: Vx=1, Vy=1\n",
    "6: Vx=-1, Vy=-1\n",
    "7: Vx=1, Vy=-1\n",
    "8: Vx=-1, Vy=1\n",
    "'''\n",
    "discrete_actions = [np.array([0,0]), np.array([1,0]),\n",
    "                    np.array([0,1]), np.array([-1,0]),\n",
    "                    np.array([0,-1]), np.array([1,1]),\n",
    "                    np.array([-1,-1]), np.array([1,-1]),\n",
    "                    np.array([-1,1])]"
   ]
  },
  {
   "cell_type": "markdown",
   "id": "760d97f6-abbe-49d1-848d-f1e4527f26d1",
   "metadata": {},
   "source": [
    "# SGAN"
   ]
  },
  {
   "cell_type": "code",
   "execution_count": null,
   "id": "033d41a2-7eef-44d5-af19-10dbd0402330",
   "metadata": {},
   "outputs": [],
   "source": [
    "import sys\n",
    "sys.path.append('/home/koksyuen/python_project/sgan')"
   ]
  },
  {
   "cell_type": "code",
   "execution_count": null,
   "id": "118716c3-9520-4a81-915c-add70d005e47",
   "metadata": {},
   "outputs": [],
   "source": [
    "# from predictor import get_generator\n",
    "import torch\n",
    "from attrdict import AttrDict\n",
    "from sgan.models import TrajectoryGenerator\n",
    "from sgan.utils import relative_to_abs, abs_to_relative"
   ]
  },
  {
   "cell_type": "code",
   "execution_count": null,
   "id": "09194b0a-d3c7-4d9c-ab45-6ad10e9f5eaa",
   "metadata": {},
   "outputs": [],
   "source": [
    "model_path='/home/koksyuen/python_project/sgan/models/sgan-p-models/eth_8_model.pt'\n",
    "checkpoint = torch.load(model_path)"
   ]
  },
  {
   "cell_type": "code",
   "execution_count": null,
   "id": "7f646605-ef89-4543-8882-ead4c715920a",
   "metadata": {},
   "outputs": [],
   "source": [
    "args = AttrDict(checkpoint['args'])\n",
    "Sgan = TrajectoryGenerator(\n",
    "    obs_len=args.obs_len,\n",
    "    pred_len=args.pred_len,\n",
    "    embedding_dim=args.embedding_dim,\n",
    "    encoder_h_dim=args.encoder_h_dim_g,\n",
    "    decoder_h_dim=args.decoder_h_dim_g,\n",
    "    mlp_dim=args.mlp_dim,\n",
    "    num_layers=args.num_layers,\n",
    "    noise_dim=args.noise_dim,\n",
    "    noise_type=args.noise_type,\n",
    "    noise_mix_type=args.noise_mix_type,\n",
    "    pooling_type=args.pooling_type,\n",
    "    pool_every_timestep=args.pool_every_timestep,\n",
    "    dropout=args.dropout,\n",
    "    bottleneck_dim=args.bottleneck_dim,\n",
    "    neighborhood_size=args.neighborhood_size,\n",
    "    grid_size=args.grid_size,\n",
    "    batch_norm=args.batch_norm)\n",
    "Sgan.load_state_dict(checkpoint['g_state'])\n",
    "Sgan.cuda()\n",
    "# generator.train()\n",
    "# generator.eval()"
   ]
  },
  {
   "cell_type": "code",
   "execution_count": null,
   "id": "7fb9bedc-a27d-4c57-95d5-0ee8787691ae",
   "metadata": {},
   "outputs": [],
   "source": [
    "for param in Sgan.parameters():\n",
    "    param.requires_grad = False"
   ]
  },
  {
   "cell_type": "code",
   "execution_count": null,
   "id": "af85bac6-ee02-4774-9ddb-8813d40e78be",
   "metadata": {},
   "outputs": [],
   "source": [
    "for name,param in Sgan.named_parameters():\n",
    "    print(name)\n",
    "    if param.requires_grad:\n",
    "        print(param)"
   ]
  },
  {
   "cell_type": "markdown",
   "id": "aa2e1463-b6f8-4ac9-a0c0-802d35edc961",
   "metadata": {},
   "source": [
    "# APF"
   ]
  },
  {
   "cell_type": "code",
   "execution_count": 1,
   "id": "38cd2d42-d745-4a15-a92d-ba53186a599e",
   "metadata": {},
   "outputs": [],
   "source": [
    "from crowd_sim.envs.crowd_sim_raw import CrowdSimRaw\n",
    "from sb3.feature_extractor import Preprocessor\n",
    "import gym\n",
    "import time\n",
    "import torch\n",
    "import matplotlib.pyplot as plt\n",
    "\n",
    "from arguments import get_args\n",
    "from crowd_nav.configs.config import Config\n",
    "config = Config()"
   ]
  },
  {
   "cell_type": "code",
   "execution_count": 2,
   "id": "3afd47e6-936a-414f-9626-9190380d624c",
   "metadata": {},
   "outputs": [],
   "source": [
    "env = CrowdSimRaw()\n",
    "env.configure(config)\n",
    "env.setup(seed=0, num_of_env=1, ax=None)"
   ]
  },
  {
   "cell_type": "code",
   "execution_count": 3,
   "id": "77276a0c-545a-428b-8713-60162eb35073",
   "metadata": {},
   "outputs": [],
   "source": [
    "obs_np = env.reset()"
   ]
  },
  {
   "cell_type": "code",
   "execution_count": 4,
   "id": "39897f38-f1af-497f-ab6b-80b0a88fbf84",
   "metadata": {},
   "outputs": [],
   "source": [
    "obs = torch.from_numpy(obs_np).cuda().float()"
   ]
  },
  {
   "cell_type": "code",
   "execution_count": 5,
   "id": "6846a1f2-e8a9-4f98-8894-245137889f4c",
   "metadata": {},
   "outputs": [],
   "source": [
    "preprocessor = Preprocessor(map_size=12, map_resolution=0.1)"
   ]
  },
  {
   "cell_type": "code",
   "execution_count": 6,
   "id": "5b55ebb2-b050-4778-a9dd-1cd959fa42f5",
   "metadata": {},
   "outputs": [
    {
     "name": "stderr",
     "output_type": "stream",
     "text": [
      "/home/koksyuen/anaconda3/envs/rl/lib/python3.8/site-packages/torch/functional.py:478: UserWarning: torch.meshgrid: in an upcoming release, it will be required to pass the indexing argument. (Triggered internally at  /opt/conda/conda-bld/pytorch_1659484810403/work/aten/src/ATen/native/TensorShape.cpp:2894.)\n",
      "  return _VF.meshgrid(tensors, **kwargs)  # type: ignore[attr-defined]\n"
     ]
    }
   ],
   "source": [
    "pmap = preprocessor(obs)"
   ]
  },
  {
   "cell_type": "code",
   "execution_count": 7,
   "id": "e168d7a6-56bd-4596-95d4-bcd39a9afb5a",
   "metadata": {},
   "outputs": [
    {
     "data": {
      "text/plain": [
       "(torch.Size([1, 120, 120]), torch.float32, device(type='cuda', index=0))"
      ]
     },
     "execution_count": 7,
     "metadata": {},
     "output_type": "execute_result"
    }
   ],
   "source": [
    "pmap.shape, pmap.dtype, pmap.device"
   ]
  },
  {
   "cell_type": "code",
   "execution_count": 8,
   "id": "8499bafd-3857-4b05-bfc6-96b99faab010",
   "metadata": {},
   "outputs": [],
   "source": [
    "from torch.nn import Conv2d, ReLU, Flatten\n",
    "\n",
    "conv1 = Conv2d(1, 32, kernel_size=4, stride=2, padding=0).cuda()\n",
    "relu1 = ReLU().cuda()\n",
    "conv2 = Conv2d(32, 64, kernel_size=4, stride=2, padding=0).cuda()\n",
    "relu2 = ReLU().cuda()\n",
    "conv3 = Conv2d(64, 64, kernel_size=3, stride=1, padding=0).cuda()\n",
    "relu3 = ReLU().cuda()\n",
    "flat1 = Flatten().cuda()"
   ]
  },
  {
   "cell_type": "code",
   "execution_count": 9,
   "id": "684f8522-adde-47d7-9bbd-cd373cb4f95d",
   "metadata": {},
   "outputs": [
    {
     "data": {
      "text/plain": [
       "torch.Size([32, 59, 59])"
      ]
     },
     "execution_count": 9,
     "metadata": {},
     "output_type": "execute_result"
    }
   ],
   "source": [
    "x1 = relu1(conv1(pmap))\n",
    "x1.shape"
   ]
  },
  {
   "cell_type": "code",
   "execution_count": 10,
   "id": "410d7324-c69a-44d5-889c-5253378d2cf5",
   "metadata": {},
   "outputs": [
    {
     "data": {
      "text/plain": [
       "torch.Size([64, 28, 28])"
      ]
     },
     "execution_count": 10,
     "metadata": {},
     "output_type": "execute_result"
    }
   ],
   "source": [
    "x2 = relu2(conv2(x1))\n",
    "x2.shape"
   ]
  },
  {
   "cell_type": "code",
   "execution_count": 11,
   "id": "f36f6a5a-1192-4d99-b847-fc529dec05af",
   "metadata": {},
   "outputs": [
    {
     "data": {
      "text/plain": [
       "torch.Size([64, 26, 26])"
      ]
     },
     "execution_count": 11,
     "metadata": {},
     "output_type": "execute_result"
    }
   ],
   "source": [
    "x3 = relu3(conv3(x2))\n",
    "x3.shape"
   ]
  },
  {
   "cell_type": "code",
   "execution_count": 17,
   "id": "03b01e1b-3a85-48b8-a0c6-f1211a4e3393",
   "metadata": {},
   "outputs": [
    {
     "data": {
      "text/plain": [
       "torch.Size([43264])"
      ]
     },
     "execution_count": 17,
     "metadata": {},
     "output_type": "execute_result"
    }
   ],
   "source": [
    "x5 = x3.flatten()\n",
    "x5.shape"
   ]
  },
  {
   "cell_type": "code",
   "execution_count": 15,
   "id": "ad7eed76-2c4b-49f2-957b-2e5b73aa6c10",
   "metadata": {},
   "outputs": [
    {
     "ename": "TypeError",
     "evalue": "forward() got an unexpected keyword argument 'start_dim'",
     "output_type": "error",
     "traceback": [
      "\u001b[0;31m---------------------------------------------------------------------------\u001b[0m",
      "\u001b[0;31mTypeError\u001b[0m                                 Traceback (most recent call last)",
      "Input \u001b[0;32mIn [15]\u001b[0m, in \u001b[0;36m<cell line: 1>\u001b[0;34m()\u001b[0m\n\u001b[0;32m----> 1\u001b[0m x4 \u001b[38;5;241m=\u001b[39m \u001b[43mflat1\u001b[49m\u001b[43m(\u001b[49m\u001b[43mx3\u001b[49m\u001b[43m,\u001b[49m\u001b[43m \u001b[49m\u001b[43mstart_dim\u001b[49m\u001b[38;5;241;43m=\u001b[39;49m\u001b[38;5;241;43m0\u001b[39;49m\u001b[43m,\u001b[49m\u001b[43m \u001b[49m\u001b[43mend_dim\u001b[49m\u001b[38;5;241;43m=\u001b[39;49m\u001b[38;5;241;43m-\u001b[39;49m\u001b[38;5;241;43m1\u001b[39;49m\u001b[43m)\u001b[49m\n\u001b[1;32m      2\u001b[0m x1\u001b[38;5;241m.\u001b[39mshape\n",
      "File \u001b[0;32m~/anaconda3/envs/rl/lib/python3.8/site-packages/torch/nn/modules/module.py:1130\u001b[0m, in \u001b[0;36mModule._call_impl\u001b[0;34m(self, *input, **kwargs)\u001b[0m\n\u001b[1;32m   1126\u001b[0m \u001b[38;5;66;03m# If we don't have any hooks, we want to skip the rest of the logic in\u001b[39;00m\n\u001b[1;32m   1127\u001b[0m \u001b[38;5;66;03m# this function, and just call forward.\u001b[39;00m\n\u001b[1;32m   1128\u001b[0m \u001b[38;5;28;01mif\u001b[39;00m \u001b[38;5;129;01mnot\u001b[39;00m (\u001b[38;5;28mself\u001b[39m\u001b[38;5;241m.\u001b[39m_backward_hooks \u001b[38;5;129;01mor\u001b[39;00m \u001b[38;5;28mself\u001b[39m\u001b[38;5;241m.\u001b[39m_forward_hooks \u001b[38;5;129;01mor\u001b[39;00m \u001b[38;5;28mself\u001b[39m\u001b[38;5;241m.\u001b[39m_forward_pre_hooks \u001b[38;5;129;01mor\u001b[39;00m _global_backward_hooks\n\u001b[1;32m   1129\u001b[0m         \u001b[38;5;129;01mor\u001b[39;00m _global_forward_hooks \u001b[38;5;129;01mor\u001b[39;00m _global_forward_pre_hooks):\n\u001b[0;32m-> 1130\u001b[0m     \u001b[38;5;28;01mreturn\u001b[39;00m \u001b[43mforward_call\u001b[49m\u001b[43m(\u001b[49m\u001b[38;5;241;43m*\u001b[39;49m\u001b[38;5;28;43minput\u001b[39;49m\u001b[43m,\u001b[49m\u001b[43m \u001b[49m\u001b[38;5;241;43m*\u001b[39;49m\u001b[38;5;241;43m*\u001b[39;49m\u001b[43mkwargs\u001b[49m\u001b[43m)\u001b[49m\n\u001b[1;32m   1131\u001b[0m \u001b[38;5;66;03m# Do not call functions when jit is used\u001b[39;00m\n\u001b[1;32m   1132\u001b[0m full_backward_hooks, non_full_backward_hooks \u001b[38;5;241m=\u001b[39m [], []\n",
      "\u001b[0;31mTypeError\u001b[0m: forward() got an unexpected keyword argument 'start_dim'"
     ]
    }
   ],
   "source": [
    "x4 = flat1(x3, start_dim=0, end_dim=-1)\n",
    "x1.shape"
   ]
  },
  {
   "cell_type": "code",
   "execution_count": null,
   "id": "b4208687-4dde-49f5-8074-63da24fe69a1",
   "metadata": {},
   "outputs": [],
   "source": [
    "plt.imshow(pmap.reshape(pmap.shape[1], pmap.shape[2]).cpu(), cmap='gray')"
   ]
  },
  {
   "cell_type": "markdown",
   "id": "f20440d5-80ec-4d8c-bb44-135c9bcb54e7",
   "metadata": {},
   "source": [
    "## Testing APF"
   ]
  },
  {
   "cell_type": "code",
   "execution_count": null,
   "id": "41371fdd-8414-42db-9815-96abc4c5d493",
   "metadata": {},
   "outputs": [],
   "source": [
    "map_resolution = 0.1\n",
    "map_size = 12\n",
    "\n",
    "KP = 9.0  # attractive potential gain\n",
    "ETA = 1.0  # repulsive potential gain\n",
    "# decay rate with respect to time    0.9^(t-t0)\n",
    "DECAY = [1.0, 0.9, 0.81, 0.73, 0.66, 0.59, 0.53, 0.48]"
   ]
  },
  {
   "cell_type": "code",
   "execution_count": null,
   "id": "600254d2-e566-4434-95c3-04a3c33196c6",
   "metadata": {},
   "outputs": [],
   "source": [
    "pred_traj.shape, pred_traj.device"
   ]
  },
  {
   "cell_type": "code",
   "execution_count": null,
   "id": "e34d9ba7-7dda-438e-a735-c1cd19eb112c",
   "metadata": {},
   "outputs": [],
   "source": [
    "gx.shape, gx.device, gy.shape, gy.device"
   ]
  },
  {
   "cell_type": "code",
   "execution_count": null,
   "id": "1025fa9d-ea42-46d9-8727-c9eeede57cb6",
   "metadata": {},
   "outputs": [],
   "source": [
    "radius.device, radius.shape"
   ]
  },
  {
   "cell_type": "code",
   "execution_count": null,
   "id": "7dc03793-f183-451b-8251-83eed57c6a86",
   "metadata": {},
   "outputs": [],
   "source": [
    "# center of map\n",
    "center = map_size / 2\n",
    "# number of grid\n",
    "width = int(round((map_size / map_resolution)))"
   ]
  },
  {
   "cell_type": "code",
   "execution_count": null,
   "id": "8241cb8e-ff8f-47e7-abcc-ff79aa269e6d",
   "metadata": {},
   "outputs": [],
   "source": [
    "# Create an empty map\n",
    "# 0: x-axis    1: y-axis\n",
    "pmap_y, pmap_x = torch.meshgrid(torch.linspace(center, -center, width, device='cuda'), torch.linspace(center, -center, width, device='cuda'))"
   ]
  },
  {
   "cell_type": "code",
   "execution_count": null,
   "id": "b075db7b-437e-4e32-b490-384855633c6c",
   "metadata": {},
   "outputs": [],
   "source": [
    "pmap_x.device, pmap_x.shape"
   ]
  },
  {
   "cell_type": "code",
   "execution_count": null,
   "id": "27738001-a97a-49cc-beed-f61b7bfd3583",
   "metadata": {},
   "outputs": [],
   "source": [
    "ug = 0.5 * KP * torch.hypot(pmap_x - gx, pmap_y - gy)"
   ]
  },
  {
   "cell_type": "code",
   "execution_count": null,
   "id": "c0f5028a-b21a-40a4-931c-080ba53f3dff",
   "metadata": {},
   "outputs": [],
   "source": [
    "ug.shape, ug.device"
   ]
  },
  {
   "cell_type": "code",
   "execution_count": null,
   "id": "31c84392-d04b-432d-87d7-1ff8033b5a19",
   "metadata": {},
   "outputs": [],
   "source": [
    "# reshape to (pmap.shape[0], pmap.shape[1], 1, 1)\n",
    "# pmap_x = pmap_x.reshape(pmap_x.shape[0], pmap_x.shape[1], 1, 1)\n",
    "# pmap_y = pmap_y.reshape(pmap_y.shape[0], pmap_y.shape[1], 1, 1)"
   ]
  },
  {
   "cell_type": "code",
   "execution_count": null,
   "id": "f28484fa-473d-4df5-b128-449f2162dc45",
   "metadata": {},
   "outputs": [],
   "source": [
    "dq = torch.hypot(pmap_x.reshape(pmap_x.shape[0], pmap_x.shape[1], 1, 1) - pred_traj[:, :, 0], pmap_y.reshape(pmap_y.shape[0], pmap_y.shape[1], 1, 1) - pred_traj[:, :, 1])"
   ]
  },
  {
   "cell_type": "code",
   "execution_count": null,
   "id": "9884cde6-2964-4f82-ba14-6acd9202ac0a",
   "metadata": {},
   "outputs": [],
   "source": [
    "dq.shape, dq.device"
   ]
  },
  {
   "cell_type": "code",
   "execution_count": null,
   "id": "40cb5611-7b17-4860-973c-47bae3fdf086",
   "metadata": {},
   "outputs": [],
   "source": [
    "dq[dq <= 0.1] = 0.1"
   ]
  },
  {
   "cell_type": "code",
   "execution_count": null,
   "id": "bb0f1819-5b20-4bb2-bf59-3f540d6db62d",
   "metadata": {},
   "outputs": [],
   "source": [
    "dq.shape, dq.device"
   ]
  },
  {
   "cell_type": "code",
   "execution_count": null,
   "id": "eb10ed3f-f0d6-4003-b23f-50966b66d78d",
   "metadata": {},
   "outputs": [],
   "source": [
    "uo = 0.5 * ETA * (1.0 / dq - 1.0 / radius) ** 2"
   ]
  },
  {
   "cell_type": "code",
   "execution_count": null,
   "id": "de963648-8b6f-445e-bec6-cec5394b5503",
   "metadata": {},
   "outputs": [],
   "source": [
    "uo.shape, uo.device"
   ]
  },
  {
   "cell_type": "code",
   "execution_count": null,
   "id": "4e31a4c5-ab2a-42b1-812e-41f885dde697",
   "metadata": {},
   "outputs": [],
   "source": [
    "uo = uo.permute(0, 1, 3, 2)"
   ]
  },
  {
   "cell_type": "code",
   "execution_count": null,
   "id": "0855fce5-bb6a-41d5-81bd-8bf21ab8e0ef",
   "metadata": {},
   "outputs": [],
   "source": [
    "uo.shape, uo.device"
   ]
  },
  {
   "cell_type": "code",
   "execution_count": null,
   "id": "39e97376-2c42-47f7-99a2-7407479bcb47",
   "metadata": {},
   "outputs": [],
   "source": [
    "DECAY = [1.0, 0.9, 0.81, 0.73, 0.66, 0.59, 0.53, 0.48]\n",
    "decay = torch.tensor(DECAY, device='cuda')"
   ]
  },
  {
   "cell_type": "code",
   "execution_count": null,
   "id": "15e9ded7-92ab-4b27-ac39-cb0dcacc5b7b",
   "metadata": {},
   "outputs": [],
   "source": [
    "uo = decay * uo"
   ]
  },
  {
   "cell_type": "code",
   "execution_count": null,
   "id": "74ed4030-d026-450d-8fb8-f34c9c93a05d",
   "metadata": {},
   "outputs": [],
   "source": [
    "uo.shape, uo.device"
   ]
  },
  {
   "cell_type": "code",
   "execution_count": null,
   "id": "5bd6629f-1531-4632-b32c-0a607baeaaad",
   "metadata": {},
   "outputs": [],
   "source": [
    "uo = torch.amax(uo, dim=(-2, -1))"
   ]
  },
  {
   "cell_type": "code",
   "execution_count": null,
   "id": "b64b6b2e-b3a8-49b7-9e6c-e20588d5444e",
   "metadata": {},
   "outputs": [],
   "source": [
    "uo.shape, uo.device, uo.dtype"
   ]
  },
  {
   "cell_type": "code",
   "execution_count": null,
   "id": "5807cc4b-e2ce-4f84-9ca3-6e4ce800573d",
   "metadata": {},
   "outputs": [],
   "source": [
    "u_total = torch.add(ug, uo)"
   ]
  },
  {
   "cell_type": "code",
   "execution_count": null,
   "id": "d9142833-8298-4e5a-8d34-228e6be635fe",
   "metadata": {},
   "outputs": [],
   "source": [
    "u_total.shape, u_total.device"
   ]
  },
  {
   "cell_type": "code",
   "execution_count": null,
   "id": "9543cb03-8d17-4850-8eb9-01ee8a4980f4",
   "metadata": {},
   "outputs": [],
   "source": [
    "pmap_norm = (u_total-torch.min(u_total))/(torch.max(u_total)-torch.min(u_total)) * 255\n",
    "pmap_norm = torch.round(pmap_norm).type(torch.uint8)\n",
    "pmap_norm.reshape(pmap_norm.shape[0], pmap_norm.shape[1], 1)\n",
    "pmap_norm.shape, pmap_norm.device"
   ]
  },
  {
   "cell_type": "code",
   "execution_count": null,
   "id": "7bb93d5e-ce0b-4b18-8d90-f033fb4eb607",
   "metadata": {},
   "outputs": [],
   "source": [
    "import matplotlib.pyplot as plt"
   ]
  },
  {
   "cell_type": "code",
   "execution_count": null,
   "id": "d5759170-930f-4b4b-ae13-eca15b21d0f0",
   "metadata": {},
   "outputs": [],
   "source": [
    "plt.imshow(pmap_norm.cpu(), cmap='gray')"
   ]
  },
  {
   "cell_type": "markdown",
   "id": "e259acd0-4ee9-4f8b-a9ff-8845f1a0a932",
   "metadata": {},
   "source": [
    "# Custom feature extractor"
   ]
  },
  {
   "cell_type": "code",
   "execution_count": null,
   "id": "aedf068f-abba-4ab8-86e8-9dc8aee9614d",
   "metadata": {},
   "outputs": [],
   "source": [
    "from crowd_sim.envs.crowd_sim_raw import CrowdSimRaw\n",
    "from sb3.feature_extractor import Preprocessor, ApfFeaturesExtractor\n",
    "from stable_baselines3 import PPO, A2C, DQN\n",
    "import gym\n",
    "import time\n",
    "import torch\n",
    "import matplotlib.pyplot as plt\n",
    "from stable_baselines3.common.vec_env import DummyVecEnv, SubprocVecEnv\n",
    "\n",
    "from arguments import get_args\n",
    "from crowd_nav.configs.config import Config\n",
    "config = Config()"
   ]
  },
  {
   "cell_type": "code",
   "execution_count": null,
   "id": "4624999e-5322-4759-8330-80dde2143ce4",
   "metadata": {},
   "outputs": [],
   "source": [
    "env = CrowdSimRaw()\n",
    "env.configure(config)\n",
    "env.setup(seed=0, num_of_env=1, ax=None)"
   ]
  },
  {
   "cell_type": "code",
   "execution_count": null,
   "id": "e6bed85b-46ee-4ccb-a171-5cbb2c54baa0",
   "metadata": {},
   "outputs": [],
   "source": [
    "def make_env(seed, rank, env_config, envNum=1):\n",
    "    \"\"\"\n",
    "    Utility function for multiprocessed env.\n",
    "\n",
    "    :param env_id: (str) the environment ID\n",
    "    :param seed: (int) the inital seed for RNG\n",
    "    :param rank: (int) index of the subprocess\n",
    "    \"\"\"\n",
    "\n",
    "    def _init():\n",
    "        env = CrowdSimRaw()\n",
    "        # use a seed for reproducibility\n",
    "        # Important: use a different seed for each environment\n",
    "        # otherwise they would generate the same experiences\n",
    "        env.seed(seed + rank)\n",
    "        env.setup(seed=seed+rank, num_of_env=envNum)\n",
    "        env.configure(env_config)\n",
    "        # env = DiscreteActions(env, discrete_actions)\n",
    "        return env\n",
    "\n",
    "    return _init"
   ]
  },
  {
   "cell_type": "code",
   "execution_count": null,
   "id": "14bb4c8f-08e9-4def-9e41-3a6da34cbd13",
   "metadata": {},
   "outputs": [],
   "source": [
    "# venv = DummyVecEnv([make_env(0, i, config, 2) for i in range(2)])\n",
    "venv = SubprocVecEnv([make_env(0, i, config, 2) for i in range(2)])"
   ]
  },
  {
   "cell_type": "code",
   "execution_count": null,
   "id": "9ed35a65-db09-430c-ab8e-54f728563323",
   "metadata": {},
   "outputs": [],
   "source": [
    "venv"
   ]
  },
  {
   "cell_type": "code",
   "execution_count": null,
   "id": "2f5cdd8d-a24b-4a3f-89e6-fdd9f8f5519b",
   "metadata": {},
   "outputs": [],
   "source": [
    "policy_kwargs = dict(\n",
    "    features_extractor_class=ApfFeaturesExtractor,\n",
    "    features_extractor_kwargs=dict(features_dim=512),\n",
    ")\n",
    "model = PPO(\"CnnPolicy\", venv, policy_kwargs=policy_kwargs, verbose=1, device='cuda')"
   ]
  },
  {
   "cell_type": "code",
   "execution_count": null,
   "id": "1d8c4f93-e2c6-4741-8756-c5c6dc7b752e",
   "metadata": {},
   "outputs": [],
   "source": [
    "model.policy"
   ]
  },
  {
   "cell_type": "markdown",
   "id": "bb778786-7ce2-4dda-b2ec-7bda0b40c65c",
   "metadata": {
    "jp-MarkdownHeadingCollapsed": true
   },
   "source": [
    "# Simulator"
   ]
  },
  {
   "cell_type": "code",
   "execution_count": null,
   "id": "3e240709-0880-4f29-ad08-21394345cb1f",
   "metadata": {},
   "outputs": [],
   "source": [
    "episodes = 1\n",
    "for episode in range(1, episodes+1):\n",
    "    obs = env.reset()\n",
    "    done = False\n",
    "    score = 0 \n",
    "    avg_time = 0\n",
    "    step = 0\n",
    "    \n",
    "    while not done:\n",
    "        action = (0.0, 0.0)\n",
    "        start_time = time.time()\n",
    "        obs, reward, done, info = env.step(action)\n",
    "        end_time = time.time()\n",
    "        avg_time += (end_time - start_time)\n",
    "        step += 1\n",
    "        score+=reward\n",
    "        print(obs['local_goal'])\n",
    "        plt.imshow(obs['local_map'].reshape(obs['local_map'].shape[0],obs['local_map'].shape[1]), cmap='gray')\n",
    "        plt.colorbar()\n",
    "        plt.show()\n",
    "    print('Episode:{} Score:{}'.format(episode, score))\n",
    "    print('average step time ({} steps): {}s'.format(step, avg_time/step))\n",
    "env.close()"
   ]
  },
  {
   "cell_type": "markdown",
   "id": "d5478cb5-3d96-4f25-b32e-1ff7655b6cb0",
   "metadata": {
    "jp-MarkdownHeadingCollapsed": true
   },
   "source": [
    "# RL"
   ]
  },
  {
   "cell_type": "code",
   "execution_count": null,
   "id": "19cdb5c1-4f7c-44bc-b31e-7b2f16781d62",
   "metadata": {},
   "outputs": [],
   "source": []
  },
  {
   "cell_type": "code",
   "execution_count": null,
   "id": "bffe618a-17e6-4986-83a2-c14dfdbaf41a",
   "metadata": {},
   "outputs": [],
   "source": []
  },
  {
   "cell_type": "code",
   "execution_count": null,
   "id": "eb462ccb-16b0-4a66-9077-b82f0016f903",
   "metadata": {},
   "outputs": [],
   "source": []
  },
  {
   "cell_type": "code",
   "execution_count": null,
   "id": "84c0fc55-4b68-4f14-b5cc-3ecebd62585e",
   "metadata": {},
   "outputs": [],
   "source": [
    "import numpy as np\n",
    "  \n",
    "arr1 = np.array([0, 2, 3]).reshape(3,1)\n",
    "arr2 = np.array([5, 4, 9]).reshape(3,1)\n",
    "  \n",
    "gfg = np.concatenate((arr1, arr2), axis = 1)\n",
    "print(arr1.shape)\n",
    "print(arr2.shape)\n",
    "print(gfg.shape)"
   ]
  },
  {
   "cell_type": "code",
   "execution_count": null,
   "id": "25a14d82-6dc0-4978-804c-9318d45792a8",
   "metadata": {},
   "outputs": [],
   "source": [
    "import numpy as np\n",
    "  \n",
    "arr1 = np.array([[2, 4], [6, 8]])\n",
    "arr2 = np.array([[7], [7]])\n",
    "  \n",
    "gfg = np.concatenate((arr1, arr2), axis = 1)\n",
    "print(arr1.shape)\n",
    "print(arr2.shape)\n",
    "print(gfg.shape)"
   ]
  },
  {
   "cell_type": "code",
   "execution_count": null,
   "id": "49cc5d5e-af04-451a-83e6-e6e9bd1ec947",
   "metadata": {},
   "outputs": [],
   "source": [
    "emotion = np.random.rand(10)\n",
    "radius = np.random.rand(10)\n",
    "\n",
    "er = np.concatenate((emotion, radius), axis = 0)\n",
    "print(emotion.shape)\n",
    "print(radius.shape)\n",
    "print(er.shape)"
   ]
  },
  {
   "cell_type": "code",
   "execution_count": null,
   "id": "252fb86d-f568-4ee4-b5ad-55d6549c96b9",
   "metadata": {},
   "outputs": [],
   "source": []
  }
 ],
 "metadata": {
  "kernelspec": {
   "display_name": "Python 3 (ipykernel)",
   "language": "python",
   "name": "python3"
  },
  "language_info": {
   "codemirror_mode": {
    "name": "ipython",
    "version": 3
   },
   "file_extension": ".py",
   "mimetype": "text/x-python",
   "name": "python",
   "nbconvert_exporter": "python",
   "pygments_lexer": "ipython3",
   "version": "3.8.16"
  }
 },
 "nbformat": 4,
 "nbformat_minor": 5
}
