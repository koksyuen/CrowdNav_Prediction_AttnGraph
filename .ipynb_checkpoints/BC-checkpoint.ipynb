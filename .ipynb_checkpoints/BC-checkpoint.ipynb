{
 "cells": [
  {
   "cell_type": "markdown",
   "id": "83d403c0-3886-428f-aa4a-db26aab0b31d",
   "metadata": {},
   "source": [
    "# Dataset Collection"
   ]
  },
  {
   "cell_type": "code",
   "execution_count": 1,
   "id": "eed91801-54ad-4af0-bd58-c4e8dc9d5358",
   "metadata": {},
   "outputs": [],
   "source": [
    "import gym\n",
    "from tqdm import tqdm\n",
    "import numpy as np"
   ]
  },
  {
   "cell_type": "code",
   "execution_count": 2,
   "id": "68222533-9845-4778-a885-338de4559a62",
   "metadata": {},
   "outputs": [],
   "source": [
    "import torch as th\n",
    "import torch.nn as nn\n",
    "import torch.optim as optim\n",
    "from torch.optim.lr_scheduler import StepLR"
   ]
  },
  {
   "cell_type": "code",
   "execution_count": 3,
   "id": "2c3adc44-7cd0-46df-a94e-ef2a34a5defd",
   "metadata": {},
   "outputs": [],
   "source": [
    "from stable_baselines3.common.vec_env import DummyVecEnv, SubprocVecEnv, VecTransposeImage\n",
    "from stable_baselines3 import PPO, A2C, SAC, TD3\n",
    "from stable_baselines3.common.evaluation import evaluate_policy"
   ]
  },
  {
   "cell_type": "code",
   "execution_count": 4,
   "id": "14f4878a-78e7-4304-9214-f103b6d0ce7a",
   "metadata": {},
   "outputs": [],
   "source": [
    "from crowd_sim.envs.crowd_sim_sgan import CrowdSimSgan\n",
    "from crowd_sim.envs.crowd_sim_sgan_apf import CrowdSimSganApf\n",
    "from crowd_sim.envs.crowd_sim_no_pred import CrowdSimNoPred\n",
    "from crowd_sim.envs.crowd_sim_raw import CrowdSimRaw"
   ]
  },
  {
   "cell_type": "code",
   "execution_count": 5,
   "id": "6e31d16e-2614-4999-8603-c301c9506021",
   "metadata": {},
   "outputs": [],
   "source": [
    "from arguments import get_args\n",
    "from crowd_nav.configs.config import Config\n",
    "\n",
    "config = Config()"
   ]
  },
  {
   "cell_type": "code",
   "execution_count": 6,
   "id": "2dce1be8-e7e5-47c3-914d-daf92832c46f",
   "metadata": {},
   "outputs": [],
   "source": [
    "# env = CrowdSimSganApf()\n",
    "env = CrowdSimRaw()\n",
    "env.configure(config)\n",
    "env.setup(seed=0, num_of_env=1, ax=None)"
   ]
  },
  {
   "cell_type": "code",
   "execution_count": 7,
   "id": "c363c9b6-a480-4cbf-a8c0-21836655271b",
   "metadata": {},
   "outputs": [],
   "source": [
    "num_interactions = int(1e6)"
   ]
  },
  {
   "cell_type": "code",
   "execution_count": 8,
   "id": "4c401c25-a4e9-4e84-8993-2895faa20d55",
   "metadata": {},
   "outputs": [],
   "source": [
    "if isinstance(env.action_space, gym.spaces.Box):\n",
    "    expert_observations = np.empty((num_interactions,) + env.observation_space.shape)\n",
    "    expert_actions = np.empty((num_interactions,) + (env.action_space.shape[0],))\n",
    "\n",
    "else:\n",
    "    expert_observations = np.empty((num_interactions,) + env.observation_space.shape)\n",
    "    expert_actions = np.empty((num_interactions,) + env.action_space.shape)\n",
    "\n",
    "obs = env.reset()\n",
    "\n",
    "for i in tqdm(range(num_interactions)):\n",
    "    env.render()\n",
    "    action = np.array(env.calculate_orca())\n",
    "    expert_observations[i] = obs\n",
    "    expert_actions[i] = action\n",
    "    obs, reward, done, info = env.step(action)\n",
    "    if done:\n",
    "        obs = env.reset()\n",
    "\n",
    "np.savez_compressed(\n",
    "    \".train/BC/dataset\",\n",
    "    expert_actions=expert_actions,\n",
    "    expert_observations=expert_observations,\n",
    ")"
   ]
  }
 ],
 "metadata": {
  "kernelspec": {
   "display_name": "Python 3 (ipykernel)",
   "language": "python",
   "name": "python3"
  },
  "language_info": {
   "codemirror_mode": {
    "name": "ipython",
    "version": 3
   },
   "file_extension": ".py",
   "mimetype": "text/x-python",
   "name": "python",
   "nbconvert_exporter": "python",
   "pygments_lexer": "ipython3",
   "version": "3.8.16"
  }
 },
 "nbformat": 4,
 "nbformat_minor": 5
}
