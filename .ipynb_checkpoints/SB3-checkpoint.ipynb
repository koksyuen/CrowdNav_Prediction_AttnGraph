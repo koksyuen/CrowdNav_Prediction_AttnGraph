{
 "cells": [
  {
   "cell_type": "code",
   "execution_count": 1,
   "id": "e97b4997",
   "metadata": {},
   "outputs": [],
   "source": [
    "from crowd_sim import *\n",
    "import gym"
   ]
  },
  {
   "cell_type": "code",
   "execution_count": 2,
   "id": "bfafa5df",
   "metadata": {},
   "outputs": [],
   "source": [
    "from arguments import get_args\n",
    "from crowd_nav.configs.config import Config"
   ]
  },
  {
   "cell_type": "code",
   "execution_count": 3,
   "id": "b0ac9221",
   "metadata": {},
   "outputs": [],
   "source": [
    "env_id = 'CrowdSim-v0'\n",
    "# env_id = 'CrowdSimVarNum-v0'\n",
    "# env_id = 'CrowdSimSgan-v0'\n",
    "\n",
    "env = gym.make(env_id)"
   ]
  },
  {
   "cell_type": "code",
   "execution_count": 4,
   "id": "545b71de",
   "metadata": {},
   "outputs": [],
   "source": [
    "env_config = Config()\n",
    "env.configure(env_config)"
   ]
  },
  {
   "cell_type": "code",
   "execution_count": 5,
   "id": "2158e794",
   "metadata": {},
   "outputs": [],
   "source": [
    "env.set_seed(seed=1, num_of_env=1)"
   ]
  },
  {
   "cell_type": "code",
   "execution_count": 6,
   "id": "0f2d4d25",
   "metadata": {},
   "outputs": [],
   "source": [
    "obs = env.reset()"
   ]
  },
  {
   "cell_type": "code",
   "execution_count": 7,
   "id": "9d32cd46",
   "metadata": {},
   "outputs": [
    {
     "data": {
      "text/plain": [
       "array([ 1.        ,  4.22143132,  7.36067372,  0.        ,  0.        ,\n",
       "        0.3       , -7.11069911,  7.8102898 ,  1.        ,  5.89645679,\n",
       "       15.        , 15.        ,  0.        ,  0.        ,  0.3       ,\n",
       "       15.        , 15.        ,  0.        ,  0.        ,  0.3       ,\n",
       "       15.        , 15.        ,  0.        ,  0.        ,  0.3       ,\n",
       "       15.        , 15.        ,  0.        ,  0.        ,  0.3       ,\n",
       "       15.        , 15.        ,  0.        ,  0.        ,  0.3       ,\n",
       "       15.        , 15.        ,  0.        ,  0.        ,  0.3       ,\n",
       "       15.        , 15.        ,  0.        ,  0.        ,  0.3       ,\n",
       "       15.        , 15.        ,  0.        ,  0.        ,  0.3       ,\n",
       "       15.        , 15.        ,  0.        ,  0.        ,  0.3       ,\n",
       "       -1.46191029,  8.28597859,  0.        ,  0.        ,  0.46959339,\n",
       "       15.        , 15.        ,  0.        ,  0.        ,  0.3       ,\n",
       "       15.        , 15.        ,  0.        ,  0.        ,  0.3       ,\n",
       "       15.        , 15.        ,  0.        ,  0.        ,  0.3       ,\n",
       "       15.        , 15.        ,  0.        ,  0.        ,  0.3       ,\n",
       "       15.        , 15.        ,  0.        ,  0.        ,  0.3       ,\n",
       "       15.        , 15.        ,  0.        ,  0.        ,  0.3       ,\n",
       "       15.        , 15.        ,  0.        ,  0.        ,  0.3       ,\n",
       "       15.        , 15.        ,  0.        ,  0.        ,  0.3       ,\n",
       "       15.        , 15.        ,  0.        ,  0.        ,  0.3       ,\n",
       "       15.        , 15.        ,  0.        ,  0.        ,  0.3       ])"
      ]
     },
     "execution_count": 7,
     "metadata": {},
     "output_type": "execute_result"
    }
   ],
   "source": [
    "obs"
   ]
  },
  {
   "cell_type": "code",
   "execution_count": 9,
   "id": "9c73266d",
   "metadata": {},
   "outputs": [
    {
     "data": {
      "text/plain": [
       "(110,)"
      ]
     },
     "execution_count": 9,
     "metadata": {},
     "output_type": "execute_result"
    }
   ],
   "source": [
    "obs.shape"
   ]
  },
  {
   "cell_type": "code",
   "execution_count": null,
   "id": "7550529c",
   "metadata": {},
   "outputs": [],
   "source": [
    "from stable_baselines3.common.env_checker import check_env"
   ]
  },
  {
   "cell_type": "code",
   "execution_count": null,
   "id": "5134e260",
   "metadata": {},
   "outputs": [],
   "source": [
    "check_env(env, warn=True)"
   ]
  }
 ],
 "metadata": {
  "kernelspec": {
   "display_name": "Python 3 (ipykernel)",
   "language": "python",
   "name": "python3"
  },
  "language_info": {
   "codemirror_mode": {
    "name": "ipython",
    "version": 3
   },
   "file_extension": ".py",
   "mimetype": "text/x-python",
   "name": "python",
   "nbconvert_exporter": "python",
   "pygments_lexer": "ipython3",
   "version": "3.8.0"
  }
 },
 "nbformat": 4,
 "nbformat_minor": 5
}
