{
 "cells": [
  {
   "cell_type": "markdown",
   "id": "a24e95c3-5d6b-4f5e-99cb-09a6a1388d54",
   "metadata": {},
   "source": [
    "# Action Wrapper"
   ]
  },
  {
   "cell_type": "code",
   "execution_count": null,
   "id": "2e7e7ae1-a8fb-4e0f-8957-ded3031374c4",
   "metadata": {},
   "outputs": [],
   "source": [
    "import gym\n",
    "from gym.spaces import Discrete\n",
    "import numpy as np"
   ]
  },
  {
   "cell_type": "code",
   "execution_count": null,
   "id": "ca5da3bb-1d7d-4d60-b911-a3740cc7ad1f",
   "metadata": {},
   "outputs": [],
   "source": [
    "class DiscreteActions(gym.ActionWrapper):\n",
    "    def __init__(self, env, disc_to_cont):\n",
    "        super().__init__(env)\n",
    "        self.disc_to_cont = disc_to_cont\n",
    "        self.action_space = Discrete(len(disc_to_cont))\n",
    "    \n",
    "    def action(self, act):\n",
    "        return self.disc_to_cont[act]"
   ]
  },
  {
   "cell_type": "code",
   "execution_count": null,
   "id": "016f8972-4ee9-438e-9920-c339063bd90b",
   "metadata": {},
   "outputs": [],
   "source": [
    "'''\n",
    "0: Vx=0, Vy=0\n",
    "1: Vx=1, Vy=0\n",
    "2: Vx=0, Vy=1\n",
    "3: Vx=-1, Vy=0\n",
    "4: Vx=0, Vy=-1\n",
    "5: Vx=1, Vy=1\n",
    "6: Vx=-1, Vy=-1\n",
    "7: Vx=1, Vy=-1\n",
    "8: Vx=-1, Vy=1\n",
    "'''\n",
    "discrete_actions = [np.array([0,0]), np.array([1,0]),\n",
    "                    np.array([0,1]), np.array([-1,0]),\n",
    "                    np.array([0,-1]), np.array([1,1]),\n",
    "                    np.array([-1,-1]), np.array([1,-1]),\n",
    "                    np.array([-1,1])]"
   ]
  },
  {
   "cell_type": "markdown",
   "id": "8af4c8a9-98e4-4d1e-900e-2508e24cffbb",
   "metadata": {
    "jp-MarkdownHeadingCollapsed": true
   },
   "source": [
    "# Test environment (no render)"
   ]
  },
  {
   "cell_type": "code",
   "execution_count": null,
   "id": "68329c60-1483-4679-8d67-c45ac7ddd94f",
   "metadata": {},
   "outputs": [],
   "source": [
    "import time\n",
    "import matplotlib.pyplot as plt\n",
    "%matplotlib inline\n",
    "from crowd_sim.envs.crowd_sim_sgan import CrowdSimSgan\n",
    "from crowd_sim.envs.crowd_sim_no_pred import CrowdSimNoPred\n",
    "from arguments import get_args\n",
    "from crowd_nav.configs.config import Config\n",
    "config = Config()"
   ]
  },
  {
   "cell_type": "code",
   "execution_count": null,
   "id": "07e54cae-80d5-4d18-ba78-e4944efb7f59",
   "metadata": {},
   "outputs": [],
   "source": [
    "env = CrowdSimNoPred()\n",
    "# env = CrowdSimSgan()\n",
    "env.configure(config)\n",
    "\n",
    "env.setup(seed=0, num_of_env=1, ax=None)"
   ]
  },
  {
   "cell_type": "code",
   "execution_count": null,
   "id": "305cd9ff-c0ca-4aad-9593-139b40cce336",
   "metadata": {},
   "outputs": [],
   "source": [
    "env = DiscreteActions(env, discrete_actions)\n",
    "env.action_space"
   ]
  },
  {
   "cell_type": "code",
   "execution_count": null,
   "id": "76cb6bb2-e61f-44f1-bd81-cd181b7ea560",
   "metadata": {},
   "outputs": [],
   "source": [
    "step = 0\n",
    "episode = 0\n",
    "while step < 1000000:\n",
    "    obs = env.reset()\n",
    "    done = False\n",
    "    \n",
    "    while not done:\n",
    "        action = env.action_space.sample()\n",
    "        obs, reward, done, info = env.step(action)\n",
    "        step += 1\n",
    "    episode += 1\n",
    "    print('episode {}: {} steps'.format(episode, step))\n",
    "\n",
    "env.close()"
   ]
  },
  {
   "cell_type": "code",
   "execution_count": null,
   "id": "d1139731-5d3a-45e9-a597-5ff7e9a1502e",
   "metadata": {},
   "outputs": [],
   "source": [
    "episodes = 9\n",
    "for episode in range(1, episodes+1):\n",
    "    obs = env.reset()\n",
    "    done = False\n",
    "    score = 0 \n",
    "    avg_time = 0\n",
    "    step = 0\n",
    "    \n",
    "    while not done:\n",
    "        env.render()\n",
    "        action = episode - 1\n",
    "        start_time = time.time()\n",
    "        obs, reward, done, info = env.step(action)\n",
    "        end_time = time.time()\n",
    "        avg_time += (end_time - start_time)\n",
    "        step += 1\n",
    "        score+=reward\n",
    "        print(obs['local_goal'])\n",
    "    print('Episode:{} Score:{}'.format(episode, score))\n",
    "    print('average step time ({} steps): {}s'.format(step, avg_time/step))\n",
    "env.close()"
   ]
  },
  {
   "cell_type": "markdown",
   "id": "aae5c55a-f810-40b6-9462-492b8e074fa0",
   "metadata": {
    "jp-MarkdownHeadingCollapsed": true
   },
   "source": [
    "# Test environment (render simulation)"
   ]
  },
  {
   "cell_type": "code",
   "execution_count": null,
   "id": "6d28dae2-0300-4c89-890d-fe151e09d93d",
   "metadata": {},
   "outputs": [],
   "source": [
    "import time\n",
    "import matplotlib.pyplot as plt\n",
    "%matplotlib tk\n",
    "from crowd_sim.envs.crowd_sim_sgan import CrowdSimSgan\n",
    "from crowd_sim.envs.crowd_sim_no_pred import CrowdSimNoPred\n",
    "from arguments import get_args\n",
    "from crowd_nav.configs.config import Config\n",
    "config = Config()"
   ]
  },
  {
   "cell_type": "code",
   "execution_count": null,
   "id": "8a42e5ac-f19c-4dc3-b0a4-16faa6f88222",
   "metadata": {},
   "outputs": [],
   "source": [
    "fig = plt.figure(figsize=(7, 7))\n",
    "ax1 = plt.subplot()\n",
    "ax1.set_xlim(-10, 10)\n",
    "ax1.set_ylim(-10, 10)\n",
    "ax1.set_xlabel('x(m)', fontsize=16)\n",
    "ax1.set_ylabel('y(m)', fontsize=16)\n",
    "\n",
    "plt.ion()\n",
    "plt.show()"
   ]
  },
  {
   "cell_type": "code",
   "execution_count": null,
   "id": "218cbefb-c697-4b9c-928c-8159da80d081",
   "metadata": {},
   "outputs": [],
   "source": [
    "env = CrowdSimNoPred()\n",
    "# env = CrowdSimSgan()\n",
    "env.configure(config)\n",
    "\n",
    "env.setup(seed=0, num_of_env=1, ax=ax1)"
   ]
  },
  {
   "cell_type": "code",
   "execution_count": null,
   "id": "f0f5e61b-0853-4518-957b-a5800e716ea9",
   "metadata": {},
   "outputs": [],
   "source": [
    "env = DiscreteActions(env, discrete_actions)\n",
    "env.action_space"
   ]
  },
  {
   "cell_type": "code",
   "execution_count": null,
   "id": "b419d477-4cb2-4f48-adaa-600a70c451e1",
   "metadata": {},
   "outputs": [],
   "source": [
    "episodes = 9\n",
    "for episode in range(1, episodes+1):\n",
    "    obs = env.reset()\n",
    "    done = False\n",
    "    score = 0 \n",
    "    avg_time = 0\n",
    "    step = 0\n",
    "    \n",
    "    while not done:\n",
    "        env.render()\n",
    "        action = episode - 1\n",
    "        start_time = time.time()\n",
    "        obs, reward, done, info = env.step(action)\n",
    "        end_time = time.time()\n",
    "        avg_time += (end_time - start_time)\n",
    "        step += 1\n",
    "        score+=reward\n",
    "        print(obs['local_goal'])\n",
    "    print('Episode:{} Score:{}'.format(episode, score))\n",
    "    print('average step time ({} steps): {}s'.format(step, avg_time/step))\n",
    "env.close()"
   ]
  },
  {
   "cell_type": "markdown",
   "id": "b6406025-1525-47a7-aa13-5b4b11b01a07",
   "metadata": {},
   "source": [
    "# Training RL"
   ]
  },
  {
   "cell_type": "code",
   "execution_count": null,
   "id": "e97b4997",
   "metadata": {},
   "outputs": [],
   "source": [
    "from crowd_sim.envs.crowd_sim_sgan import CrowdSimSgan\n",
    "from crowd_sim.envs.crowd_sim_no_pred import CrowdSimNoPred\n",
    "import gym\n",
    "import time"
   ]
  },
  {
   "cell_type": "code",
   "execution_count": null,
   "id": "0334ee30-7888-4efc-9071-3d2b52eb20d7",
   "metadata": {
    "tags": []
   },
   "outputs": [],
   "source": [
    "from stable_baselines3.common.vec_env import DummyVecEnv, SubprocVecEnv\n",
    "from stable_baselines3.common.evaluation import evaluate_policy\n",
    "from stable_baselines3.common.env_util import make_vec_env\n",
    "from stable_baselines3.common.utils import set_random_seed\n",
    "from stable_baselines3 import DQN"
   ]
  },
  {
   "cell_type": "code",
   "execution_count": null,
   "id": "bfafa5df",
   "metadata": {},
   "outputs": [],
   "source": [
    "from arguments import get_args\n",
    "from crowd_nav.configs.config import Config\n",
    "\n",
    "config = Config()"
   ]
  },
  {
   "cell_type": "code",
   "execution_count": null,
   "id": "94a1b115-cce8-4526-b9a0-fee52120b6ed",
   "metadata": {},
   "outputs": [],
   "source": [
    "from stable_baselines3.common.callbacks import BaseCallback\n",
    "import os\n",
    "\n",
    "class TrainAndLoggingCallback(BaseCallback):\n",
    "\n",
    "    def __init__(self, check_freq, save_path, verbose=1):\n",
    "        super(TrainAndLoggingCallback, self).__init__(verbose)\n",
    "        self.check_freq = check_freq\n",
    "        self.save_path = save_path\n",
    "\n",
    "    def _init_callback(self):\n",
    "        if self.save_path is not None:\n",
    "            os.makedirs(self.save_path, exist_ok=True)\n",
    "\n",
    "    def _on_step(self):\n",
    "        if self.n_calls % self.check_freq == 0:\n",
    "            model_path = os.path.join(self.save_path, 'best_model_{}'.format(self.n_calls))\n",
    "            self.model.save(model_path)\n",
    "\n",
    "        return True"
   ]
  },
  {
   "cell_type": "code",
   "execution_count": null,
   "id": "bf52c12e-604b-4756-bbdf-ccc876261483",
   "metadata": {},
   "outputs": [],
   "source": [
    "CHECKPOINT_DIR = './train/DQN_SGAN/'\n",
    "LOG_DIR = './logs/SGAN/'"
   ]
  },
  {
   "cell_type": "code",
   "execution_count": null,
   "id": "d3851ea5-2e01-4e50-83c8-728a68592c65",
   "metadata": {},
   "outputs": [],
   "source": [
    "# env = CrowdSimNoPred()\n",
    "env = CrowdSimSgan()\n",
    "env.configure(config)\n",
    "env.setup(seed=0, num_of_env=1)\n",
    "\n",
    "env = DiscreteActions(env, discrete_actions)\n",
    "env.action_space"
   ]
  },
  {
   "cell_type": "code",
   "execution_count": null,
   "id": "7cebdf14-65ef-428f-9943-f43c46aa8c06",
   "metadata": {},
   "outputs": [],
   "source": [
    "callback = TrainAndLoggingCallback(check_freq=100000, save_path=CHECKPOINT_DIR)"
   ]
  },
  {
   "cell_type": "code",
   "execution_count": null,
   "id": "72f5eb6d-3302-4db1-aaa0-41cf058ffd5c",
   "metadata": {},
   "outputs": [],
   "source": [
    "# model = PPO('MultiInputPolicy', env, verbose=1, tensorboard_log=LOG_DIR, learning_rate=0.000001, \n",
    "#             n_steps=512) \n",
    "model = DQN('MultiInputPolicy', env, verbose=1, tensorboard_log=LOG_DIR) "
   ]
  },
  {
   "cell_type": "code",
   "execution_count": null,
   "id": "8cfbda1a-bfe8-4053-a53e-f9aa426fff44",
   "metadata": {},
   "outputs": [],
   "source": [
    "model.policy"
   ]
  },
  {
   "cell_type": "code",
   "execution_count": null,
   "id": "4360a9b5-3bd3-43ad-8377-572a7f304847",
   "metadata": {},
   "outputs": [],
   "source": [
    "model.learn(total_timesteps=2000000, callback=callback)"
   ]
  },
  {
   "cell_type": "code",
   "execution_count": null,
   "id": "6abbe8b8-6e79-4d01-989f-de08f92b39df",
   "metadata": {
    "editable": true,
    "slideshow": {
     "slide_type": ""
    },
    "tags": []
   },
   "outputs": [],
   "source": [
    "model.save('latestmodel')"
   ]
  },
  {
   "cell_type": "markdown",
   "id": "4c027158-a1d0-4883-be13-79947d9961e2",
   "metadata": {},
   "source": [
    "# 4. Test it Out"
   ]
  },
  {
   "cell_type": "code",
   "execution_count": null,
   "id": "94fb3194-195d-4e7a-8a29-406d7c6d485c",
   "metadata": {},
   "outputs": [],
   "source": [
    "from crowd_sim.envs.crowd_sim_sgan import CrowdSimSgan\n",
    "from crowd_sim.envs.crowd_sim_no_pred import CrowdSimNoPred\n",
    "import gym\n",
    "import time"
   ]
  },
  {
   "cell_type": "code",
   "execution_count": null,
   "id": "f7e5719c-f35f-4a6d-8019-ed1d32b23920",
   "metadata": {},
   "outputs": [],
   "source": [
    "from stable_baselines3.common.vec_env import DummyVecEnv, SubprocVecEnv\n",
    "from stable_baselines3.common.evaluation import evaluate_policy\n",
    "from stable_baselines3.common.env_util import make_vec_env\n",
    "from stable_baselines3.common.utils import set_random_seed\n",
    "from stable_baselines3 import DQN"
   ]
  },
  {
   "cell_type": "code",
   "execution_count": null,
   "id": "b07fc9f2-fa54-4472-946b-f4e4a5421921",
   "metadata": {},
   "outputs": [],
   "source": [
    "from arguments import get_args\n",
    "from crowd_nav.configs.config import Config\n",
    "\n",
    "config = Config()"
   ]
  },
  {
   "cell_type": "code",
   "execution_count": null,
   "id": "1f132f2e-90bf-4940-8c63-2ee995b82ae7",
   "metadata": {},
   "outputs": [],
   "source": [
    "import matplotlib.pyplot as plt\n",
    "%matplotlib tk"
   ]
  },
  {
   "cell_type": "code",
   "execution_count": null,
   "id": "9fe15991-1bee-43fe-9ee7-852e09a64b11",
   "metadata": {},
   "outputs": [],
   "source": [
    "fig = plt.figure(figsize=(7, 7))\n",
    "ax1 = plt.subplot()\n",
    "ax1.set_xlim(-10, 10)\n",
    "ax1.set_ylim(-10, 10)\n",
    "ax1.set_xlabel('x(m)', fontsize=16)\n",
    "ax1.set_ylabel('y(m)', fontsize=16)\n",
    "\n",
    "plt.ion()\n",
    "plt.show()"
   ]
  },
  {
   "cell_type": "code",
   "execution_count": null,
   "id": "cdf67145-3944-4d78-b787-9621d7f3655a",
   "metadata": {},
   "outputs": [],
   "source": [
    "env = CrowdSimNoPred()\n",
    "# env = CrowdSimSgan()\n",
    "env.configure(config)\n",
    "env.setup(seed=0, num_of_env=1, ax=ax1)\n",
    "\n",
    "env = DiscreteActions(env, discrete_actions)\n",
    "env.action_space"
   ]
  },
  {
   "cell_type": "code",
   "execution_count": null,
   "id": "b970fb1c-011f-4c84-9009-c6a803567af8",
   "metadata": {},
   "outputs": [],
   "source": [
    "# Load model\n",
    "model = DQN.load('./train/DQN_NoPred/best_model_900000', env)"
   ]
  },
  {
   "cell_type": "code",
   "execution_count": null,
   "id": "b5c04d1d-feee-4e76-8a2b-e9132d103ad8",
   "metadata": {},
   "outputs": [],
   "source": [
    "episodes = 5\n",
    "for episode in range(1, episodes+1):\n",
    "    obs = env.reset()\n",
    "    done = False\n",
    "    score = 0 \n",
    "    avg_time = 0\n",
    "    step = 0\n",
    "    \n",
    "    while not done:\n",
    "        env.render()\n",
    "        action, _states = model.predict(obs)\n",
    "        start_time = time.time()\n",
    "        obs, reward, done, info = env.step(action)\n",
    "        end_time = time.time()\n",
    "        avg_time += (end_time - start_time)\n",
    "        step += 1\n",
    "        score+=reward\n",
    "        # print(obs['local_goal'])\n",
    "    print('Episode:{} Score:{}'.format(episode, score))\n",
    "    print('average step time ({} steps): {}s'.format(step, avg_time/step))\n",
    "env.close()"
   ]
  },
  {
   "cell_type": "markdown",
   "id": "aaba766f-ad07-4c19-9ba6-297fa735145f",
   "metadata": {
    "jp-MarkdownHeadingCollapsed": true
   },
   "source": [
    "# Multi-processing"
   ]
  },
  {
   "cell_type": "code",
   "execution_count": null,
   "id": "b0ac9221",
   "metadata": {},
   "outputs": [],
   "source": [
    "# env_id = 'CrowdSim-v0'\n",
    "# env_id = 'CrowdSimVarNum-v0'\n",
    "# env_id = 'CrowdSimSgan-v0'\n",
    "\n",
    "num_cpu = 4  # Number of processes to use\n",
    "seed = 0"
   ]
  },
  {
   "cell_type": "code",
   "execution_count": null,
   "id": "fdc0e6a8-965c-485d-98ed-f3ba3099fd11",
   "metadata": {
    "tags": []
   },
   "outputs": [],
   "source": [
    "def make_env(seed, rank, env_config, envNum=1):\n",
    "    \"\"\"\n",
    "    Utility function for multiprocessed env.\n",
    "\n",
    "    :param env_id: (str) the environment ID\n",
    "    :param seed: (int) the inital seed for RNG\n",
    "    :param rank: (int) index of the subprocess\n",
    "    \"\"\"\n",
    "\n",
    "    def _init():\n",
    "        env = CrowdSimSgan()\n",
    "        # use a seed for reproducibility\n",
    "        # Important: use a different seed for each environment\n",
    "        # otherwise they would generate the same experiences\n",
    "        env.seed(seed + rank)\n",
    "        env.setup(seed=seed+rank, num_of_env=envNum)\n",
    "        env.configure(env_config)\n",
    "        return env\n",
    "\n",
    "    return _init"
   ]
  },
  {
   "cell_type": "code",
   "execution_count": null,
   "id": "545b71de",
   "metadata": {},
   "outputs": [],
   "source": [
    "envs = SubprocVecEnv([make_env(seed, i, config, num_cpu) for i in range(num_cpu)])"
   ]
  }
 ],
 "metadata": {
  "kernelspec": {
   "display_name": "Python 3",
   "language": "python",
   "name": "python3"
  },
  "language_info": {
   "codemirror_mode": {
    "name": "ipython",
    "version": 3
   },
   "file_extension": ".py",
   "mimetype": "text/x-python",
   "name": "python",
   "nbconvert_exporter": "python",
   "pygments_lexer": "ipython3",
   "version": "3.8.16"
  }
 },
 "nbformat": 4,
 "nbformat_minor": 5
}
