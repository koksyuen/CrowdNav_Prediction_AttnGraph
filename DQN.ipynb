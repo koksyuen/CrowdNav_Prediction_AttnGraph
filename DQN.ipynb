{
 "cells": [
  {
   "cell_type": "markdown",
   "id": "a24e95c3-5d6b-4f5e-99cb-09a6a1388d54",
   "metadata": {},
   "source": [
    "# Action Wrapper"
   ]
  },
  {
   "cell_type": "code",
   "execution_count": 7,
   "id": "2e7e7ae1-a8fb-4e0f-8957-ded3031374c4",
   "metadata": {},
   "outputs": [],
   "source": [
    "import gym\n",
    "from gym.spaces import Discrete\n",
    "import numpy as np"
   ]
  },
  {
   "cell_type": "code",
   "execution_count": 8,
   "id": "ca5da3bb-1d7d-4d60-b911-a3740cc7ad1f",
   "metadata": {},
   "outputs": [],
   "source": [
    "class DiscreteActions(gym.ActionWrapper):\n",
    "    def __init__(self, env, disc_to_cont):\n",
    "        super().__init__(env)\n",
    "        self.disc_to_cont = disc_to_cont\n",
    "        self.action_space = Discrete(len(disc_to_cont))\n",
    "    \n",
    "    def action(self, act):\n",
    "        return self.disc_to_cont[act]"
   ]
  },
  {
   "cell_type": "code",
   "execution_count": 9,
   "id": "016f8972-4ee9-438e-9920-c339063bd90b",
   "metadata": {},
   "outputs": [],
   "source": [
    "'''\n",
    "0: Vx=0, Vy=0\n",
    "1: Vx=1, Vy=0\n",
    "2: Vx=0, Vy=1\n",
    "3: Vx=-1, Vy=0\n",
    "4: Vx=0, Vy=-1\n",
    "5: Vx=1, Vy=1\n",
    "6: Vx=-1, Vy=-1\n",
    "7: Vx=1, Vy=-1\n",
    "8: Vx=-1, Vy=1\n",
    "'''\n",
    "discrete_actions = [np.array([0,0]), np.array([1,0]),\n",
    "                    np.array([0,1]), np.array([-1,0]),\n",
    "                    np.array([0,-1]), np.array([1,1]),\n",
    "                    np.array([-1,-1]), np.array([1,-1]),\n",
    "                    np.array([-1,1])]"
   ]
  },
  {
   "cell_type": "markdown",
   "id": "8af4c8a9-98e4-4d1e-900e-2508e24cffbb",
   "metadata": {
    "jp-MarkdownHeadingCollapsed": true
   },
   "source": [
    "# Test environment (no render)"
   ]
  },
  {
   "cell_type": "code",
   "execution_count": null,
   "id": "68329c60-1483-4679-8d67-c45ac7ddd94f",
   "metadata": {},
   "outputs": [],
   "source": [
    "import time\n",
    "import matplotlib.pyplot as plt\n",
    "%matplotlib inline\n",
    "from crowd_sim.envs.crowd_sim_sgan import CrowdSimSgan\n",
    "from crowd_sim.envs.crowd_sim_no_pred import CrowdSimNoPred\n",
    "from arguments import get_args\n",
    "from crowd_nav.configs.config import Config\n",
    "config = Config()"
   ]
  },
  {
   "cell_type": "code",
   "execution_count": null,
   "id": "07e54cae-80d5-4d18-ba78-e4944efb7f59",
   "metadata": {},
   "outputs": [],
   "source": [
    "env = CrowdSimNoPred()\n",
    "# env = CrowdSimSgan()\n",
    "env.configure(config)\n",
    "\n",
    "env.setup(seed=0, num_of_env=1, ax=None)"
   ]
  },
  {
   "cell_type": "code",
   "execution_count": null,
   "id": "305cd9ff-c0ca-4aad-9593-139b40cce336",
   "metadata": {},
   "outputs": [],
   "source": [
    "env = DiscreteActions(env, discrete_actions)\n",
    "env.action_space"
   ]
  },
  {
   "cell_type": "code",
   "execution_count": null,
   "id": "76cb6bb2-e61f-44f1-bd81-cd181b7ea560",
   "metadata": {},
   "outputs": [],
   "source": [
    "step = 0\n",
    "episode = 0\n",
    "while step < 1000000:\n",
    "    obs = env.reset()\n",
    "    done = False\n",
    "    \n",
    "    while not done:\n",
    "        action = env.action_space.sample()\n",
    "        obs, reward, done, info = env.step(action)\n",
    "        step += 1\n",
    "    episode += 1\n",
    "    print('episode {}: {} steps'.format(episode, step))\n",
    "\n",
    "env.close()"
   ]
  },
  {
   "cell_type": "code",
   "execution_count": null,
   "id": "d1139731-5d3a-45e9-a597-5ff7e9a1502e",
   "metadata": {},
   "outputs": [],
   "source": [
    "episodes = 9\n",
    "for episode in range(1, episodes+1):\n",
    "    obs = env.reset()\n",
    "    done = False\n",
    "    score = 0 \n",
    "    avg_time = 0\n",
    "    step = 0\n",
    "    \n",
    "    while not done:\n",
    "        env.render()\n",
    "        action = episode - 1\n",
    "        start_time = time.time()\n",
    "        obs, reward, done, info = env.step(action)\n",
    "        end_time = time.time()\n",
    "        avg_time += (end_time - start_time)\n",
    "        step += 1\n",
    "        score+=reward\n",
    "        print(obs['local_goal'])\n",
    "    print('Episode:{} Score:{}'.format(episode, score))\n",
    "    print('average step time ({} steps): {}s'.format(step, avg_time/step))\n",
    "env.close()"
   ]
  },
  {
   "cell_type": "markdown",
   "id": "aae5c55a-f810-40b6-9462-492b8e074fa0",
   "metadata": {},
   "source": [
    "# Test environment (render simulation)"
   ]
  },
  {
   "cell_type": "code",
   "execution_count": null,
   "id": "6d28dae2-0300-4c89-890d-fe151e09d93d",
   "metadata": {},
   "outputs": [],
   "source": [
    "import time\n",
    "import matplotlib.pyplot as plt\n",
    "%matplotlib tk\n",
    "from crowd_sim.envs.crowd_sim_sgan import CrowdSimSgan\n",
    "from crowd_sim.envs.crowd_sim_no_pred import CrowdSimNoPred\n",
    "from arguments import get_args\n",
    "from crowd_nav.configs.config import Config\n",
    "config = Config()"
   ]
  },
  {
   "cell_type": "code",
   "execution_count": null,
   "id": "8a42e5ac-f19c-4dc3-b0a4-16faa6f88222",
   "metadata": {},
   "outputs": [],
   "source": [
    "fig = plt.figure(figsize=(7, 7))\n",
    "ax1 = plt.subplot()\n",
    "ax1.set_xlim(-10, 10)\n",
    "ax1.set_ylim(-10, 10)\n",
    "ax1.set_xlabel('x(m)', fontsize=16)\n",
    "ax1.set_ylabel('y(m)', fontsize=16)\n",
    "\n",
    "plt.ion()\n",
    "plt.show()"
   ]
  },
  {
   "cell_type": "code",
   "execution_count": null,
   "id": "218cbefb-c697-4b9c-928c-8159da80d081",
   "metadata": {},
   "outputs": [],
   "source": [
    "# env = CrowdSimNoPred()\n",
    "env = CrowdSimSgan()\n",
    "env.configure(config)\n",
    "\n",
    "env.setup(seed=0, num_of_env=1, ax=ax1)"
   ]
  },
  {
   "cell_type": "code",
   "execution_count": null,
   "id": "f0f5e61b-0853-4518-957b-a5800e716ea9",
   "metadata": {},
   "outputs": [],
   "source": [
    "env = DiscreteActions(env, discrete_actions)\n",
    "env.action_space"
   ]
  },
  {
   "cell_type": "code",
   "execution_count": null,
   "id": "b419d477-4cb2-4f48-adaa-600a70c451e1",
   "metadata": {},
   "outputs": [],
   "source": [
    "episodes = 9\n",
    "for episode in range(1, episodes+1):\n",
    "    obs = env.reset()\n",
    "    done = False\n",
    "    score = 0 \n",
    "    avg_time = 0\n",
    "    step = 0\n",
    "    \n",
    "    while not done:\n",
    "        env.render()\n",
    "        action = env.action_space.sample()\n",
    "        start_time = time.time()\n",
    "        obs, reward, done, info = env.step(action)\n",
    "        end_time = time.time()\n",
    "        avg_time += (end_time - start_time)\n",
    "        step += 1\n",
    "        score+=reward\n",
    "        print(obs['local_goal'])\n",
    "    print('Episode:{} Score:{}'.format(episode, score))\n",
    "    print('average step time ({} steps): {}s'.format(step, avg_time/step))\n",
    "env.close()"
   ]
  },
  {
   "cell_type": "markdown",
   "id": "b6406025-1525-47a7-aa13-5b4b11b01a07",
   "metadata": {},
   "source": [
    "# Training RL"
   ]
  },
  {
   "cell_type": "code",
   "execution_count": 1,
   "id": "e97b4997",
   "metadata": {},
   "outputs": [],
   "source": [
    "from crowd_sim.envs.crowd_sim_sgan import CrowdSimSgan\n",
    "from crowd_sim.envs.crowd_sim_no_pred import CrowdSimNoPred\n",
    "import gym\n",
    "import time"
   ]
  },
  {
   "cell_type": "code",
   "execution_count": 2,
   "id": "0334ee30-7888-4efc-9071-3d2b52eb20d7",
   "metadata": {
    "tags": []
   },
   "outputs": [],
   "source": [
    "from stable_baselines3.common.vec_env import DummyVecEnv, SubprocVecEnv\n",
    "from stable_baselines3.common.evaluation import evaluate_policy\n",
    "from stable_baselines3.common.env_util import make_vec_env\n",
    "from stable_baselines3.common.utils import set_random_seed\n",
    "from stable_baselines3 import DQN"
   ]
  },
  {
   "cell_type": "code",
   "execution_count": 3,
   "id": "bfafa5df",
   "metadata": {},
   "outputs": [],
   "source": [
    "from arguments import get_args\n",
    "from crowd_nav.configs.config import Config\n",
    "\n",
    "config = Config()"
   ]
  },
  {
   "cell_type": "code",
   "execution_count": 4,
   "id": "94a1b115-cce8-4526-b9a0-fee52120b6ed",
   "metadata": {},
   "outputs": [],
   "source": [
    "from stable_baselines3.common.callbacks import BaseCallback\n",
    "import os\n",
    "\n",
    "class TrainAndLoggingCallback(BaseCallback):\n",
    "\n",
    "    def __init__(self, check_freq, save_path, verbose=1):\n",
    "        super(TrainAndLoggingCallback, self).__init__(verbose)\n",
    "        self.check_freq = check_freq\n",
    "        self.save_path = save_path\n",
    "\n",
    "    def _init_callback(self):\n",
    "        if self.save_path is not None:\n",
    "            os.makedirs(self.save_path, exist_ok=True)\n",
    "\n",
    "    def _on_step(self):\n",
    "        if self.n_calls % self.check_freq == 0:\n",
    "            model_path = os.path.join(self.save_path, 'best_model_{}'.format(self.n_calls))\n",
    "            self.model.save(model_path)\n",
    "\n",
    "        return True"
   ]
  },
  {
   "cell_type": "code",
   "execution_count": 5,
   "id": "bf52c12e-604b-4756-bbdf-ccc876261483",
   "metadata": {},
   "outputs": [],
   "source": [
    "CHECKPOINT_DIR = './train/DQN_SGAN/'\n",
    "LOG_DIR = './logs/SGAN/'"
   ]
  },
  {
   "cell_type": "code",
   "execution_count": 10,
   "id": "d3851ea5-2e01-4e50-83c8-728a68592c65",
   "metadata": {},
   "outputs": [
    {
     "data": {
      "text/plain": [
       "Discrete(9)"
      ]
     },
     "execution_count": 10,
     "metadata": {},
     "output_type": "execute_result"
    }
   ],
   "source": [
    "# env = CrowdSimNoPred()\n",
    "env = CrowdSimSgan()\n",
    "env.configure(config)\n",
    "env.setup(seed=0, num_of_env=1)\n",
    "\n",
    "env = DiscreteActions(env, discrete_actions)\n",
    "env.action_space"
   ]
  },
  {
   "cell_type": "code",
   "execution_count": 11,
   "id": "7cebdf14-65ef-428f-9943-f43c46aa8c06",
   "metadata": {},
   "outputs": [],
   "source": [
    "callback = TrainAndLoggingCallback(check_freq=100000, save_path=CHECKPOINT_DIR)"
   ]
  },
  {
   "cell_type": "code",
   "execution_count": 12,
   "id": "72f5eb6d-3302-4db1-aaa0-41cf058ffd5c",
   "metadata": {},
   "outputs": [
    {
     "name": "stdout",
     "output_type": "stream",
     "text": [
      "Using cuda device\n",
      "Wrapping the env with a `Monitor` wrapper\n",
      "Wrapping the env in a DummyVecEnv.\n",
      "Wrapping the env in a VecTransposeImage.\n"
     ]
    },
    {
     "ename": "MemoryError",
     "evalue": "Unable to allocate 53.6 GiB for an array with shape (1000000, 1, 1, 240, 240) and data type uint8",
     "output_type": "error",
     "traceback": [
      "\u001b[0;31m---------------------------------------------------------------------------\u001b[0m",
      "\u001b[0;31mMemoryError\u001b[0m                               Traceback (most recent call last)",
      "Input \u001b[0;32mIn [12]\u001b[0m, in \u001b[0;36m<cell line: 1>\u001b[0;34m()\u001b[0m\n\u001b[0;32m----> 1\u001b[0m model \u001b[38;5;241m=\u001b[39m \u001b[43mDQN\u001b[49m\u001b[43m(\u001b[49m\u001b[38;5;124;43m'\u001b[39;49m\u001b[38;5;124;43mMultiInputPolicy\u001b[39;49m\u001b[38;5;124;43m'\u001b[39;49m\u001b[43m,\u001b[49m\u001b[43m \u001b[49m\u001b[43menv\u001b[49m\u001b[43m,\u001b[49m\u001b[43m \u001b[49m\u001b[43mverbose\u001b[49m\u001b[38;5;241;43m=\u001b[39;49m\u001b[38;5;241;43m1\u001b[39;49m\u001b[43m,\u001b[49m\u001b[43m \u001b[49m\u001b[43mtensorboard_log\u001b[49m\u001b[38;5;241;43m=\u001b[39;49m\u001b[43mLOG_DIR\u001b[49m\u001b[43m)\u001b[49m \n",
      "File \u001b[0;32m~/anaconda3/envs/rl/lib/python3.8/site-packages/stable_baselines3/dqn/dqn.py:140\u001b[0m, in \u001b[0;36mDQN.__init__\u001b[0;34m(self, policy, env, learning_rate, buffer_size, learning_starts, batch_size, tau, gamma, train_freq, gradient_steps, replay_buffer_class, replay_buffer_kwargs, optimize_memory_usage, target_update_interval, exploration_fraction, exploration_initial_eps, exploration_final_eps, max_grad_norm, stats_window_size, tensorboard_log, policy_kwargs, verbose, seed, device, _init_setup_model)\u001b[0m\n\u001b[1;32m    137\u001b[0m \u001b[38;5;28mself\u001b[39m\u001b[38;5;241m.\u001b[39mq_net_target: th\u001b[38;5;241m.\u001b[39mnn\u001b[38;5;241m.\u001b[39mModule\n\u001b[1;32m    139\u001b[0m \u001b[38;5;28;01mif\u001b[39;00m _init_setup_model:\n\u001b[0;32m--> 140\u001b[0m     \u001b[38;5;28;43mself\u001b[39;49m\u001b[38;5;241;43m.\u001b[39;49m\u001b[43m_setup_model\u001b[49m\u001b[43m(\u001b[49m\u001b[43m)\u001b[49m\n",
      "File \u001b[0;32m~/anaconda3/envs/rl/lib/python3.8/site-packages/stable_baselines3/dqn/dqn.py:143\u001b[0m, in \u001b[0;36mDQN._setup_model\u001b[0;34m(self)\u001b[0m\n\u001b[1;32m    142\u001b[0m \u001b[38;5;28;01mdef\u001b[39;00m \u001b[38;5;21m_setup_model\u001b[39m(\u001b[38;5;28mself\u001b[39m) \u001b[38;5;241m-\u001b[39m\u001b[38;5;241m>\u001b[39m \u001b[38;5;28;01mNone\u001b[39;00m:\n\u001b[0;32m--> 143\u001b[0m     \u001b[38;5;28;43msuper\u001b[39;49m\u001b[43m(\u001b[49m\u001b[43m)\u001b[49m\u001b[38;5;241;43m.\u001b[39;49m\u001b[43m_setup_model\u001b[49m\u001b[43m(\u001b[49m\u001b[43m)\u001b[49m\n\u001b[1;32m    144\u001b[0m     \u001b[38;5;28mself\u001b[39m\u001b[38;5;241m.\u001b[39m_create_aliases()\n\u001b[1;32m    145\u001b[0m     \u001b[38;5;66;03m# Copy running stats, see GH issue #996\u001b[39;00m\n",
      "File \u001b[0;32m~/anaconda3/envs/rl/lib/python3.8/site-packages/stable_baselines3/common/off_policy_algorithm.py:188\u001b[0m, in \u001b[0;36mOffPolicyAlgorithm._setup_model\u001b[0;34m(self)\u001b[0m\n\u001b[1;32m    186\u001b[0m         \u001b[38;5;28;01massert\u001b[39;00m \u001b[38;5;28mself\u001b[39m\u001b[38;5;241m.\u001b[39menv \u001b[38;5;129;01mis\u001b[39;00m \u001b[38;5;129;01mnot\u001b[39;00m \u001b[38;5;28;01mNone\u001b[39;00m, \u001b[38;5;124m\"\u001b[39m\u001b[38;5;124mYou must pass an environment when using `HerReplayBuffer`\u001b[39m\u001b[38;5;124m\"\u001b[39m\n\u001b[1;32m    187\u001b[0m         replay_buffer_kwargs[\u001b[38;5;124m\"\u001b[39m\u001b[38;5;124menv\u001b[39m\u001b[38;5;124m\"\u001b[39m] \u001b[38;5;241m=\u001b[39m \u001b[38;5;28mself\u001b[39m\u001b[38;5;241m.\u001b[39menv\n\u001b[0;32m--> 188\u001b[0m     \u001b[38;5;28mself\u001b[39m\u001b[38;5;241m.\u001b[39mreplay_buffer \u001b[38;5;241m=\u001b[39m \u001b[38;5;28;43mself\u001b[39;49m\u001b[38;5;241;43m.\u001b[39;49m\u001b[43mreplay_buffer_class\u001b[49m\u001b[43m(\u001b[49m\n\u001b[1;32m    189\u001b[0m \u001b[43m        \u001b[49m\u001b[38;5;28;43mself\u001b[39;49m\u001b[38;5;241;43m.\u001b[39;49m\u001b[43mbuffer_size\u001b[49m\u001b[43m,\u001b[49m\n\u001b[1;32m    190\u001b[0m \u001b[43m        \u001b[49m\u001b[38;5;28;43mself\u001b[39;49m\u001b[38;5;241;43m.\u001b[39;49m\u001b[43mobservation_space\u001b[49m\u001b[43m,\u001b[49m\n\u001b[1;32m    191\u001b[0m \u001b[43m        \u001b[49m\u001b[38;5;28;43mself\u001b[39;49m\u001b[38;5;241;43m.\u001b[39;49m\u001b[43maction_space\u001b[49m\u001b[43m,\u001b[49m\n\u001b[1;32m    192\u001b[0m \u001b[43m        \u001b[49m\u001b[43mdevice\u001b[49m\u001b[38;5;241;43m=\u001b[39;49m\u001b[38;5;28;43mself\u001b[39;49m\u001b[38;5;241;43m.\u001b[39;49m\u001b[43mdevice\u001b[49m\u001b[43m,\u001b[49m\n\u001b[1;32m    193\u001b[0m \u001b[43m        \u001b[49m\u001b[43mn_envs\u001b[49m\u001b[38;5;241;43m=\u001b[39;49m\u001b[38;5;28;43mself\u001b[39;49m\u001b[38;5;241;43m.\u001b[39;49m\u001b[43mn_envs\u001b[49m\u001b[43m,\u001b[49m\n\u001b[1;32m    194\u001b[0m \u001b[43m        \u001b[49m\u001b[43moptimize_memory_usage\u001b[49m\u001b[38;5;241;43m=\u001b[39;49m\u001b[38;5;28;43mself\u001b[39;49m\u001b[38;5;241;43m.\u001b[39;49m\u001b[43moptimize_memory_usage\u001b[49m\u001b[43m,\u001b[49m\n\u001b[1;32m    195\u001b[0m \u001b[43m        \u001b[49m\u001b[38;5;241;43m*\u001b[39;49m\u001b[38;5;241;43m*\u001b[39;49m\u001b[43mreplay_buffer_kwargs\u001b[49m\u001b[43m,\u001b[49m\u001b[43m  \u001b[49m\u001b[38;5;66;43;03m# pytype:disable=wrong-keyword-args\u001b[39;49;00m\n\u001b[1;32m    196\u001b[0m \u001b[43m    \u001b[49m\u001b[43m)\u001b[49m\n\u001b[1;32m    198\u001b[0m \u001b[38;5;28mself\u001b[39m\u001b[38;5;241m.\u001b[39mpolicy \u001b[38;5;241m=\u001b[39m \u001b[38;5;28mself\u001b[39m\u001b[38;5;241m.\u001b[39mpolicy_class(  \u001b[38;5;66;03m# pytype:disable=not-instantiable\u001b[39;00m\n\u001b[1;32m    199\u001b[0m     \u001b[38;5;28mself\u001b[39m\u001b[38;5;241m.\u001b[39mobservation_space,\n\u001b[1;32m    200\u001b[0m     \u001b[38;5;28mself\u001b[39m\u001b[38;5;241m.\u001b[39maction_space,\n\u001b[1;32m    201\u001b[0m     \u001b[38;5;28mself\u001b[39m\u001b[38;5;241m.\u001b[39mlr_schedule,\n\u001b[1;32m    202\u001b[0m     \u001b[38;5;241m*\u001b[39m\u001b[38;5;241m*\u001b[39m\u001b[38;5;28mself\u001b[39m\u001b[38;5;241m.\u001b[39mpolicy_kwargs,  \u001b[38;5;66;03m# pytype:disable=not-instantiable\u001b[39;00m\n\u001b[1;32m    203\u001b[0m )\n\u001b[1;32m    204\u001b[0m \u001b[38;5;28mself\u001b[39m\u001b[38;5;241m.\u001b[39mpolicy \u001b[38;5;241m=\u001b[39m \u001b[38;5;28mself\u001b[39m\u001b[38;5;241m.\u001b[39mpolicy\u001b[38;5;241m.\u001b[39mto(\u001b[38;5;28mself\u001b[39m\u001b[38;5;241m.\u001b[39mdevice)\n",
      "File \u001b[0;32m~/anaconda3/envs/rl/lib/python3.8/site-packages/stable_baselines3/common/buffers.py:530\u001b[0m, in \u001b[0;36mDictReplayBuffer.__init__\u001b[0;34m(self, buffer_size, observation_space, action_space, device, n_envs, optimize_memory_usage, handle_timeout_termination)\u001b[0m\n\u001b[1;32m    526\u001b[0m \u001b[38;5;66;03m# disabling as this adds quite a bit of complexity\u001b[39;00m\n\u001b[1;32m    527\u001b[0m \u001b[38;5;66;03m# https://github.com/DLR-RM/stable-baselines3/pull/243#discussion_r531535702\u001b[39;00m\n\u001b[1;32m    528\u001b[0m \u001b[38;5;28mself\u001b[39m\u001b[38;5;241m.\u001b[39moptimize_memory_usage \u001b[38;5;241m=\u001b[39m optimize_memory_usage\n\u001b[0;32m--> 530\u001b[0m \u001b[38;5;28mself\u001b[39m\u001b[38;5;241m.\u001b[39mobservations \u001b[38;5;241m=\u001b[39m {\n\u001b[1;32m    531\u001b[0m     key: np\u001b[38;5;241m.\u001b[39mzeros((\u001b[38;5;28mself\u001b[39m\u001b[38;5;241m.\u001b[39mbuffer_size, \u001b[38;5;28mself\u001b[39m\u001b[38;5;241m.\u001b[39mn_envs, \u001b[38;5;241m*\u001b[39m_obs_shape), dtype\u001b[38;5;241m=\u001b[39mobservation_space[key]\u001b[38;5;241m.\u001b[39mdtype)\n\u001b[1;32m    532\u001b[0m     \u001b[38;5;28;01mfor\u001b[39;00m key, _obs_shape \u001b[38;5;129;01min\u001b[39;00m \u001b[38;5;28mself\u001b[39m\u001b[38;5;241m.\u001b[39mobs_shape\u001b[38;5;241m.\u001b[39mitems()\n\u001b[1;32m    533\u001b[0m }\n\u001b[1;32m    534\u001b[0m \u001b[38;5;28mself\u001b[39m\u001b[38;5;241m.\u001b[39mnext_observations \u001b[38;5;241m=\u001b[39m {\n\u001b[1;32m    535\u001b[0m     key: np\u001b[38;5;241m.\u001b[39mzeros((\u001b[38;5;28mself\u001b[39m\u001b[38;5;241m.\u001b[39mbuffer_size, \u001b[38;5;28mself\u001b[39m\u001b[38;5;241m.\u001b[39mn_envs, \u001b[38;5;241m*\u001b[39m_obs_shape), dtype\u001b[38;5;241m=\u001b[39mobservation_space[key]\u001b[38;5;241m.\u001b[39mdtype)\n\u001b[1;32m    536\u001b[0m     \u001b[38;5;28;01mfor\u001b[39;00m key, _obs_shape \u001b[38;5;129;01min\u001b[39;00m \u001b[38;5;28mself\u001b[39m\u001b[38;5;241m.\u001b[39mobs_shape\u001b[38;5;241m.\u001b[39mitems()\n\u001b[1;32m    537\u001b[0m }\n\u001b[1;32m    539\u001b[0m \u001b[38;5;28mself\u001b[39m\u001b[38;5;241m.\u001b[39mactions \u001b[38;5;241m=\u001b[39m np\u001b[38;5;241m.\u001b[39mzeros((\u001b[38;5;28mself\u001b[39m\u001b[38;5;241m.\u001b[39mbuffer_size, \u001b[38;5;28mself\u001b[39m\u001b[38;5;241m.\u001b[39mn_envs, \u001b[38;5;28mself\u001b[39m\u001b[38;5;241m.\u001b[39maction_dim), dtype\u001b[38;5;241m=\u001b[39maction_space\u001b[38;5;241m.\u001b[39mdtype)\n",
      "File \u001b[0;32m~/anaconda3/envs/rl/lib/python3.8/site-packages/stable_baselines3/common/buffers.py:531\u001b[0m, in \u001b[0;36m<dictcomp>\u001b[0;34m(.0)\u001b[0m\n\u001b[1;32m    526\u001b[0m \u001b[38;5;66;03m# disabling as this adds quite a bit of complexity\u001b[39;00m\n\u001b[1;32m    527\u001b[0m \u001b[38;5;66;03m# https://github.com/DLR-RM/stable-baselines3/pull/243#discussion_r531535702\u001b[39;00m\n\u001b[1;32m    528\u001b[0m \u001b[38;5;28mself\u001b[39m\u001b[38;5;241m.\u001b[39moptimize_memory_usage \u001b[38;5;241m=\u001b[39m optimize_memory_usage\n\u001b[1;32m    530\u001b[0m \u001b[38;5;28mself\u001b[39m\u001b[38;5;241m.\u001b[39mobservations \u001b[38;5;241m=\u001b[39m {\n\u001b[0;32m--> 531\u001b[0m     key: \u001b[43mnp\u001b[49m\u001b[38;5;241;43m.\u001b[39;49m\u001b[43mzeros\u001b[49m\u001b[43m(\u001b[49m\u001b[43m(\u001b[49m\u001b[38;5;28;43mself\u001b[39;49m\u001b[38;5;241;43m.\u001b[39;49m\u001b[43mbuffer_size\u001b[49m\u001b[43m,\u001b[49m\u001b[43m \u001b[49m\u001b[38;5;28;43mself\u001b[39;49m\u001b[38;5;241;43m.\u001b[39;49m\u001b[43mn_envs\u001b[49m\u001b[43m,\u001b[49m\u001b[43m \u001b[49m\u001b[38;5;241;43m*\u001b[39;49m\u001b[43m_obs_shape\u001b[49m\u001b[43m)\u001b[49m\u001b[43m,\u001b[49m\u001b[43m \u001b[49m\u001b[43mdtype\u001b[49m\u001b[38;5;241;43m=\u001b[39;49m\u001b[43mobservation_space\u001b[49m\u001b[43m[\u001b[49m\u001b[43mkey\u001b[49m\u001b[43m]\u001b[49m\u001b[38;5;241;43m.\u001b[39;49m\u001b[43mdtype\u001b[49m\u001b[43m)\u001b[49m\n\u001b[1;32m    532\u001b[0m     \u001b[38;5;28;01mfor\u001b[39;00m key, _obs_shape \u001b[38;5;129;01min\u001b[39;00m \u001b[38;5;28mself\u001b[39m\u001b[38;5;241m.\u001b[39mobs_shape\u001b[38;5;241m.\u001b[39mitems()\n\u001b[1;32m    533\u001b[0m }\n\u001b[1;32m    534\u001b[0m \u001b[38;5;28mself\u001b[39m\u001b[38;5;241m.\u001b[39mnext_observations \u001b[38;5;241m=\u001b[39m {\n\u001b[1;32m    535\u001b[0m     key: np\u001b[38;5;241m.\u001b[39mzeros((\u001b[38;5;28mself\u001b[39m\u001b[38;5;241m.\u001b[39mbuffer_size, \u001b[38;5;28mself\u001b[39m\u001b[38;5;241m.\u001b[39mn_envs, \u001b[38;5;241m*\u001b[39m_obs_shape), dtype\u001b[38;5;241m=\u001b[39mobservation_space[key]\u001b[38;5;241m.\u001b[39mdtype)\n\u001b[1;32m    536\u001b[0m     \u001b[38;5;28;01mfor\u001b[39;00m key, _obs_shape \u001b[38;5;129;01min\u001b[39;00m \u001b[38;5;28mself\u001b[39m\u001b[38;5;241m.\u001b[39mobs_shape\u001b[38;5;241m.\u001b[39mitems()\n\u001b[1;32m    537\u001b[0m }\n\u001b[1;32m    539\u001b[0m \u001b[38;5;28mself\u001b[39m\u001b[38;5;241m.\u001b[39mactions \u001b[38;5;241m=\u001b[39m np\u001b[38;5;241m.\u001b[39mzeros((\u001b[38;5;28mself\u001b[39m\u001b[38;5;241m.\u001b[39mbuffer_size, \u001b[38;5;28mself\u001b[39m\u001b[38;5;241m.\u001b[39mn_envs, \u001b[38;5;28mself\u001b[39m\u001b[38;5;241m.\u001b[39maction_dim), dtype\u001b[38;5;241m=\u001b[39maction_space\u001b[38;5;241m.\u001b[39mdtype)\n",
      "\u001b[0;31mMemoryError\u001b[0m: Unable to allocate 53.6 GiB for an array with shape (1000000, 1, 1, 240, 240) and data type uint8"
     ]
    }
   ],
   "source": [
    "model = DQN('MultiInputPolicy', env, verbose=1, tensorboard_log=LOG_DIR) "
   ]
  },
  {
   "cell_type": "code",
   "execution_count": null,
   "id": "8cfbda1a-bfe8-4053-a53e-f9aa426fff44",
   "metadata": {},
   "outputs": [],
   "source": [
    "model.policy"
   ]
  },
  {
   "cell_type": "code",
   "execution_count": null,
   "id": "4360a9b5-3bd3-43ad-8377-572a7f304847",
   "metadata": {},
   "outputs": [],
   "source": [
    "model.learn(total_timesteps=3000000, callback=callback)"
   ]
  },
  {
   "cell_type": "code",
   "execution_count": null,
   "id": "6abbe8b8-6e79-4d01-989f-de08f92b39df",
   "metadata": {
    "editable": true,
    "slideshow": {
     "slide_type": ""
    },
    "tags": []
   },
   "outputs": [],
   "source": [
    "model.save('latestmodel')"
   ]
  },
  {
   "cell_type": "markdown",
   "id": "4c027158-a1d0-4883-be13-79947d9961e2",
   "metadata": {},
   "source": [
    "# 4. Test it Out"
   ]
  },
  {
   "cell_type": "code",
   "execution_count": null,
   "id": "94fb3194-195d-4e7a-8a29-406d7c6d485c",
   "metadata": {},
   "outputs": [],
   "source": [
    "from crowd_sim.envs.crowd_sim_sgan import CrowdSimSgan\n",
    "from crowd_sim.envs.crowd_sim_no_pred import CrowdSimNoPred\n",
    "import gym\n",
    "import time"
   ]
  },
  {
   "cell_type": "code",
   "execution_count": null,
   "id": "f7e5719c-f35f-4a6d-8019-ed1d32b23920",
   "metadata": {},
   "outputs": [],
   "source": [
    "from stable_baselines3.common.vec_env import DummyVecEnv, SubprocVecEnv\n",
    "from stable_baselines3.common.evaluation import evaluate_policy\n",
    "from stable_baselines3.common.env_util import make_vec_env\n",
    "from stable_baselines3.common.utils import set_random_seed\n",
    "from stable_baselines3 import DQN"
   ]
  },
  {
   "cell_type": "code",
   "execution_count": null,
   "id": "b07fc9f2-fa54-4472-946b-f4e4a5421921",
   "metadata": {},
   "outputs": [],
   "source": [
    "from arguments import get_args\n",
    "from crowd_nav.configs.config import Config\n",
    "\n",
    "config = Config()"
   ]
  },
  {
   "cell_type": "code",
   "execution_count": null,
   "id": "1f132f2e-90bf-4940-8c63-2ee995b82ae7",
   "metadata": {},
   "outputs": [],
   "source": [
    "import matplotlib.pyplot as plt\n",
    "%matplotlib tk"
   ]
  },
  {
   "cell_type": "code",
   "execution_count": null,
   "id": "9fe15991-1bee-43fe-9ee7-852e09a64b11",
   "metadata": {},
   "outputs": [],
   "source": [
    "fig = plt.figure(figsize=(7, 7))\n",
    "ax1 = plt.subplot()\n",
    "ax1.set_xlim(-10, 10)\n",
    "ax1.set_ylim(-10, 10)\n",
    "ax1.set_xlabel('x(m)', fontsize=16)\n",
    "ax1.set_ylabel('y(m)', fontsize=16)\n",
    "\n",
    "plt.ion()\n",
    "plt.show()"
   ]
  },
  {
   "cell_type": "code",
   "execution_count": null,
   "id": "cdf67145-3944-4d78-b787-9621d7f3655a",
   "metadata": {},
   "outputs": [],
   "source": [
    "# env = CrowdSimNoPred()\n",
    "env = CrowdSimSgan()\n",
    "env.configure(config)\n",
    "env.setup(seed=0, num_of_env=1, ax=ax1)\n",
    "\n",
    "env = DiscreteActions(env, discrete_actions)\n",
    "env.action_space"
   ]
  },
  {
   "cell_type": "code",
   "execution_count": null,
   "id": "b8ada4b1-1ff4-4d74-b59a-d0be6db7d51b",
   "metadata": {},
   "outputs": [],
   "source": [
    "CHECKPOINT_DIR = './train/DQN_SGAN/'\n",
    "LOG_DIR = './logs/SGAN/'"
   ]
  },
  {
   "cell_type": "code",
   "execution_count": null,
   "id": "b970fb1c-011f-4c84-9009-c6a803567af8",
   "metadata": {},
   "outputs": [],
   "source": [
    "# Load model\n",
    "model = DQN.load('./train/DQN_SGAN/latestmodel', env, tensorboard_log=LOG_DIR)"
   ]
  },
  {
   "cell_type": "code",
   "execution_count": null,
   "id": "b5c04d1d-feee-4e76-8a2b-e9132d103ad8",
   "metadata": {},
   "outputs": [],
   "source": [
    "episodes = 5\n",
    "for episode in range(1, episodes+1):\n",
    "    obs = env.reset()\n",
    "    done = False\n",
    "    score = 0 \n",
    "    avg_time = 0\n",
    "    step = 0\n",
    "    \n",
    "    while not done:\n",
    "        env.render()\n",
    "        action, _states = model.predict(obs)\n",
    "        start_time = time.time()\n",
    "        obs, reward, done, info = env.step(action)\n",
    "        end_time = time.time()\n",
    "        avg_time += (end_time - start_time)\n",
    "        step += 1\n",
    "        score+=reward\n",
    "        # print(obs['local_goal'])\n",
    "    print('Episode:{} Score:{}'.format(episode, score))\n",
    "    print('average step time ({} steps): {}s'.format(step, avg_time/step))\n",
    "env.close()"
   ]
  },
  {
   "cell_type": "markdown",
   "id": "aaba766f-ad07-4c19-9ba6-297fa735145f",
   "metadata": {},
   "source": [
    "# Multi-processing"
   ]
  },
  {
   "cell_type": "code",
   "execution_count": null,
   "id": "f1f1cfd2-cb98-4989-9ee0-cd76b63db93a",
   "metadata": {},
   "outputs": [],
   "source": [
    "from crowd_sim.envs.crowd_sim_sgan import CrowdSimSgan\n",
    "from crowd_sim.envs.crowd_sim_no_pred import CrowdSimNoPred\n",
    "import gym\n",
    "import time"
   ]
  },
  {
   "cell_type": "code",
   "execution_count": null,
   "id": "2ff2f23c-cad7-4f1c-a2e9-aadd4208b37e",
   "metadata": {
    "tags": []
   },
   "outputs": [],
   "source": [
    "from stable_baselines3.common.vec_env import DummyVecEnv, SubprocVecEnv\n",
    "from stable_baselines3.common.evaluation import evaluate_policy\n",
    "from stable_baselines3.common.env_util import make_vec_env\n",
    "from stable_baselines3.common.utils import set_random_seed\n",
    "from stable_baselines3 import DQN"
   ]
  },
  {
   "cell_type": "code",
   "execution_count": null,
   "id": "16f41a4e-7255-4555-a1e6-144a21cf1779",
   "metadata": {},
   "outputs": [],
   "source": [
    "from arguments import get_args\n",
    "from crowd_nav.configs.config import Config\n",
    "\n",
    "config = Config()"
   ]
  },
  {
   "cell_type": "code",
   "execution_count": null,
   "id": "6cf74937-f06b-447a-a996-c1ff1cb056c7",
   "metadata": {},
   "outputs": [],
   "source": [
    "from stable_baselines3.common.callbacks import BaseCallback\n",
    "import os\n",
    "\n",
    "class TrainAndLoggingCallback(BaseCallback):\n",
    "\n",
    "    def __init__(self, check_freq, save_path, verbose=1):\n",
    "        super(TrainAndLoggingCallback, self).__init__(verbose)\n",
    "        self.check_freq = check_freq\n",
    "        self.save_path = save_path\n",
    "\n",
    "    def _init_callback(self):\n",
    "        if self.save_path is not None:\n",
    "            os.makedirs(self.save_path, exist_ok=True)\n",
    "\n",
    "    def _on_step(self):\n",
    "        if self.n_calls % self.check_freq == 0:\n",
    "            model_path = os.path.join(self.save_path, 'best_model_{}'.format(self.n_calls))\n",
    "            self.model.save(model_path)\n",
    "\n",
    "        return True"
   ]
  },
  {
   "cell_type": "code",
   "execution_count": null,
   "id": "b0ac9221",
   "metadata": {},
   "outputs": [],
   "source": [
    "num_cpu = 6  # Number of processes/threads to use\n",
    "seed = 0"
   ]
  },
  {
   "cell_type": "code",
   "execution_count": null,
   "id": "fdc0e6a8-965c-485d-98ed-f3ba3099fd11",
   "metadata": {
    "tags": []
   },
   "outputs": [],
   "source": [
    "def make_env(seed, rank, env_config, envNum=1):\n",
    "    \"\"\"\n",
    "    Utility function for multiprocessed env.\n",
    "\n",
    "    :param env_id: (str) the environment ID\n",
    "    :param seed: (int) the inital seed for RNG\n",
    "    :param rank: (int) index of the subprocess\n",
    "    \"\"\"\n",
    "\n",
    "    def _init():\n",
    "        env = CrowdSimSgan()\n",
    "        # use a seed for reproducibility\n",
    "        # Important: use a different seed for each environment\n",
    "        # otherwise they would generate the same experiences\n",
    "        env.seed(seed + rank)\n",
    "        env.setup(seed=seed+rank, num_of_env=envNum)\n",
    "        env.configure(env_config)\n",
    "        env = DiscreteActions(env, discrete_actions)\n",
    "        env.action_space\n",
    "        return env\n",
    "\n",
    "    return _init"
   ]
  },
  {
   "cell_type": "code",
   "execution_count": null,
   "id": "545b71de",
   "metadata": {},
   "outputs": [],
   "source": [
    "envs = SubprocVecEnv([make_env(seed, i, config, num_cpu) for i in range(num_cpu)])"
   ]
  },
  {
   "cell_type": "code",
   "execution_count": null,
   "id": "563022f0-1da0-4a80-9c69-aee8fd8ad700",
   "metadata": {},
   "outputs": [],
   "source": [
    "CHECKPOINT_DIR = './train/DQN_SGAN/'\n",
    "LOG_DIR = './logs/SGAN/'"
   ]
  },
  {
   "cell_type": "code",
   "execution_count": null,
   "id": "b85e056d-83fb-4acb-8c6f-12d3a4d20124",
   "metadata": {},
   "outputs": [],
   "source": [
    "model = DQN('MultiInputPolicy', envs, verbose=1, tensorboard_log=LOG_DIR) "
   ]
  },
  {
   "cell_type": "code",
   "execution_count": null,
   "id": "422d5c21-89b1-41de-8a72-dc180946e69d",
   "metadata": {},
   "outputs": [],
   "source": [
    "callback = TrainAndLoggingCallback(check_freq=100000, save_path=CHECKPOINT_DIR)"
   ]
  },
  {
   "cell_type": "code",
   "execution_count": null,
   "id": "414561b9-1def-4382-bbc6-0ff211ba5d53",
   "metadata": {},
   "outputs": [],
   "source": [
    "model.learn(total_timesteps=2000000, callback=callback)"
   ]
  },
  {
   "cell_type": "code",
   "execution_count": null,
   "id": "0c81a84a-4015-4daf-b3ed-3d2e0a9fe33c",
   "metadata": {},
   "outputs": [],
   "source": []
  }
 ],
 "metadata": {
  "kernelspec": {
   "display_name": "Python 3 (ipykernel)",
   "language": "python",
   "name": "python3"
  },
  "language_info": {
   "codemirror_mode": {
    "name": "ipython",
    "version": 3
   },
   "file_extension": ".py",
   "mimetype": "text/x-python",
   "name": "python",
   "nbconvert_exporter": "python",
   "pygments_lexer": "ipython3",
   "version": "3.8.16"
  }
 },
 "nbformat": 4,
 "nbformat_minor": 5
}
